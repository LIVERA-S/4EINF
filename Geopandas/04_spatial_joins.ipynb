{
  "cells": [
    {
      "cell_type": "markdown",
      "metadata": {
        "id": "DDsW5rqic_Ab"
      },
      "source": [
        "# Spatial joins"
      ]
    },
    {
      "cell_type": "markdown",
      "metadata": {
        "id": "2i_lR9-zc_Af"
      },
      "source": [
        "Goals of this notebook:\n",
        "\n",
        "- Based on the `countries` and `cities` dataframes, determine for each city the country in which it is located.\n",
        "- To solve this problem, we will use the the concept of a 'spatial join' operation: combining information of geospatial datasets based on their spatial relationship."
      ]
    },
    {
      "cell_type": "code",
      "source": [
        "!pip install geopandas"
      ],
      "metadata": {
        "id": "gvZGFVoblxNg",
        "colab": {
          "base_uri": "https://localhost:8080/"
        },
        "outputId": "de41a011-0baa-4b41-e740-b75ae5349373"
      },
      "execution_count": null,
      "outputs": [
        {
          "output_type": "stream",
          "name": "stdout",
          "text": [
            "Requirement already satisfied: geopandas in /usr/local/lib/python3.7/dist-packages (0.10.2)\n",
            "Requirement already satisfied: shapely>=1.6 in /usr/local/lib/python3.7/dist-packages (from geopandas) (1.8.0)\n",
            "Requirement already satisfied: pyproj>=2.2.0 in /usr/local/lib/python3.7/dist-packages (from geopandas) (3.2.1)\n",
            "Requirement already satisfied: pandas>=0.25.0 in /usr/local/lib/python3.7/dist-packages (from geopandas) (1.3.5)\n",
            "Requirement already satisfied: fiona>=1.8 in /usr/local/lib/python3.7/dist-packages (from geopandas) (1.8.20)\n",
            "Requirement already satisfied: click>=4.0 in /usr/local/lib/python3.7/dist-packages (from fiona>=1.8->geopandas) (7.1.2)\n",
            "Requirement already satisfied: six>=1.7 in /usr/local/lib/python3.7/dist-packages (from fiona>=1.8->geopandas) (1.15.0)\n",
            "Requirement already satisfied: attrs>=17 in /usr/local/lib/python3.7/dist-packages (from fiona>=1.8->geopandas) (21.4.0)\n",
            "Requirement already satisfied: certifi in /usr/local/lib/python3.7/dist-packages (from fiona>=1.8->geopandas) (2021.10.8)\n",
            "Requirement already satisfied: munch in /usr/local/lib/python3.7/dist-packages (from fiona>=1.8->geopandas) (2.5.0)\n",
            "Requirement already satisfied: click-plugins>=1.0 in /usr/local/lib/python3.7/dist-packages (from fiona>=1.8->geopandas) (1.1.1)\n",
            "Requirement already satisfied: cligj>=0.5 in /usr/local/lib/python3.7/dist-packages (from fiona>=1.8->geopandas) (0.7.2)\n",
            "Requirement already satisfied: setuptools in /usr/local/lib/python3.7/dist-packages (from fiona>=1.8->geopandas) (57.4.0)\n",
            "Requirement already satisfied: python-dateutil>=2.7.3 in /usr/local/lib/python3.7/dist-packages (from pandas>=0.25.0->geopandas) (2.8.2)\n",
            "Requirement already satisfied: numpy>=1.17.3 in /usr/local/lib/python3.7/dist-packages (from pandas>=0.25.0->geopandas) (1.19.5)\n",
            "Requirement already satisfied: pytz>=2017.3 in /usr/local/lib/python3.7/dist-packages (from pandas>=0.25.0->geopandas) (2018.9)\n"
          ]
        }
      ]
    },
    {
      "cell_type": "code",
      "source": [
        "from google.colab import drive\n",
        "drive.mount('/content/drive')"
      ],
      "metadata": {
        "id": "qRj_yEodlydO",
        "colab": {
          "base_uri": "https://localhost:8080/"
        },
        "outputId": "d49f0b4b-cec7-4893-e6b2-87c8ae4a0b7b"
      },
      "execution_count": null,
      "outputs": [
        {
          "output_type": "stream",
          "name": "stdout",
          "text": [
            "Drive already mounted at /content/drive; to attempt to forcibly remount, call drive.mount(\"/content/drive\", force_remount=True).\n"
          ]
        }
      ]
    },
    {
      "cell_type": "code",
      "source": [
        "# import modulo os e installazione di rtree e altro per far funzionare l'sjoin\n",
        "import os\n",
        "!pip install rtree\n",
        "!curl -L http://download.osgeo.org/libspatialindex/spatialindex-src-1.8.5.tar.gz | tar xz\n",
        "os.chdir(\"/content/spatialindex-src-1.8.5\")\n",
        "!./configure\n",
        "!make\n",
        "!make install\n",
        "!ldconfig\n"
      ],
      "metadata": {
        "id": "zA2m3uG9Skft"
      },
      "execution_count": null,
      "outputs": []
    },
    {
      "cell_type": "code",
      "execution_count": null,
      "metadata": {
        "id": "J3QwW9hcc_Af"
      },
      "outputs": [],
      "source": [
        "%matplotlib inline\n",
        "import pandas as pd\n",
        "import geopandas\n",
        "import matplotlib.pyplot as plt"
      ]
    },
    {
      "cell_type": "code",
      "execution_count": null,
      "metadata": {
        "id": "mideURapc_Ah"
      },
      "outputs": [],
      "source": [
        "countries = geopandas.read_file(\"/content/drive/MyDrive/Colab Notebooks/4E INF/GEOpands/geopandas-tutorial-master/geopandas-tutorial-master/data/ne_110m_admin_0_countries.zip\")\n",
        "cities = geopandas.read_file(\"/content/drive/MyDrive/Colab Notebooks/4E INF/GEOpands/geopandas-tutorial-master/geopandas-tutorial-master/data/ne_110m_populated_places.zip\")\n",
        "rivers = geopandas.read_file(\"/content/drive/MyDrive/Colab Notebooks/4E INF/GEOpands/geopandas-tutorial-master/geopandas-tutorial-master/data/ne_50m_rivers_lake_centerlines.zip\")"
      ]
    },
    {
      "cell_type": "markdown",
      "metadata": {
        "id": "XUIguJICc_Ah"
      },
      "source": [
        "## Recap - joining dataframes\n",
        "\n",
        "Pandas provides functionality to join or merge dataframes in different ways, see https://chrisalbon.com/python/data_wrangling/pandas_join_merge_dataframe/ for an overview and https://pandas.pydata.org/pandas-docs/stable/merging.html for the full documentation."
      ]
    },
    {
      "cell_type": "markdown",
      "metadata": {
        "id": "2jb80XzSc_Ai"
      },
      "source": [
        "To illustrate the concept of joining the information of two dataframes with pandas, let's take a small subset of our `cities` and `countries` datasets: "
      ]
    },
    {
      "cell_type": "code",
      "execution_count": null,
      "metadata": {
        "id": "I9hAZ7yoc_Ai"
      },
      "outputs": [],
      "source": [
        "cities2 = cities[cities['name'].isin(['Bern', 'Brussels', 'London', 'Paris'])].copy()\n",
        "cities2['iso_a3'] = ['CHE', 'BEL', 'GBR', 'FRA']"
      ]
    },
    {
      "cell_type": "code",
      "execution_count": null,
      "metadata": {
        "id": "M9O5uVkLc_Aj",
        "colab": {
          "base_uri": "https://localhost:8080/",
          "height": 175
        },
        "outputId": "9def2489-7297-4b14-d460-ff7bd3d6f4d7"
      },
      "outputs": [
        {
          "output_type": "execute_result",
          "data": {
            "text/html": [
              "\n",
              "  <div id=\"df-c44eb4ce-1515-4524-9072-799b5f62446d\">\n",
              "    <div class=\"colab-df-container\">\n",
              "      <div>\n",
              "<style scoped>\n",
              "    .dataframe tbody tr th:only-of-type {\n",
              "        vertical-align: middle;\n",
              "    }\n",
              "\n",
              "    .dataframe tbody tr th {\n",
              "        vertical-align: top;\n",
              "    }\n",
              "\n",
              "    .dataframe thead th {\n",
              "        text-align: right;\n",
              "    }\n",
              "</style>\n",
              "<table border=\"1\" class=\"dataframe\">\n",
              "  <thead>\n",
              "    <tr style=\"text-align: right;\">\n",
              "      <th></th>\n",
              "      <th>name</th>\n",
              "      <th>geometry</th>\n",
              "      <th>iso_a3</th>\n",
              "    </tr>\n",
              "  </thead>\n",
              "  <tbody>\n",
              "    <tr>\n",
              "      <th>26</th>\n",
              "      <td>Bern</td>\n",
              "      <td>POINT (7.46698 46.91668)</td>\n",
              "      <td>CHE</td>\n",
              "    </tr>\n",
              "    <tr>\n",
              "      <th>170</th>\n",
              "      <td>Brussels</td>\n",
              "      <td>POINT (4.33137 50.83526)</td>\n",
              "      <td>BEL</td>\n",
              "    </tr>\n",
              "    <tr>\n",
              "      <th>219</th>\n",
              "      <td>London</td>\n",
              "      <td>POINT (-0.11867 51.50194)</td>\n",
              "      <td>GBR</td>\n",
              "    </tr>\n",
              "    <tr>\n",
              "      <th>235</th>\n",
              "      <td>Paris</td>\n",
              "      <td>POINT (2.33139 48.86864)</td>\n",
              "      <td>FRA</td>\n",
              "    </tr>\n",
              "  </tbody>\n",
              "</table>\n",
              "</div>\n",
              "      <button class=\"colab-df-convert\" onclick=\"convertToInteractive('df-c44eb4ce-1515-4524-9072-799b5f62446d')\"\n",
              "              title=\"Convert this dataframe to an interactive table.\"\n",
              "              style=\"display:none;\">\n",
              "        \n",
              "  <svg xmlns=\"http://www.w3.org/2000/svg\" height=\"24px\"viewBox=\"0 0 24 24\"\n",
              "       width=\"24px\">\n",
              "    <path d=\"M0 0h24v24H0V0z\" fill=\"none\"/>\n",
              "    <path d=\"M18.56 5.44l.94 2.06.94-2.06 2.06-.94-2.06-.94-.94-2.06-.94 2.06-2.06.94zm-11 1L8.5 8.5l.94-2.06 2.06-.94-2.06-.94L8.5 2.5l-.94 2.06-2.06.94zm10 10l.94 2.06.94-2.06 2.06-.94-2.06-.94-.94-2.06-.94 2.06-2.06.94z\"/><path d=\"M17.41 7.96l-1.37-1.37c-.4-.4-.92-.59-1.43-.59-.52 0-1.04.2-1.43.59L10.3 9.45l-7.72 7.72c-.78.78-.78 2.05 0 2.83L4 21.41c.39.39.9.59 1.41.59.51 0 1.02-.2 1.41-.59l7.78-7.78 2.81-2.81c.8-.78.8-2.07 0-2.86zM5.41 20L4 18.59l7.72-7.72 1.47 1.35L5.41 20z\"/>\n",
              "  </svg>\n",
              "      </button>\n",
              "      \n",
              "  <style>\n",
              "    .colab-df-container {\n",
              "      display:flex;\n",
              "      flex-wrap:wrap;\n",
              "      gap: 12px;\n",
              "    }\n",
              "\n",
              "    .colab-df-convert {\n",
              "      background-color: #E8F0FE;\n",
              "      border: none;\n",
              "      border-radius: 50%;\n",
              "      cursor: pointer;\n",
              "      display: none;\n",
              "      fill: #1967D2;\n",
              "      height: 32px;\n",
              "      padding: 0 0 0 0;\n",
              "      width: 32px;\n",
              "    }\n",
              "\n",
              "    .colab-df-convert:hover {\n",
              "      background-color: #E2EBFA;\n",
              "      box-shadow: 0px 1px 2px rgba(60, 64, 67, 0.3), 0px 1px 3px 1px rgba(60, 64, 67, 0.15);\n",
              "      fill: #174EA6;\n",
              "    }\n",
              "\n",
              "    [theme=dark] .colab-df-convert {\n",
              "      background-color: #3B4455;\n",
              "      fill: #D2E3FC;\n",
              "    }\n",
              "\n",
              "    [theme=dark] .colab-df-convert:hover {\n",
              "      background-color: #434B5C;\n",
              "      box-shadow: 0px 1px 3px 1px rgba(0, 0, 0, 0.15);\n",
              "      filter: drop-shadow(0px 1px 2px rgba(0, 0, 0, 0.3));\n",
              "      fill: #FFFFFF;\n",
              "    }\n",
              "  </style>\n",
              "\n",
              "      <script>\n",
              "        const buttonEl =\n",
              "          document.querySelector('#df-c44eb4ce-1515-4524-9072-799b5f62446d button.colab-df-convert');\n",
              "        buttonEl.style.display =\n",
              "          google.colab.kernel.accessAllowed ? 'block' : 'none';\n",
              "\n",
              "        async function convertToInteractive(key) {\n",
              "          const element = document.querySelector('#df-c44eb4ce-1515-4524-9072-799b5f62446d');\n",
              "          const dataTable =\n",
              "            await google.colab.kernel.invokeFunction('convertToInteractive',\n",
              "                                                     [key], {});\n",
              "          if (!dataTable) return;\n",
              "\n",
              "          const docLinkHtml = 'Like what you see? Visit the ' +\n",
              "            '<a target=\"_blank\" href=https://colab.research.google.com/notebooks/data_table.ipynb>data table notebook</a>'\n",
              "            + ' to learn more about interactive tables.';\n",
              "          element.innerHTML = '';\n",
              "          dataTable['output_type'] = 'display_data';\n",
              "          await google.colab.output.renderOutput(dataTable, element);\n",
              "          const docLink = document.createElement('div');\n",
              "          docLink.innerHTML = docLinkHtml;\n",
              "          element.appendChild(docLink);\n",
              "        }\n",
              "      </script>\n",
              "    </div>\n",
              "  </div>\n",
              "  "
            ],
            "text/plain": [
              "         name                   geometry iso_a3\n",
              "26       Bern   POINT (7.46698 46.91668)    CHE\n",
              "170  Brussels   POINT (4.33137 50.83526)    BEL\n",
              "219    London  POINT (-0.11867 51.50194)    GBR\n",
              "235     Paris   POINT (2.33139 48.86864)    FRA"
            ]
          },
          "metadata": {},
          "execution_count": 6
        }
      ],
      "source": [
        "cities2"
      ]
    },
    {
      "cell_type": "code",
      "execution_count": null,
      "metadata": {
        "id": "nFB0rd30c_Aj",
        "colab": {
          "base_uri": "https://localhost:8080/",
          "height": 206
        },
        "outputId": "6a5c42ba-332a-489a-d488-bb9d1b44f83b"
      },
      "outputs": [
        {
          "output_type": "execute_result",
          "data": {
            "text/html": [
              "\n",
              "  <div id=\"df-50b57b8d-08f7-4723-b7f4-0c3ef413c709\">\n",
              "    <div class=\"colab-df-container\">\n",
              "      <div>\n",
              "<style scoped>\n",
              "    .dataframe tbody tr th:only-of-type {\n",
              "        vertical-align: middle;\n",
              "    }\n",
              "\n",
              "    .dataframe tbody tr th {\n",
              "        vertical-align: top;\n",
              "    }\n",
              "\n",
              "    .dataframe thead th {\n",
              "        text-align: right;\n",
              "    }\n",
              "</style>\n",
              "<table border=\"1\" class=\"dataframe\">\n",
              "  <thead>\n",
              "    <tr style=\"text-align: right;\">\n",
              "      <th></th>\n",
              "      <th>iso_a3</th>\n",
              "      <th>name</th>\n",
              "      <th>continent</th>\n",
              "    </tr>\n",
              "  </thead>\n",
              "  <tbody>\n",
              "    <tr>\n",
              "      <th>0</th>\n",
              "      <td>AFG</td>\n",
              "      <td>Afghanistan</td>\n",
              "      <td>Asia</td>\n",
              "    </tr>\n",
              "    <tr>\n",
              "      <th>1</th>\n",
              "      <td>AGO</td>\n",
              "      <td>Angola</td>\n",
              "      <td>Africa</td>\n",
              "    </tr>\n",
              "    <tr>\n",
              "      <th>2</th>\n",
              "      <td>ALB</td>\n",
              "      <td>Albania</td>\n",
              "      <td>Europe</td>\n",
              "    </tr>\n",
              "    <tr>\n",
              "      <th>3</th>\n",
              "      <td>ARE</td>\n",
              "      <td>United Arab Emirates</td>\n",
              "      <td>Asia</td>\n",
              "    </tr>\n",
              "    <tr>\n",
              "      <th>4</th>\n",
              "      <td>ARG</td>\n",
              "      <td>Argentina</td>\n",
              "      <td>South America</td>\n",
              "    </tr>\n",
              "  </tbody>\n",
              "</table>\n",
              "</div>\n",
              "      <button class=\"colab-df-convert\" onclick=\"convertToInteractive('df-50b57b8d-08f7-4723-b7f4-0c3ef413c709')\"\n",
              "              title=\"Convert this dataframe to an interactive table.\"\n",
              "              style=\"display:none;\">\n",
              "        \n",
              "  <svg xmlns=\"http://www.w3.org/2000/svg\" height=\"24px\"viewBox=\"0 0 24 24\"\n",
              "       width=\"24px\">\n",
              "    <path d=\"M0 0h24v24H0V0z\" fill=\"none\"/>\n",
              "    <path d=\"M18.56 5.44l.94 2.06.94-2.06 2.06-.94-2.06-.94-.94-2.06-.94 2.06-2.06.94zm-11 1L8.5 8.5l.94-2.06 2.06-.94-2.06-.94L8.5 2.5l-.94 2.06-2.06.94zm10 10l.94 2.06.94-2.06 2.06-.94-2.06-.94-.94-2.06-.94 2.06-2.06.94z\"/><path d=\"M17.41 7.96l-1.37-1.37c-.4-.4-.92-.59-1.43-.59-.52 0-1.04.2-1.43.59L10.3 9.45l-7.72 7.72c-.78.78-.78 2.05 0 2.83L4 21.41c.39.39.9.59 1.41.59.51 0 1.02-.2 1.41-.59l7.78-7.78 2.81-2.81c.8-.78.8-2.07 0-2.86zM5.41 20L4 18.59l7.72-7.72 1.47 1.35L5.41 20z\"/>\n",
              "  </svg>\n",
              "      </button>\n",
              "      \n",
              "  <style>\n",
              "    .colab-df-container {\n",
              "      display:flex;\n",
              "      flex-wrap:wrap;\n",
              "      gap: 12px;\n",
              "    }\n",
              "\n",
              "    .colab-df-convert {\n",
              "      background-color: #E8F0FE;\n",
              "      border: none;\n",
              "      border-radius: 50%;\n",
              "      cursor: pointer;\n",
              "      display: none;\n",
              "      fill: #1967D2;\n",
              "      height: 32px;\n",
              "      padding: 0 0 0 0;\n",
              "      width: 32px;\n",
              "    }\n",
              "\n",
              "    .colab-df-convert:hover {\n",
              "      background-color: #E2EBFA;\n",
              "      box-shadow: 0px 1px 2px rgba(60, 64, 67, 0.3), 0px 1px 3px 1px rgba(60, 64, 67, 0.15);\n",
              "      fill: #174EA6;\n",
              "    }\n",
              "\n",
              "    [theme=dark] .colab-df-convert {\n",
              "      background-color: #3B4455;\n",
              "      fill: #D2E3FC;\n",
              "    }\n",
              "\n",
              "    [theme=dark] .colab-df-convert:hover {\n",
              "      background-color: #434B5C;\n",
              "      box-shadow: 0px 1px 3px 1px rgba(0, 0, 0, 0.15);\n",
              "      filter: drop-shadow(0px 1px 2px rgba(0, 0, 0, 0.3));\n",
              "      fill: #FFFFFF;\n",
              "    }\n",
              "  </style>\n",
              "\n",
              "      <script>\n",
              "        const buttonEl =\n",
              "          document.querySelector('#df-50b57b8d-08f7-4723-b7f4-0c3ef413c709 button.colab-df-convert');\n",
              "        buttonEl.style.display =\n",
              "          google.colab.kernel.accessAllowed ? 'block' : 'none';\n",
              "\n",
              "        async function convertToInteractive(key) {\n",
              "          const element = document.querySelector('#df-50b57b8d-08f7-4723-b7f4-0c3ef413c709');\n",
              "          const dataTable =\n",
              "            await google.colab.kernel.invokeFunction('convertToInteractive',\n",
              "                                                     [key], {});\n",
              "          if (!dataTable) return;\n",
              "\n",
              "          const docLinkHtml = 'Like what you see? Visit the ' +\n",
              "            '<a target=\"_blank\" href=https://colab.research.google.com/notebooks/data_table.ipynb>data table notebook</a>'\n",
              "            + ' to learn more about interactive tables.';\n",
              "          element.innerHTML = '';\n",
              "          dataTable['output_type'] = 'display_data';\n",
              "          await google.colab.output.renderOutput(dataTable, element);\n",
              "          const docLink = document.createElement('div');\n",
              "          docLink.innerHTML = docLinkHtml;\n",
              "          element.appendChild(docLink);\n",
              "        }\n",
              "      </script>\n",
              "    </div>\n",
              "  </div>\n",
              "  "
            ],
            "text/plain": [
              "  iso_a3                  name      continent\n",
              "0    AFG           Afghanistan           Asia\n",
              "1    AGO                Angola         Africa\n",
              "2    ALB               Albania         Europe\n",
              "3    ARE  United Arab Emirates           Asia\n",
              "4    ARG             Argentina  South America"
            ]
          },
          "metadata": {},
          "execution_count": 7
        }
      ],
      "source": [
        "countries2 = countries[['iso_a3', 'name', 'continent']]\n",
        "countries2.head()"
      ]
    },
    {
      "cell_type": "markdown",
      "metadata": {
        "id": "ylL4U_loc_Ak"
      },
      "source": [
        "We added a 'iso_a3' column to the `cities` dataset, indicating a code of the country of the city. This country code is also present in the `countries` dataset, which allows us to merge those two dataframes based on the common column.\n",
        "\n",
        "Joining the `cities` dataframe with `countries` will transfer extra information about the countries (the full name, the continent) to the `cities` dataframe, based on a common key:"
      ]
    },
    {
      "cell_type": "code",
      "execution_count": null,
      "metadata": {
        "id": "bEAu56QHc_Al",
        "colab": {
          "base_uri": "https://localhost:8080/",
          "height": 175
        },
        "outputId": "18081fd4-18e0-4416-d22c-8a88ddbd0af9"
      },
      "outputs": [
        {
          "output_type": "execute_result",
          "data": {
            "text/html": [
              "\n",
              "  <div id=\"df-728986ec-5959-4867-8b1c-d3fdbfdcad85\">\n",
              "    <div class=\"colab-df-container\">\n",
              "      <div>\n",
              "<style scoped>\n",
              "    .dataframe tbody tr th:only-of-type {\n",
              "        vertical-align: middle;\n",
              "    }\n",
              "\n",
              "    .dataframe tbody tr th {\n",
              "        vertical-align: top;\n",
              "    }\n",
              "\n",
              "    .dataframe thead th {\n",
              "        text-align: right;\n",
              "    }\n",
              "</style>\n",
              "<table border=\"1\" class=\"dataframe\">\n",
              "  <thead>\n",
              "    <tr style=\"text-align: right;\">\n",
              "      <th></th>\n",
              "      <th>name_x</th>\n",
              "      <th>geometry</th>\n",
              "      <th>iso_a3</th>\n",
              "      <th>name_y</th>\n",
              "      <th>continent</th>\n",
              "    </tr>\n",
              "  </thead>\n",
              "  <tbody>\n",
              "    <tr>\n",
              "      <th>0</th>\n",
              "      <td>Bern</td>\n",
              "      <td>POINT (7.46698 46.91668)</td>\n",
              "      <td>CHE</td>\n",
              "      <td>Switzerland</td>\n",
              "      <td>Europe</td>\n",
              "    </tr>\n",
              "    <tr>\n",
              "      <th>1</th>\n",
              "      <td>Brussels</td>\n",
              "      <td>POINT (4.33137 50.83526)</td>\n",
              "      <td>BEL</td>\n",
              "      <td>Belgium</td>\n",
              "      <td>Europe</td>\n",
              "    </tr>\n",
              "    <tr>\n",
              "      <th>2</th>\n",
              "      <td>London</td>\n",
              "      <td>POINT (-0.11867 51.50194)</td>\n",
              "      <td>GBR</td>\n",
              "      <td>United Kingdom</td>\n",
              "      <td>Europe</td>\n",
              "    </tr>\n",
              "    <tr>\n",
              "      <th>3</th>\n",
              "      <td>Paris</td>\n",
              "      <td>POINT (2.33139 48.86864)</td>\n",
              "      <td>FRA</td>\n",
              "      <td>France</td>\n",
              "      <td>Europe</td>\n",
              "    </tr>\n",
              "  </tbody>\n",
              "</table>\n",
              "</div>\n",
              "      <button class=\"colab-df-convert\" onclick=\"convertToInteractive('df-728986ec-5959-4867-8b1c-d3fdbfdcad85')\"\n",
              "              title=\"Convert this dataframe to an interactive table.\"\n",
              "              style=\"display:none;\">\n",
              "        \n",
              "  <svg xmlns=\"http://www.w3.org/2000/svg\" height=\"24px\"viewBox=\"0 0 24 24\"\n",
              "       width=\"24px\">\n",
              "    <path d=\"M0 0h24v24H0V0z\" fill=\"none\"/>\n",
              "    <path d=\"M18.56 5.44l.94 2.06.94-2.06 2.06-.94-2.06-.94-.94-2.06-.94 2.06-2.06.94zm-11 1L8.5 8.5l.94-2.06 2.06-.94-2.06-.94L8.5 2.5l-.94 2.06-2.06.94zm10 10l.94 2.06.94-2.06 2.06-.94-2.06-.94-.94-2.06-.94 2.06-2.06.94z\"/><path d=\"M17.41 7.96l-1.37-1.37c-.4-.4-.92-.59-1.43-.59-.52 0-1.04.2-1.43.59L10.3 9.45l-7.72 7.72c-.78.78-.78 2.05 0 2.83L4 21.41c.39.39.9.59 1.41.59.51 0 1.02-.2 1.41-.59l7.78-7.78 2.81-2.81c.8-.78.8-2.07 0-2.86zM5.41 20L4 18.59l7.72-7.72 1.47 1.35L5.41 20z\"/>\n",
              "  </svg>\n",
              "      </button>\n",
              "      \n",
              "  <style>\n",
              "    .colab-df-container {\n",
              "      display:flex;\n",
              "      flex-wrap:wrap;\n",
              "      gap: 12px;\n",
              "    }\n",
              "\n",
              "    .colab-df-convert {\n",
              "      background-color: #E8F0FE;\n",
              "      border: none;\n",
              "      border-radius: 50%;\n",
              "      cursor: pointer;\n",
              "      display: none;\n",
              "      fill: #1967D2;\n",
              "      height: 32px;\n",
              "      padding: 0 0 0 0;\n",
              "      width: 32px;\n",
              "    }\n",
              "\n",
              "    .colab-df-convert:hover {\n",
              "      background-color: #E2EBFA;\n",
              "      box-shadow: 0px 1px 2px rgba(60, 64, 67, 0.3), 0px 1px 3px 1px rgba(60, 64, 67, 0.15);\n",
              "      fill: #174EA6;\n",
              "    }\n",
              "\n",
              "    [theme=dark] .colab-df-convert {\n",
              "      background-color: #3B4455;\n",
              "      fill: #D2E3FC;\n",
              "    }\n",
              "\n",
              "    [theme=dark] .colab-df-convert:hover {\n",
              "      background-color: #434B5C;\n",
              "      box-shadow: 0px 1px 3px 1px rgba(0, 0, 0, 0.15);\n",
              "      filter: drop-shadow(0px 1px 2px rgba(0, 0, 0, 0.3));\n",
              "      fill: #FFFFFF;\n",
              "    }\n",
              "  </style>\n",
              "\n",
              "      <script>\n",
              "        const buttonEl =\n",
              "          document.querySelector('#df-728986ec-5959-4867-8b1c-d3fdbfdcad85 button.colab-df-convert');\n",
              "        buttonEl.style.display =\n",
              "          google.colab.kernel.accessAllowed ? 'block' : 'none';\n",
              "\n",
              "        async function convertToInteractive(key) {\n",
              "          const element = document.querySelector('#df-728986ec-5959-4867-8b1c-d3fdbfdcad85');\n",
              "          const dataTable =\n",
              "            await google.colab.kernel.invokeFunction('convertToInteractive',\n",
              "                                                     [key], {});\n",
              "          if (!dataTable) return;\n",
              "\n",
              "          const docLinkHtml = 'Like what you see? Visit the ' +\n",
              "            '<a target=\"_blank\" href=https://colab.research.google.com/notebooks/data_table.ipynb>data table notebook</a>'\n",
              "            + ' to learn more about interactive tables.';\n",
              "          element.innerHTML = '';\n",
              "          dataTable['output_type'] = 'display_data';\n",
              "          await google.colab.output.renderOutput(dataTable, element);\n",
              "          const docLink = document.createElement('div');\n",
              "          docLink.innerHTML = docLinkHtml;\n",
              "          element.appendChild(docLink);\n",
              "        }\n",
              "      </script>\n",
              "    </div>\n",
              "  </div>\n",
              "  "
            ],
            "text/plain": [
              "     name_x                   geometry iso_a3          name_y continent\n",
              "0      Bern   POINT (7.46698 46.91668)    CHE     Switzerland    Europe\n",
              "1  Brussels   POINT (4.33137 50.83526)    BEL         Belgium    Europe\n",
              "2    London  POINT (-0.11867 51.50194)    GBR  United Kingdom    Europe\n",
              "3     Paris   POINT (2.33139 48.86864)    FRA          France    Europe"
            ]
          },
          "metadata": {},
          "execution_count": 8
        }
      ],
      "source": [
        "cities2.merge(countries2, on='iso_a3')"
      ]
    },
    {
      "cell_type": "markdown",
      "metadata": {
        "id": "Zndp0enZc_Al"
      },
      "source": [
        "**But**, for this illustrative example, we added the common column manually, it is not present in the original dataset. However, we can still know how to join those two datasets based on their spatial coordinates."
      ]
    },
    {
      "cell_type": "markdown",
      "metadata": {
        "id": "wV7Z1fiNc_Al"
      },
      "source": [
        "## Recap - spatial relationships between objects\n",
        "\n",
        "In the previous notebook [02-spatial-relationships.ipynb](./02-spatial-relationships-operations.ipynb), we have seen the notion of spatial relationships between geometry objects: within, contains, intersects, ...\n",
        "\n",
        "In this case, we know that each of the cities is located *within* one of the countries, or the other way around that each country can *contain* multiple cities.\n",
        "\n",
        "We can test such relationships using the methods we have seen in the previous notebook:"
      ]
    },
    {
      "cell_type": "code",
      "execution_count": null,
      "metadata": {
        "id": "Jc_cQf-yc_Am"
      },
      "outputs": [],
      "source": [
        "france = countries.loc[countries['name'] == 'France', 'geometry'].squeeze()"
      ]
    },
    {
      "cell_type": "code",
      "execution_count": null,
      "metadata": {
        "id": "n1CRUltqc_Am",
        "colab": {
          "base_uri": "https://localhost:8080/"
        },
        "outputId": "c9669777-0fd0-415d-fd55-fa7c47c2444f"
      },
      "outputs": [
        {
          "output_type": "execute_result",
          "data": {
            "text/plain": [
              "0      False\n",
              "1      False\n",
              "2      False\n",
              "3      False\n",
              "4      False\n",
              "       ...  \n",
              "238    False\n",
              "239    False\n",
              "240    False\n",
              "241    False\n",
              "242    False\n",
              "Length: 243, dtype: bool"
            ]
          },
          "metadata": {},
          "execution_count": 10
        }
      ],
      "source": [
        "cities.within(france)"
      ]
    },
    {
      "cell_type": "markdown",
      "metadata": {
        "id": "XU0WoqAec_Am"
      },
      "source": [
        "The above gives us a boolean series, indicating for each point in our `cities` dataframe whether it is located within the area of France or not.  \n",
        "Because this is a boolean series as result, we can use it to filter the original dataframe to only show those cities that are actually within France:"
      ]
    },
    {
      "cell_type": "code",
      "execution_count": null,
      "metadata": {
        "id": "SYBN9nctc_Am",
        "colab": {
          "base_uri": "https://localhost:8080/",
          "height": 175
        },
        "outputId": "eb424249-f8fd-4646-d202-52a71c806756"
      },
      "outputs": [
        {
          "output_type": "execute_result",
          "data": {
            "text/html": [
              "\n",
              "  <div id=\"df-6df8d92e-6ce8-4a62-b173-7d25b33953d0\">\n",
              "    <div class=\"colab-df-container\">\n",
              "      <div>\n",
              "<style scoped>\n",
              "    .dataframe tbody tr th:only-of-type {\n",
              "        vertical-align: middle;\n",
              "    }\n",
              "\n",
              "    .dataframe tbody tr th {\n",
              "        vertical-align: top;\n",
              "    }\n",
              "\n",
              "    .dataframe thead th {\n",
              "        text-align: right;\n",
              "    }\n",
              "</style>\n",
              "<table border=\"1\" class=\"dataframe\">\n",
              "  <thead>\n",
              "    <tr style=\"text-align: right;\">\n",
              "      <th></th>\n",
              "      <th>name</th>\n",
              "      <th>geometry</th>\n",
              "    </tr>\n",
              "  </thead>\n",
              "  <tbody>\n",
              "    <tr>\n",
              "      <th>10</th>\n",
              "      <td>Monaco</td>\n",
              "      <td>POINT (7.40691 43.73965)</td>\n",
              "    </tr>\n",
              "    <tr>\n",
              "      <th>13</th>\n",
              "      <td>Andorra</td>\n",
              "      <td>POINT (1.51649 42.50000)</td>\n",
              "    </tr>\n",
              "    <tr>\n",
              "      <th>186</th>\n",
              "      <td>Geneva</td>\n",
              "      <td>POINT (6.14003 46.21001)</td>\n",
              "    </tr>\n",
              "    <tr>\n",
              "      <th>235</th>\n",
              "      <td>Paris</td>\n",
              "      <td>POINT (2.33139 48.86864)</td>\n",
              "    </tr>\n",
              "  </tbody>\n",
              "</table>\n",
              "</div>\n",
              "      <button class=\"colab-df-convert\" onclick=\"convertToInteractive('df-6df8d92e-6ce8-4a62-b173-7d25b33953d0')\"\n",
              "              title=\"Convert this dataframe to an interactive table.\"\n",
              "              style=\"display:none;\">\n",
              "        \n",
              "  <svg xmlns=\"http://www.w3.org/2000/svg\" height=\"24px\"viewBox=\"0 0 24 24\"\n",
              "       width=\"24px\">\n",
              "    <path d=\"M0 0h24v24H0V0z\" fill=\"none\"/>\n",
              "    <path d=\"M18.56 5.44l.94 2.06.94-2.06 2.06-.94-2.06-.94-.94-2.06-.94 2.06-2.06.94zm-11 1L8.5 8.5l.94-2.06 2.06-.94-2.06-.94L8.5 2.5l-.94 2.06-2.06.94zm10 10l.94 2.06.94-2.06 2.06-.94-2.06-.94-.94-2.06-.94 2.06-2.06.94z\"/><path d=\"M17.41 7.96l-1.37-1.37c-.4-.4-.92-.59-1.43-.59-.52 0-1.04.2-1.43.59L10.3 9.45l-7.72 7.72c-.78.78-.78 2.05 0 2.83L4 21.41c.39.39.9.59 1.41.59.51 0 1.02-.2 1.41-.59l7.78-7.78 2.81-2.81c.8-.78.8-2.07 0-2.86zM5.41 20L4 18.59l7.72-7.72 1.47 1.35L5.41 20z\"/>\n",
              "  </svg>\n",
              "      </button>\n",
              "      \n",
              "  <style>\n",
              "    .colab-df-container {\n",
              "      display:flex;\n",
              "      flex-wrap:wrap;\n",
              "      gap: 12px;\n",
              "    }\n",
              "\n",
              "    .colab-df-convert {\n",
              "      background-color: #E8F0FE;\n",
              "      border: none;\n",
              "      border-radius: 50%;\n",
              "      cursor: pointer;\n",
              "      display: none;\n",
              "      fill: #1967D2;\n",
              "      height: 32px;\n",
              "      padding: 0 0 0 0;\n",
              "      width: 32px;\n",
              "    }\n",
              "\n",
              "    .colab-df-convert:hover {\n",
              "      background-color: #E2EBFA;\n",
              "      box-shadow: 0px 1px 2px rgba(60, 64, 67, 0.3), 0px 1px 3px 1px rgba(60, 64, 67, 0.15);\n",
              "      fill: #174EA6;\n",
              "    }\n",
              "\n",
              "    [theme=dark] .colab-df-convert {\n",
              "      background-color: #3B4455;\n",
              "      fill: #D2E3FC;\n",
              "    }\n",
              "\n",
              "    [theme=dark] .colab-df-convert:hover {\n",
              "      background-color: #434B5C;\n",
              "      box-shadow: 0px 1px 3px 1px rgba(0, 0, 0, 0.15);\n",
              "      filter: drop-shadow(0px 1px 2px rgba(0, 0, 0, 0.3));\n",
              "      fill: #FFFFFF;\n",
              "    }\n",
              "  </style>\n",
              "\n",
              "      <script>\n",
              "        const buttonEl =\n",
              "          document.querySelector('#df-6df8d92e-6ce8-4a62-b173-7d25b33953d0 button.colab-df-convert');\n",
              "        buttonEl.style.display =\n",
              "          google.colab.kernel.accessAllowed ? 'block' : 'none';\n",
              "\n",
              "        async function convertToInteractive(key) {\n",
              "          const element = document.querySelector('#df-6df8d92e-6ce8-4a62-b173-7d25b33953d0');\n",
              "          const dataTable =\n",
              "            await google.colab.kernel.invokeFunction('convertToInteractive',\n",
              "                                                     [key], {});\n",
              "          if (!dataTable) return;\n",
              "\n",
              "          const docLinkHtml = 'Like what you see? Visit the ' +\n",
              "            '<a target=\"_blank\" href=https://colab.research.google.com/notebooks/data_table.ipynb>data table notebook</a>'\n",
              "            + ' to learn more about interactive tables.';\n",
              "          element.innerHTML = '';\n",
              "          dataTable['output_type'] = 'display_data';\n",
              "          await google.colab.output.renderOutput(dataTable, element);\n",
              "          const docLink = document.createElement('div');\n",
              "          docLink.innerHTML = docLinkHtml;\n",
              "          element.appendChild(docLink);\n",
              "        }\n",
              "      </script>\n",
              "    </div>\n",
              "  </div>\n",
              "  "
            ],
            "text/plain": [
              "        name                  geometry\n",
              "10    Monaco  POINT (7.40691 43.73965)\n",
              "13   Andorra  POINT (1.51649 42.50000)\n",
              "186   Geneva  POINT (6.14003 46.21001)\n",
              "235    Paris  POINT (2.33139 48.86864)"
            ]
          },
          "metadata": {},
          "execution_count": 11
        }
      ],
      "source": [
        "cities[cities.within(france)]"
      ]
    },
    {
      "cell_type": "markdown",
      "metadata": {
        "id": "UXum0AMRc_An"
      },
      "source": [
        "We could now repeat the above analysis for each of the countries, and add a column to the `cities` dataframe indicating this country. However, that would be tedious to do manually, and is also exactly what the spatial join operation provides us.\n",
        "\n",
        "*(note: the above result is incorrect, but this is just because of the coarse-ness of the countries dataset)*"
      ]
    },
    {
      "cell_type": "markdown",
      "metadata": {
        "id": "IpHhddv8c_An"
      },
      "source": [
        "## Spatial join operation\n",
        "\n",
        "<div class=\"alert alert-info\" style=\"font-size:120%\">\n",
        "    \n",
        "**SPATIAL JOIN** = *transferring attributes from one layer to another based on their spatial relationship* <br>\n",
        "\n",
        "\n",
        "Different parts of this operations:\n",
        "\n",
        "* The GeoDataFrame to which we want add information\n",
        "* The GeoDataFrame that contains the information we want to add\n",
        "* The spatial relationship we want to use to match both datasets ('intersects', 'contains', 'within')\n",
        "* The type of join: left or inner join\n",
        "\n",
        "\n",
        "![](img/illustration-spatial-join.svg)\n",
        "\n",
        "</div>"
      ]
    },
    {
      "cell_type": "markdown",
      "metadata": {
        "id": "K8CfMD8gc_An"
      },
      "source": [
        "In this case, we want to join the `cities` dataframe with the information of the `countries` dataframe, based on the spatial relationship between both datasets.\n",
        "\n",
        "We use the [`geopandas.sjoin`](http://geopandas.readthedocs.io/en/latest/reference/geopandas.sjoin.html) function:"
      ]
    },
    {
      "cell_type": "code",
      "execution_count": null,
      "metadata": {
        "id": "1GSIvKq-c_Ao",
        "colab": {
          "base_uri": "https://localhost:8080/"
        },
        "outputId": "365826ac-c58d-4830-e0a0-915b5432491c"
      },
      "outputs": [
        {
          "output_type": "stream",
          "name": "stderr",
          "text": [
            "/usr/local/lib/python3.7/dist-packages/IPython/core/interactiveshell.py:2822: FutureWarning: The `op` parameter is deprecated and will be removed in a future release. Please use the `predicate` parameter instead.\n",
            "  if self.run_code(code, result):\n"
          ]
        }
      ],
      "source": [
        "joined = geopandas.sjoin(cities, countries, op='within', how='left')"
      ]
    },
    {
      "cell_type": "markdown",
      "source": [
        "- OP???? "
      ],
      "metadata": {
        "id": "JyawkIqyUBCY"
      }
    },
    {
      "cell_type": "code",
      "execution_count": null,
      "metadata": {
        "id": "lwJ8aof5c_Ao",
        "colab": {
          "base_uri": "https://localhost:8080/",
          "height": 424
        },
        "outputId": "238689c5-c36b-43de-88df-99581c2fee02"
      },
      "outputs": [
        {
          "output_type": "execute_result",
          "data": {
            "text/html": [
              "\n",
              "  <div id=\"df-9e1b970b-1e45-4c43-90f5-20539f560738\">\n",
              "    <div class=\"colab-df-container\">\n",
              "      <div>\n",
              "<style scoped>\n",
              "    .dataframe tbody tr th:only-of-type {\n",
              "        vertical-align: middle;\n",
              "    }\n",
              "\n",
              "    .dataframe tbody tr th {\n",
              "        vertical-align: top;\n",
              "    }\n",
              "\n",
              "    .dataframe thead th {\n",
              "        text-align: right;\n",
              "    }\n",
              "</style>\n",
              "<table border=\"1\" class=\"dataframe\">\n",
              "  <thead>\n",
              "    <tr style=\"text-align: right;\">\n",
              "      <th></th>\n",
              "      <th>name_left</th>\n",
              "      <th>geometry</th>\n",
              "      <th>index_right</th>\n",
              "      <th>iso_a3</th>\n",
              "      <th>name_right</th>\n",
              "      <th>continent</th>\n",
              "      <th>pop_est</th>\n",
              "      <th>gdp_md_est</th>\n",
              "    </tr>\n",
              "  </thead>\n",
              "  <tbody>\n",
              "    <tr>\n",
              "      <th>0</th>\n",
              "      <td>Vatican City</td>\n",
              "      <td>POINT (12.45339 41.90328)</td>\n",
              "      <td>79.0</td>\n",
              "      <td>ITA</td>\n",
              "      <td>Italy</td>\n",
              "      <td>Europe</td>\n",
              "      <td>6.213780e+07</td>\n",
              "      <td>2221000.0</td>\n",
              "    </tr>\n",
              "    <tr>\n",
              "      <th>1</th>\n",
              "      <td>San Marino</td>\n",
              "      <td>POINT (12.44177 43.93610)</td>\n",
              "      <td>79.0</td>\n",
              "      <td>ITA</td>\n",
              "      <td>Italy</td>\n",
              "      <td>Europe</td>\n",
              "      <td>6.213780e+07</td>\n",
              "      <td>2221000.0</td>\n",
              "    </tr>\n",
              "    <tr>\n",
              "      <th>2</th>\n",
              "      <td>Vaduz</td>\n",
              "      <td>POINT (9.51667 47.13372)</td>\n",
              "      <td>9.0</td>\n",
              "      <td>AUT</td>\n",
              "      <td>Austria</td>\n",
              "      <td>Europe</td>\n",
              "      <td>8.754413e+06</td>\n",
              "      <td>416600.0</td>\n",
              "    </tr>\n",
              "    <tr>\n",
              "      <th>3</th>\n",
              "      <td>Lobamba</td>\n",
              "      <td>POINT (31.20000 -26.46667)</td>\n",
              "      <td>152.0</td>\n",
              "      <td>SWZ</td>\n",
              "      <td>Swaziland</td>\n",
              "      <td>Africa</td>\n",
              "      <td>1.467152e+06</td>\n",
              "      <td>11060.0</td>\n",
              "    </tr>\n",
              "    <tr>\n",
              "      <th>4</th>\n",
              "      <td>Luxembourg</td>\n",
              "      <td>POINT (6.13000 49.61166)</td>\n",
              "      <td>97.0</td>\n",
              "      <td>LUX</td>\n",
              "      <td>Luxembourg</td>\n",
              "      <td>Europe</td>\n",
              "      <td>5.941300e+05</td>\n",
              "      <td>58740.0</td>\n",
              "    </tr>\n",
              "    <tr>\n",
              "      <th>...</th>\n",
              "      <td>...</td>\n",
              "      <td>...</td>\n",
              "      <td>...</td>\n",
              "      <td>...</td>\n",
              "      <td>...</td>\n",
              "      <td>...</td>\n",
              "      <td>...</td>\n",
              "      <td>...</td>\n",
              "    </tr>\n",
              "    <tr>\n",
              "      <th>238</th>\n",
              "      <td>Rio de Janeiro</td>\n",
              "      <td>POINT (-43.22697 -22.92308)</td>\n",
              "      <td>22.0</td>\n",
              "      <td>BRA</td>\n",
              "      <td>Brazil</td>\n",
              "      <td>South America</td>\n",
              "      <td>2.073534e+08</td>\n",
              "      <td>3081000.0</td>\n",
              "    </tr>\n",
              "    <tr>\n",
              "      <th>239</th>\n",
              "      <td>São Paulo</td>\n",
              "      <td>POINT (-46.62697 -23.55673)</td>\n",
              "      <td>22.0</td>\n",
              "      <td>BRA</td>\n",
              "      <td>Brazil</td>\n",
              "      <td>South America</td>\n",
              "      <td>2.073534e+08</td>\n",
              "      <td>3081000.0</td>\n",
              "    </tr>\n",
              "    <tr>\n",
              "      <th>240</th>\n",
              "      <td>Sydney</td>\n",
              "      <td>POINT (151.18323 -33.91807)</td>\n",
              "      <td>8.0</td>\n",
              "      <td>AUS</td>\n",
              "      <td>Australia</td>\n",
              "      <td>Oceania</td>\n",
              "      <td>2.323241e+07</td>\n",
              "      <td>1189000.0</td>\n",
              "    </tr>\n",
              "    <tr>\n",
              "      <th>241</th>\n",
              "      <td>Singapore</td>\n",
              "      <td>POINT (103.85387 1.29498)</td>\n",
              "      <td>111.0</td>\n",
              "      <td>MYS</td>\n",
              "      <td>Malaysia</td>\n",
              "      <td>Asia</td>\n",
              "      <td>3.138199e+07</td>\n",
              "      <td>863000.0</td>\n",
              "    </tr>\n",
              "    <tr>\n",
              "      <th>242</th>\n",
              "      <td>Hong Kong</td>\n",
              "      <td>POINT (114.18306 22.30693)</td>\n",
              "      <td>30.0</td>\n",
              "      <td>CHN</td>\n",
              "      <td>China</td>\n",
              "      <td>Asia</td>\n",
              "      <td>1.379303e+09</td>\n",
              "      <td>21140000.0</td>\n",
              "    </tr>\n",
              "  </tbody>\n",
              "</table>\n",
              "<p>243 rows × 8 columns</p>\n",
              "</div>\n",
              "      <button class=\"colab-df-convert\" onclick=\"convertToInteractive('df-9e1b970b-1e45-4c43-90f5-20539f560738')\"\n",
              "              title=\"Convert this dataframe to an interactive table.\"\n",
              "              style=\"display:none;\">\n",
              "        \n",
              "  <svg xmlns=\"http://www.w3.org/2000/svg\" height=\"24px\"viewBox=\"0 0 24 24\"\n",
              "       width=\"24px\">\n",
              "    <path d=\"M0 0h24v24H0V0z\" fill=\"none\"/>\n",
              "    <path d=\"M18.56 5.44l.94 2.06.94-2.06 2.06-.94-2.06-.94-.94-2.06-.94 2.06-2.06.94zm-11 1L8.5 8.5l.94-2.06 2.06-.94-2.06-.94L8.5 2.5l-.94 2.06-2.06.94zm10 10l.94 2.06.94-2.06 2.06-.94-2.06-.94-.94-2.06-.94 2.06-2.06.94z\"/><path d=\"M17.41 7.96l-1.37-1.37c-.4-.4-.92-.59-1.43-.59-.52 0-1.04.2-1.43.59L10.3 9.45l-7.72 7.72c-.78.78-.78 2.05 0 2.83L4 21.41c.39.39.9.59 1.41.59.51 0 1.02-.2 1.41-.59l7.78-7.78 2.81-2.81c.8-.78.8-2.07 0-2.86zM5.41 20L4 18.59l7.72-7.72 1.47 1.35L5.41 20z\"/>\n",
              "  </svg>\n",
              "      </button>\n",
              "      \n",
              "  <style>\n",
              "    .colab-df-container {\n",
              "      display:flex;\n",
              "      flex-wrap:wrap;\n",
              "      gap: 12px;\n",
              "    }\n",
              "\n",
              "    .colab-df-convert {\n",
              "      background-color: #E8F0FE;\n",
              "      border: none;\n",
              "      border-radius: 50%;\n",
              "      cursor: pointer;\n",
              "      display: none;\n",
              "      fill: #1967D2;\n",
              "      height: 32px;\n",
              "      padding: 0 0 0 0;\n",
              "      width: 32px;\n",
              "    }\n",
              "\n",
              "    .colab-df-convert:hover {\n",
              "      background-color: #E2EBFA;\n",
              "      box-shadow: 0px 1px 2px rgba(60, 64, 67, 0.3), 0px 1px 3px 1px rgba(60, 64, 67, 0.15);\n",
              "      fill: #174EA6;\n",
              "    }\n",
              "\n",
              "    [theme=dark] .colab-df-convert {\n",
              "      background-color: #3B4455;\n",
              "      fill: #D2E3FC;\n",
              "    }\n",
              "\n",
              "    [theme=dark] .colab-df-convert:hover {\n",
              "      background-color: #434B5C;\n",
              "      box-shadow: 0px 1px 3px 1px rgba(0, 0, 0, 0.15);\n",
              "      filter: drop-shadow(0px 1px 2px rgba(0, 0, 0, 0.3));\n",
              "      fill: #FFFFFF;\n",
              "    }\n",
              "  </style>\n",
              "\n",
              "      <script>\n",
              "        const buttonEl =\n",
              "          document.querySelector('#df-9e1b970b-1e45-4c43-90f5-20539f560738 button.colab-df-convert');\n",
              "        buttonEl.style.display =\n",
              "          google.colab.kernel.accessAllowed ? 'block' : 'none';\n",
              "\n",
              "        async function convertToInteractive(key) {\n",
              "          const element = document.querySelector('#df-9e1b970b-1e45-4c43-90f5-20539f560738');\n",
              "          const dataTable =\n",
              "            await google.colab.kernel.invokeFunction('convertToInteractive',\n",
              "                                                     [key], {});\n",
              "          if (!dataTable) return;\n",
              "\n",
              "          const docLinkHtml = 'Like what you see? Visit the ' +\n",
              "            '<a target=\"_blank\" href=https://colab.research.google.com/notebooks/data_table.ipynb>data table notebook</a>'\n",
              "            + ' to learn more about interactive tables.';\n",
              "          element.innerHTML = '';\n",
              "          dataTable['output_type'] = 'display_data';\n",
              "          await google.colab.output.renderOutput(dataTable, element);\n",
              "          const docLink = document.createElement('div');\n",
              "          docLink.innerHTML = docLinkHtml;\n",
              "          element.appendChild(docLink);\n",
              "        }\n",
              "      </script>\n",
              "    </div>\n",
              "  </div>\n",
              "  "
            ],
            "text/plain": [
              "          name_left                     geometry  ...       pop_est  gdp_md_est\n",
              "0      Vatican City    POINT (12.45339 41.90328)  ...  6.213780e+07   2221000.0\n",
              "1        San Marino    POINT (12.44177 43.93610)  ...  6.213780e+07   2221000.0\n",
              "2             Vaduz     POINT (9.51667 47.13372)  ...  8.754413e+06    416600.0\n",
              "3           Lobamba   POINT (31.20000 -26.46667)  ...  1.467152e+06     11060.0\n",
              "4        Luxembourg     POINT (6.13000 49.61166)  ...  5.941300e+05     58740.0\n",
              "..              ...                          ...  ...           ...         ...\n",
              "238  Rio de Janeiro  POINT (-43.22697 -22.92308)  ...  2.073534e+08   3081000.0\n",
              "239       São Paulo  POINT (-46.62697 -23.55673)  ...  2.073534e+08   3081000.0\n",
              "240          Sydney  POINT (151.18323 -33.91807)  ...  2.323241e+07   1189000.0\n",
              "241       Singapore    POINT (103.85387 1.29498)  ...  3.138199e+07    863000.0\n",
              "242       Hong Kong   POINT (114.18306 22.30693)  ...  1.379303e+09  21140000.0\n",
              "\n",
              "[243 rows x 8 columns]"
            ]
          },
          "metadata": {},
          "execution_count": 13
        }
      ],
      "source": [
        "joined"
      ]
    },
    {
      "cell_type": "code",
      "execution_count": null,
      "metadata": {
        "id": "HyHJcPA_c_Ao",
        "colab": {
          "base_uri": "https://localhost:8080/"
        },
        "outputId": "0a484d4f-832d-4cd4-f4c2-dfe036ba286b"
      },
      "outputs": [
        {
          "output_type": "execute_result",
          "data": {
            "text/plain": [
              "Asia             59\n",
              "Africa           57\n",
              "Europe           46\n",
              "North America    26\n",
              "South America    14\n",
              "Oceania           8\n",
              "Name: continent, dtype: int64"
            ]
          },
          "metadata": {},
          "execution_count": 7
        }
      ],
      "source": [
        "joined['continent'].value_counts()"
      ]
    },
    {
      "cell_type": "markdown",
      "source": [
        "1 visualizzare il comune di italia con le regioni in qui si trovano \n",
        "2 Visualizzare le province di italia con le reglioni in cui si trovareno\n",
        "3 visualizzare il comune di italia con le province in qui si trovano\n",
        "4 visualizzare il numero di comuni per ogni regione, e colorare le regioni e seconda  \n",
        "5 visualizzare il numero di comuni per ogni regione, e colorare le regioni e seconda"
      ],
      "metadata": {
        "id": "yAUrOrLJVxw9"
      }
    },
    {
      "cell_type": "code",
      "source": [
        "comuni = geopandas.read_file('/content/drive/MyDrive/Colab Notebooks/4E INF/GEOpands/CSV/Mappa Italia/Com01012021_g')\n",
        "regioni = geopandas.read_file(\"/content/drive/MyDrive/Colab Notebooks/4E INF/GEOpands/CSV/Mappa Italia/Reg01012021_g\")\n",
        "province = geopandas.read_file('/content/drive/MyDrive/Colab Notebooks/4E INF/GEOpands/CSV/Mappa Italia/ProvCM01012021_g')"
      ],
      "metadata": {
        "id": "OX5VEw9JXokN"
      },
      "execution_count": null,
      "outputs": []
    },
    {
      "cell_type": "code",
      "source": [
        "comuni"
      ],
      "metadata": {
        "id": "Q1EQhz6nYIGA"
      },
      "execution_count": null,
      "outputs": []
    },
    {
      "cell_type": "code",
      "source": [
        "regioni"
      ],
      "metadata": {
        "id": "31vpiUlgYKSn"
      },
      "execution_count": null,
      "outputs": []
    },
    {
      "cell_type": "code",
      "source": [
        "print('Esercizio 1')\n",
        "comReg = geopandas.sjoin(comuni, regioni, op='within', how='left')\n",
        "comReg "
      ],
      "metadata": {
        "id": "uO6tN5AkXCV7"
      },
      "execution_count": null,
      "outputs": []
    },
    {
      "cell_type": "code",
      "source": [
        "comReg1 =  pd.merge(comuni, regioni, how=\"outer\", on=[\"COD_REG\"])\n",
        "comReg1"
      ],
      "metadata": {
        "id": "aq0oe14lYQtX"
      },
      "execution_count": null,
      "outputs": []
    },
    {
      "cell_type": "code",
      "source": [
        "print('Esercizio 2')\n",
        "provReg = geopandas.sjoin(province, regioni, op='within', how='left')\n",
        "provReg"
      ],
      "metadata": {
        "id": "zR8OgcQhXUjC"
      },
      "execution_count": null,
      "outputs": []
    },
    {
      "cell_type": "code",
      "source": [
        "print('Esercizio 3')\n",
        "comPro = geopandas.sjoin(comuni, province, op='within', how='left')\n",
        "comPro "
      ],
      "metadata": {
        "id": "0DgqRfcWXWjR"
      },
      "execution_count": null,
      "outputs": []
    },
    {
      "cell_type": "code",
      "source": [
        "print('Esercizio 4')\n",
        "countComuni = comReg.groupby('DEN_REG').count()[['COMUNE']].reset_index().rename(columns={'COMUNE':'Totale_Comuni'})\n",
        "countComuni"
      ],
      "metadata": {
        "colab": {
          "base_uri": "https://localhost:8080/",
          "height": 694
        },
        "id": "IqIFuseFZRnO",
        "outputId": "b66482db-cf2d-482a-959d-01f7aa5c2e45"
      },
      "execution_count": null,
      "outputs": [
        {
          "output_type": "stream",
          "name": "stdout",
          "text": [
            "Esercizio 4\n"
          ]
        },
        {
          "output_type": "execute_result",
          "data": {
            "text/html": [
              "\n",
              "  <div id=\"df-73399969-1ebb-4161-a362-0567e2a453a7\">\n",
              "    <div class=\"colab-df-container\">\n",
              "      <div>\n",
              "<style scoped>\n",
              "    .dataframe tbody tr th:only-of-type {\n",
              "        vertical-align: middle;\n",
              "    }\n",
              "\n",
              "    .dataframe tbody tr th {\n",
              "        vertical-align: top;\n",
              "    }\n",
              "\n",
              "    .dataframe thead th {\n",
              "        text-align: right;\n",
              "    }\n",
              "</style>\n",
              "<table border=\"1\" class=\"dataframe\">\n",
              "  <thead>\n",
              "    <tr style=\"text-align: right;\">\n",
              "      <th></th>\n",
              "      <th>DEN_REG</th>\n",
              "      <th>Totale_Comuni</th>\n",
              "    </tr>\n",
              "  </thead>\n",
              "  <tbody>\n",
              "    <tr>\n",
              "      <th>0</th>\n",
              "      <td>Abruzzo</td>\n",
              "      <td>305</td>\n",
              "    </tr>\n",
              "    <tr>\n",
              "      <th>1</th>\n",
              "      <td>Basilicata</td>\n",
              "      <td>131</td>\n",
              "    </tr>\n",
              "    <tr>\n",
              "      <th>2</th>\n",
              "      <td>Calabria</td>\n",
              "      <td>404</td>\n",
              "    </tr>\n",
              "    <tr>\n",
              "      <th>3</th>\n",
              "      <td>Campania</td>\n",
              "      <td>550</td>\n",
              "    </tr>\n",
              "    <tr>\n",
              "      <th>4</th>\n",
              "      <td>Emilia-Romagna</td>\n",
              "      <td>328</td>\n",
              "    </tr>\n",
              "    <tr>\n",
              "      <th>5</th>\n",
              "      <td>Friuli Venezia Giulia</td>\n",
              "      <td>215</td>\n",
              "    </tr>\n",
              "    <tr>\n",
              "      <th>6</th>\n",
              "      <td>Lazio</td>\n",
              "      <td>378</td>\n",
              "    </tr>\n",
              "    <tr>\n",
              "      <th>7</th>\n",
              "      <td>Liguria</td>\n",
              "      <td>234</td>\n",
              "    </tr>\n",
              "    <tr>\n",
              "      <th>8</th>\n",
              "      <td>Lombardia</td>\n",
              "      <td>1506</td>\n",
              "    </tr>\n",
              "    <tr>\n",
              "      <th>9</th>\n",
              "      <td>Marche</td>\n",
              "      <td>227</td>\n",
              "    </tr>\n",
              "    <tr>\n",
              "      <th>10</th>\n",
              "      <td>Molise</td>\n",
              "      <td>136</td>\n",
              "    </tr>\n",
              "    <tr>\n",
              "      <th>11</th>\n",
              "      <td>Piemonte</td>\n",
              "      <td>1181</td>\n",
              "    </tr>\n",
              "    <tr>\n",
              "      <th>12</th>\n",
              "      <td>Puglia</td>\n",
              "      <td>257</td>\n",
              "    </tr>\n",
              "    <tr>\n",
              "      <th>13</th>\n",
              "      <td>Sardegna</td>\n",
              "      <td>377</td>\n",
              "    </tr>\n",
              "    <tr>\n",
              "      <th>14</th>\n",
              "      <td>Sicilia</td>\n",
              "      <td>390</td>\n",
              "    </tr>\n",
              "    <tr>\n",
              "      <th>15</th>\n",
              "      <td>Toscana</td>\n",
              "      <td>273</td>\n",
              "    </tr>\n",
              "    <tr>\n",
              "      <th>16</th>\n",
              "      <td>Trentino-Alto Adige</td>\n",
              "      <td>282</td>\n",
              "    </tr>\n",
              "    <tr>\n",
              "      <th>17</th>\n",
              "      <td>Umbria</td>\n",
              "      <td>92</td>\n",
              "    </tr>\n",
              "    <tr>\n",
              "      <th>18</th>\n",
              "      <td>Valle d'Aosta</td>\n",
              "      <td>74</td>\n",
              "    </tr>\n",
              "    <tr>\n",
              "      <th>19</th>\n",
              "      <td>Veneto</td>\n",
              "      <td>563</td>\n",
              "    </tr>\n",
              "  </tbody>\n",
              "</table>\n",
              "</div>\n",
              "      <button class=\"colab-df-convert\" onclick=\"convertToInteractive('df-73399969-1ebb-4161-a362-0567e2a453a7')\"\n",
              "              title=\"Convert this dataframe to an interactive table.\"\n",
              "              style=\"display:none;\">\n",
              "        \n",
              "  <svg xmlns=\"http://www.w3.org/2000/svg\" height=\"24px\"viewBox=\"0 0 24 24\"\n",
              "       width=\"24px\">\n",
              "    <path d=\"M0 0h24v24H0V0z\" fill=\"none\"/>\n",
              "    <path d=\"M18.56 5.44l.94 2.06.94-2.06 2.06-.94-2.06-.94-.94-2.06-.94 2.06-2.06.94zm-11 1L8.5 8.5l.94-2.06 2.06-.94-2.06-.94L8.5 2.5l-.94 2.06-2.06.94zm10 10l.94 2.06.94-2.06 2.06-.94-2.06-.94-.94-2.06-.94 2.06-2.06.94z\"/><path d=\"M17.41 7.96l-1.37-1.37c-.4-.4-.92-.59-1.43-.59-.52 0-1.04.2-1.43.59L10.3 9.45l-7.72 7.72c-.78.78-.78 2.05 0 2.83L4 21.41c.39.39.9.59 1.41.59.51 0 1.02-.2 1.41-.59l7.78-7.78 2.81-2.81c.8-.78.8-2.07 0-2.86zM5.41 20L4 18.59l7.72-7.72 1.47 1.35L5.41 20z\"/>\n",
              "  </svg>\n",
              "      </button>\n",
              "      \n",
              "  <style>\n",
              "    .colab-df-container {\n",
              "      display:flex;\n",
              "      flex-wrap:wrap;\n",
              "      gap: 12px;\n",
              "    }\n",
              "\n",
              "    .colab-df-convert {\n",
              "      background-color: #E8F0FE;\n",
              "      border: none;\n",
              "      border-radius: 50%;\n",
              "      cursor: pointer;\n",
              "      display: none;\n",
              "      fill: #1967D2;\n",
              "      height: 32px;\n",
              "      padding: 0 0 0 0;\n",
              "      width: 32px;\n",
              "    }\n",
              "\n",
              "    .colab-df-convert:hover {\n",
              "      background-color: #E2EBFA;\n",
              "      box-shadow: 0px 1px 2px rgba(60, 64, 67, 0.3), 0px 1px 3px 1px rgba(60, 64, 67, 0.15);\n",
              "      fill: #174EA6;\n",
              "    }\n",
              "\n",
              "    [theme=dark] .colab-df-convert {\n",
              "      background-color: #3B4455;\n",
              "      fill: #D2E3FC;\n",
              "    }\n",
              "\n",
              "    [theme=dark] .colab-df-convert:hover {\n",
              "      background-color: #434B5C;\n",
              "      box-shadow: 0px 1px 3px 1px rgba(0, 0, 0, 0.15);\n",
              "      filter: drop-shadow(0px 1px 2px rgba(0, 0, 0, 0.3));\n",
              "      fill: #FFFFFF;\n",
              "    }\n",
              "  </style>\n",
              "\n",
              "      <script>\n",
              "        const buttonEl =\n",
              "          document.querySelector('#df-73399969-1ebb-4161-a362-0567e2a453a7 button.colab-df-convert');\n",
              "        buttonEl.style.display =\n",
              "          google.colab.kernel.accessAllowed ? 'block' : 'none';\n",
              "\n",
              "        async function convertToInteractive(key) {\n",
              "          const element = document.querySelector('#df-73399969-1ebb-4161-a362-0567e2a453a7');\n",
              "          const dataTable =\n",
              "            await google.colab.kernel.invokeFunction('convertToInteractive',\n",
              "                                                     [key], {});\n",
              "          if (!dataTable) return;\n",
              "\n",
              "          const docLinkHtml = 'Like what you see? Visit the ' +\n",
              "            '<a target=\"_blank\" href=https://colab.research.google.com/notebooks/data_table.ipynb>data table notebook</a>'\n",
              "            + ' to learn more about interactive tables.';\n",
              "          element.innerHTML = '';\n",
              "          dataTable['output_type'] = 'display_data';\n",
              "          await google.colab.output.renderOutput(dataTable, element);\n",
              "          const docLink = document.createElement('div');\n",
              "          docLink.innerHTML = docLinkHtml;\n",
              "          element.appendChild(docLink);\n",
              "        }\n",
              "      </script>\n",
              "    </div>\n",
              "  </div>\n",
              "  "
            ],
            "text/plain": [
              "                  DEN_REG  Totale_Comuni\n",
              "0                 Abruzzo            305\n",
              "1              Basilicata            131\n",
              "2                Calabria            404\n",
              "3                Campania            550\n",
              "4          Emilia-Romagna            328\n",
              "5   Friuli Venezia Giulia            215\n",
              "6                   Lazio            378\n",
              "7                 Liguria            234\n",
              "8               Lombardia           1506\n",
              "9                  Marche            227\n",
              "10                 Molise            136\n",
              "11               Piemonte           1181\n",
              "12                 Puglia            257\n",
              "13               Sardegna            377\n",
              "14                Sicilia            390\n",
              "15                Toscana            273\n",
              "16    Trentino-Alto Adige            282\n",
              "17                 Umbria             92\n",
              "18          Valle d'Aosta             74\n",
              "19                 Veneto            563"
            ]
          },
          "metadata": {},
          "execution_count": 55
        }
      ]
    },
    {
      "cell_type": "code",
      "source": [
        "CIAOO =  pd.merge(regioni, countComuni, how=\"outer\", on=[\"DEN_REG\"])\n",
        "CIAOO"
      ],
      "metadata": {
        "colab": {
          "base_uri": "https://localhost:8080/",
          "height": 677
        },
        "id": "DWeLb8zfauxU",
        "outputId": "73b7a98f-900d-4568-e9e4-558b9026c51a"
      },
      "execution_count": null,
      "outputs": [
        {
          "output_type": "execute_result",
          "data": {
            "text/html": [
              "\n",
              "  <div id=\"df-c79228a2-ad48-4e98-8db5-436633a00aab\">\n",
              "    <div class=\"colab-df-container\">\n",
              "      <div>\n",
              "<style scoped>\n",
              "    .dataframe tbody tr th:only-of-type {\n",
              "        vertical-align: middle;\n",
              "    }\n",
              "\n",
              "    .dataframe tbody tr th {\n",
              "        vertical-align: top;\n",
              "    }\n",
              "\n",
              "    .dataframe thead th {\n",
              "        text-align: right;\n",
              "    }\n",
              "</style>\n",
              "<table border=\"1\" class=\"dataframe\">\n",
              "  <thead>\n",
              "    <tr style=\"text-align: right;\">\n",
              "      <th></th>\n",
              "      <th>COD_RIP</th>\n",
              "      <th>COD_REG</th>\n",
              "      <th>DEN_REG</th>\n",
              "      <th>Shape_Leng</th>\n",
              "      <th>Shape_Area</th>\n",
              "      <th>geometry</th>\n",
              "      <th>Totale_Comuni</th>\n",
              "    </tr>\n",
              "  </thead>\n",
              "  <tbody>\n",
              "    <tr>\n",
              "      <th>0</th>\n",
              "      <td>1</td>\n",
              "      <td>1</td>\n",
              "      <td>Piemonte</td>\n",
              "      <td>1.235512e+06</td>\n",
              "      <td>2.539390e+10</td>\n",
              "      <td>POLYGON ((457749.464 5145501.795, 458662.395 5...</td>\n",
              "      <td>1181</td>\n",
              "    </tr>\n",
              "    <tr>\n",
              "      <th>1</th>\n",
              "      <td>1</td>\n",
              "      <td>2</td>\n",
              "      <td>Valle d'Aosta</td>\n",
              "      <td>3.109681e+05</td>\n",
              "      <td>3.258838e+09</td>\n",
              "      <td>POLYGON ((390652.644 5091766.171, 390748.643 5...</td>\n",
              "      <td>74</td>\n",
              "    </tr>\n",
              "    <tr>\n",
              "      <th>2</th>\n",
              "      <td>1</td>\n",
              "      <td>3</td>\n",
              "      <td>Lombardia</td>\n",
              "      <td>1.410223e+06</td>\n",
              "      <td>2.386232e+10</td>\n",
              "      <td>MULTIPOLYGON (((485536.366 4985444.605, 485366...</td>\n",
              "      <td>1506</td>\n",
              "    </tr>\n",
              "    <tr>\n",
              "      <th>3</th>\n",
              "      <td>2</td>\n",
              "      <td>4</td>\n",
              "      <td>Trentino-Alto Adige</td>\n",
              "      <td>8.008937e+05</td>\n",
              "      <td>1.360755e+10</td>\n",
              "      <td>POLYGON ((743267.749 5219765.793, 743387.812 5...</td>\n",
              "      <td>282</td>\n",
              "    </tr>\n",
              "    <tr>\n",
              "      <th>4</th>\n",
              "      <td>2</td>\n",
              "      <td>5</td>\n",
              "      <td>Veneto</td>\n",
              "      <td>1.054587e+06</td>\n",
              "      <td>1.834355e+10</td>\n",
              "      <td>POLYGON ((768123.960 5175397.497, 768135.210 5...</td>\n",
              "      <td>563</td>\n",
              "    </tr>\n",
              "    <tr>\n",
              "      <th>5</th>\n",
              "      <td>2</td>\n",
              "      <td>6</td>\n",
              "      <td>Friuli Venezia Giulia</td>\n",
              "      <td>6.700448e+05</td>\n",
              "      <td>7.933911e+09</td>\n",
              "      <td>MULTIPOLYGON (((872344.457 5061894.048, 872344...</td>\n",
              "      <td>215</td>\n",
              "    </tr>\n",
              "    <tr>\n",
              "      <th>6</th>\n",
              "      <td>1</td>\n",
              "      <td>7</td>\n",
              "      <td>Liguria</td>\n",
              "      <td>8.205420e+05</td>\n",
              "      <td>5.414612e+09</td>\n",
              "      <td>MULTIPOLYGON (((568226.691 4874823.573, 568219...</td>\n",
              "      <td>234</td>\n",
              "    </tr>\n",
              "    <tr>\n",
              "      <th>7</th>\n",
              "      <td>2</td>\n",
              "      <td>8</td>\n",
              "      <td>Emilia-Romagna</td>\n",
              "      <td>1.176188e+06</td>\n",
              "      <td>2.244275e+10</td>\n",
              "      <td>MULTIPOLYGON (((618343.929 4893985.661, 618335...</td>\n",
              "      <td>328</td>\n",
              "    </tr>\n",
              "    <tr>\n",
              "      <th>8</th>\n",
              "      <td>3</td>\n",
              "      <td>9</td>\n",
              "      <td>Toscana</td>\n",
              "      <td>1.306596e+06</td>\n",
              "      <td>2.298352e+10</td>\n",
              "      <td>MULTIPOLYGON (((674426.642 4680710.364, 674563...</td>\n",
              "      <td>273</td>\n",
              "    </tr>\n",
              "    <tr>\n",
              "      <th>9</th>\n",
              "      <td>3</td>\n",
              "      <td>10</td>\n",
              "      <td>Umbria</td>\n",
              "      <td>6.197684e+05</td>\n",
              "      <td>8.464380e+09</td>\n",
              "      <td>MULTIPOLYGON (((776982.140 4832209.918, 776910...</td>\n",
              "      <td>92</td>\n",
              "    </tr>\n",
              "    <tr>\n",
              "      <th>10</th>\n",
              "      <td>3</td>\n",
              "      <td>11</td>\n",
              "      <td>Marche</td>\n",
              "      <td>6.261785e+05</td>\n",
              "      <td>9.400594e+09</td>\n",
              "      <td>POLYGON ((802303.985 4874996.456, 802366.734 4...</td>\n",
              "      <td>227</td>\n",
              "    </tr>\n",
              "    <tr>\n",
              "      <th>11</th>\n",
              "      <td>3</td>\n",
              "      <td>12</td>\n",
              "      <td>Lazio</td>\n",
              "      <td>1.054578e+06</td>\n",
              "      <td>1.722679e+10</td>\n",
              "      <td>MULTIPOLYGON (((875952.995 4524692.050, 875769...</td>\n",
              "      <td>378</td>\n",
              "    </tr>\n",
              "    <tr>\n",
              "      <th>12</th>\n",
              "      <td>4</td>\n",
              "      <td>13</td>\n",
              "      <td>Abruzzo</td>\n",
              "      <td>6.153465e+05</td>\n",
              "      <td>1.082885e+10</td>\n",
              "      <td>MULTIPOLYGON (((930273.425 4714737.743, 930147...</td>\n",
              "      <td>305</td>\n",
              "    </tr>\n",
              "    <tr>\n",
              "      <th>13</th>\n",
              "      <td>4</td>\n",
              "      <td>14</td>\n",
              "      <td>Molise</td>\n",
              "      <td>4.338181e+05</td>\n",
              "      <td>4.461183e+09</td>\n",
              "      <td>POLYGON ((984002.800 4670714.415, 985067.040 4...</td>\n",
              "      <td>136</td>\n",
              "    </tr>\n",
              "    <tr>\n",
              "      <th>14</th>\n",
              "      <td>4</td>\n",
              "      <td>15</td>\n",
              "      <td>Campania</td>\n",
              "      <td>8.881667e+05</td>\n",
              "      <td>1.366325e+10</td>\n",
              "      <td>MULTIPOLYGON (((1037313.692 4449410.367, 10373...</td>\n",
              "      <td>550</td>\n",
              "    </tr>\n",
              "    <tr>\n",
              "      <th>15</th>\n",
              "      <td>4</td>\n",
              "      <td>16</td>\n",
              "      <td>Puglia</td>\n",
              "      <td>1.175757e+06</td>\n",
              "      <td>1.953616e+10</td>\n",
              "      <td>MULTIPOLYGON (((1280636.111 4454459.746, 12806...</td>\n",
              "      <td>257</td>\n",
              "    </tr>\n",
              "    <tr>\n",
              "      <th>16</th>\n",
              "      <td>4</td>\n",
              "      <td>17</td>\n",
              "      <td>Basilicata</td>\n",
              "      <td>6.142055e+05</td>\n",
              "      <td>1.007274e+10</td>\n",
              "      <td>MULTIPOLYGON (((1073707.061 4445700.106, 10737...</td>\n",
              "      <td>131</td>\n",
              "    </tr>\n",
              "    <tr>\n",
              "      <th>17</th>\n",
              "      <td>4</td>\n",
              "      <td>18</td>\n",
              "      <td>Calabria</td>\n",
              "      <td>8.378109e+05</td>\n",
              "      <td>1.521607e+10</td>\n",
              "      <td>MULTIPOLYGON (((1083358.846 4416348.741, 10833...</td>\n",
              "      <td>404</td>\n",
              "    </tr>\n",
              "    <tr>\n",
              "      <th>18</th>\n",
              "      <td>5</td>\n",
              "      <td>19</td>\n",
              "      <td>Sicilia</td>\n",
              "      <td>1.334638e+06</td>\n",
              "      <td>2.582376e+10</td>\n",
              "      <td>MULTIPOLYGON (((822886.611 3935355.889, 822871...</td>\n",
              "      <td>390</td>\n",
              "    </tr>\n",
              "    <tr>\n",
              "      <th>19</th>\n",
              "      <td>5</td>\n",
              "      <td>20</td>\n",
              "      <td>Sardegna</td>\n",
              "      <td>1.438638e+06</td>\n",
              "      <td>2.409463e+10</td>\n",
              "      <td>MULTIPOLYGON (((448813.650 4301762.751, 448823...</td>\n",
              "      <td>377</td>\n",
              "    </tr>\n",
              "  </tbody>\n",
              "</table>\n",
              "</div>\n",
              "      <button class=\"colab-df-convert\" onclick=\"convertToInteractive('df-c79228a2-ad48-4e98-8db5-436633a00aab')\"\n",
              "              title=\"Convert this dataframe to an interactive table.\"\n",
              "              style=\"display:none;\">\n",
              "        \n",
              "  <svg xmlns=\"http://www.w3.org/2000/svg\" height=\"24px\"viewBox=\"0 0 24 24\"\n",
              "       width=\"24px\">\n",
              "    <path d=\"M0 0h24v24H0V0z\" fill=\"none\"/>\n",
              "    <path d=\"M18.56 5.44l.94 2.06.94-2.06 2.06-.94-2.06-.94-.94-2.06-.94 2.06-2.06.94zm-11 1L8.5 8.5l.94-2.06 2.06-.94-2.06-.94L8.5 2.5l-.94 2.06-2.06.94zm10 10l.94 2.06.94-2.06 2.06-.94-2.06-.94-.94-2.06-.94 2.06-2.06.94z\"/><path d=\"M17.41 7.96l-1.37-1.37c-.4-.4-.92-.59-1.43-.59-.52 0-1.04.2-1.43.59L10.3 9.45l-7.72 7.72c-.78.78-.78 2.05 0 2.83L4 21.41c.39.39.9.59 1.41.59.51 0 1.02-.2 1.41-.59l7.78-7.78 2.81-2.81c.8-.78.8-2.07 0-2.86zM5.41 20L4 18.59l7.72-7.72 1.47 1.35L5.41 20z\"/>\n",
              "  </svg>\n",
              "      </button>\n",
              "      \n",
              "  <style>\n",
              "    .colab-df-container {\n",
              "      display:flex;\n",
              "      flex-wrap:wrap;\n",
              "      gap: 12px;\n",
              "    }\n",
              "\n",
              "    .colab-df-convert {\n",
              "      background-color: #E8F0FE;\n",
              "      border: none;\n",
              "      border-radius: 50%;\n",
              "      cursor: pointer;\n",
              "      display: none;\n",
              "      fill: #1967D2;\n",
              "      height: 32px;\n",
              "      padding: 0 0 0 0;\n",
              "      width: 32px;\n",
              "    }\n",
              "\n",
              "    .colab-df-convert:hover {\n",
              "      background-color: #E2EBFA;\n",
              "      box-shadow: 0px 1px 2px rgba(60, 64, 67, 0.3), 0px 1px 3px 1px rgba(60, 64, 67, 0.15);\n",
              "      fill: #174EA6;\n",
              "    }\n",
              "\n",
              "    [theme=dark] .colab-df-convert {\n",
              "      background-color: #3B4455;\n",
              "      fill: #D2E3FC;\n",
              "    }\n",
              "\n",
              "    [theme=dark] .colab-df-convert:hover {\n",
              "      background-color: #434B5C;\n",
              "      box-shadow: 0px 1px 3px 1px rgba(0, 0, 0, 0.15);\n",
              "      filter: drop-shadow(0px 1px 2px rgba(0, 0, 0, 0.3));\n",
              "      fill: #FFFFFF;\n",
              "    }\n",
              "  </style>\n",
              "\n",
              "      <script>\n",
              "        const buttonEl =\n",
              "          document.querySelector('#df-c79228a2-ad48-4e98-8db5-436633a00aab button.colab-df-convert');\n",
              "        buttonEl.style.display =\n",
              "          google.colab.kernel.accessAllowed ? 'block' : 'none';\n",
              "\n",
              "        async function convertToInteractive(key) {\n",
              "          const element = document.querySelector('#df-c79228a2-ad48-4e98-8db5-436633a00aab');\n",
              "          const dataTable =\n",
              "            await google.colab.kernel.invokeFunction('convertToInteractive',\n",
              "                                                     [key], {});\n",
              "          if (!dataTable) return;\n",
              "\n",
              "          const docLinkHtml = 'Like what you see? Visit the ' +\n",
              "            '<a target=\"_blank\" href=https://colab.research.google.com/notebooks/data_table.ipynb>data table notebook</a>'\n",
              "            + ' to learn more about interactive tables.';\n",
              "          element.innerHTML = '';\n",
              "          dataTable['output_type'] = 'display_data';\n",
              "          await google.colab.output.renderOutput(dataTable, element);\n",
              "          const docLink = document.createElement('div');\n",
              "          docLink.innerHTML = docLinkHtml;\n",
              "          element.appendChild(docLink);\n",
              "        }\n",
              "      </script>\n",
              "    </div>\n",
              "  </div>\n",
              "  "
            ],
            "text/plain": [
              "    COD_RIP  ...  Totale_Comuni\n",
              "0         1  ...           1181\n",
              "1         1  ...             74\n",
              "2         1  ...           1506\n",
              "3         2  ...            282\n",
              "4         2  ...            563\n",
              "5         2  ...            215\n",
              "6         1  ...            234\n",
              "7         2  ...            328\n",
              "8         3  ...            273\n",
              "9         3  ...             92\n",
              "10        3  ...            227\n",
              "11        3  ...            378\n",
              "12        4  ...            305\n",
              "13        4  ...            136\n",
              "14        4  ...            550\n",
              "15        4  ...            257\n",
              "16        4  ...            131\n",
              "17        4  ...            404\n",
              "18        5  ...            390\n",
              "19        5  ...            377\n",
              "\n",
              "[20 rows x 7 columns]"
            ]
          },
          "metadata": {},
          "execution_count": 61
        }
      ]
    },
    {
      "cell_type": "code",
      "source": [
        "CIAOO.index"
      ],
      "metadata": {
        "colab": {
          "base_uri": "https://localhost:8080/"
        },
        "id": "4WUm3fmwdgJh",
        "outputId": "10cc82b5-f436-453c-b3ec-4f5ba0b5fac4"
      },
      "execution_count": null,
      "outputs": [
        {
          "output_type": "execute_result",
          "data": {
            "text/plain": [
              "Int64Index([0, 1, 2, 3, 4, 5, 6, 7, 8, 9, 10, 11, 12, 13, 14, 15, 16, 17, 18,\n",
              "            19],\n",
              "           dtype='int64')"
            ]
          },
          "metadata": {},
          "execution_count": 60
        }
      ]
    },
    {
      "cell_type": "code",
      "source": [
        "CIAOO.plot(column=\"Totale_Comuni\", legend=True)"
      ],
      "metadata": {
        "colab": {
          "base_uri": "https://localhost:8080/",
          "height": 306
        },
        "id": "gF15N5_NcQrz",
        "outputId": "8b070ac8-4557-4b2b-9db3-c4e59c83805d"
      },
      "execution_count": null,
      "outputs": [
        {
          "output_type": "execute_result",
          "data": {
            "text/plain": [
              "<matplotlib.axes._subplots.AxesSubplot at 0x7fd823f1b810>"
            ]
          },
          "metadata": {},
          "execution_count": 62
        },
        {
          "output_type": "display_data",
          "data": {
            "image/png": "[encoded data removed]",
            "text/plain": [
              "<Figure size 432x288 with 2 Axes>"
            ]
          },
          "metadata": {
            "needs_background": "light"
          }
        }
      ]
    },
    {
      "cell_type": "code",
      "source": [
        ""
      ],
      "metadata": {
        "id": "UJdTvMlHd2av"
      },
      "execution_count": null,
      "outputs": []
    },
    {
      "cell_type": "markdown",
      "metadata": {
        "id": "naVKvQYRc_Ao"
      },
      "source": [
        "## Lets's practice!\n",
        "\n",
        "We will again use the Paris datasets to do some exercises. Let's start importing them again:"
      ]
    },
    {
      "cell_type": "code",
      "execution_count": null,
      "metadata": {
        "id": "vK6ehysRc_Ao"
      },
      "outputs": [],
      "source": [
        "districts = geopandas.read_file(\"data/paris_districts.geojson\").to_crs(epsg=2154)\n",
        "stations = geopandas.read_file(\"data/paris_bike_stations.geojson\").to_crs(epsg=2154)"
      ]
    },
    {
      "cell_type": "markdown",
      "metadata": {
        "id": "XV9j5VY6c_Ap"
      },
      "source": [
        "<div class=\"alert alert-success\">\n",
        "\n",
        "**EXERCISE:**\n",
        "\n",
        "* Determine for each bike station in which district it is located (using a spatial join!). Call the result `joined`.\n",
        "\n",
        "</div>"
      ]
    },
    {
      "cell_type": "code",
      "execution_count": null,
      "metadata": {
        "clear_cell": true,
        "id": "WxFd48aFc_Ap"
      },
      "outputs": [],
      "source": [
        "# %load _solved/solutions/04-spatial-joins1.py"
      ]
    },
    {
      "cell_type": "code",
      "execution_count": null,
      "metadata": {
        "clear_cell": true,
        "id": "vttrKWcTc_Ap"
      },
      "outputs": [],
      "source": [
        "# %load _solved/solutions/04-spatial-joins2.py"
      ]
    },
    {
      "cell_type": "markdown",
      "metadata": {
        "id": "V35jw5hSc_Ap"
      },
      "source": [
        "<div class=\"alert alert-success\">\n",
        "\n",
        "**EXERCISE: Map of tree density by district (I)**\n",
        "\n",
        "Using a dataset of all trees in public spaces in Paris, the goal is to make a map of the tree density by district. For this, we first need to find out how many trees each district contains, which we will do in this exercise. In the following exercise, we will then use this result to calculate the density and create a map.\n",
        "\n",
        "To obtain the tree count by district, we first need to know in which district each tree is located, which we can do with a spatial join. Then, using the result of the spatial join, we will calculate the number of trees located in each district using the pandas 'group-by' functionality.\n",
        "\n",
        "- Import the trees dataset `\"paris_trees.gpkg\"` and call the result `trees`. Also read the districts dataset we have seen previously (`\"paris_districts.geojson\"`), and call this `districts`. Convert the districts dataset to the same CRS as the trees dataset.\n",
        "- Add a column with the `'district_name'` to the trees dataset using a spatial join. Call the result `joined`.\n",
        "\n",
        "<details><summary>Hints</summary>\n",
        "\n",
        "- Remember, we can perform a spatial join with the `geopandas.sjoin()` function.\n",
        "- `geopandas.sjoin()` takes as first argument the dataframe to which we want to add information, and as second argument the dataframe that contains this additional information.\n",
        "- The `op` argument is used to specify which spatial relationship between both dataframes we want to use for joining (options are `'intersects'`, `'contains'`, `'within'`).\n",
        "\n",
        "</details>\n",
        "\n",
        "</div>"
      ]
    },
    {
      "cell_type": "code",
      "execution_count": null,
      "metadata": {
        "clear_cell": true,
        "id": "jx1Awbf3c_Ap"
      },
      "outputs": [],
      "source": [
        "# %load _solved/solutions/04-spatial-joins3.py"
      ]
    },
    {
      "cell_type": "code",
      "execution_count": null,
      "metadata": {
        "clear_cell": true,
        "id": "adjgSey6c_Ap"
      },
      "outputs": [],
      "source": [
        "# %load _solved/solutions/04-spatial-joins4.py"
      ]
    },
    {
      "cell_type": "code",
      "execution_count": null,
      "metadata": {
        "clear_cell": true,
        "id": "qd5ANtjvc_Aq"
      },
      "outputs": [],
      "source": [
        "# %load _solved/solutions/04-spatial-joins5.py"
      ]
    },
    {
      "cell_type": "markdown",
      "metadata": {
        "id": "XKIyWE8Oc_Aq"
      },
      "source": [
        "<div class=\"alert alert-success\">\n",
        "\n",
        "**EXERCISE: Map of tree density by district (II)**\n",
        "\n",
        "- Calculate the number of trees located in each district: group the `joined` DataFrame by the `'district_name'` column, and calculate the size of each group. We convert the resulting Series `trees_by_district` to a DataFrame for the next exercise.\n",
        "\n",
        "<details><summary>Hints</summary>\n",
        "\n",
        "- The general group-by syntax in pandas is: `df.groupby('key').aggregation_method()`, substituting 'key' and 'aggregation_method' with the appropriate column name and method. \n",
        "- To know the size of groups, we can use the `.size()` method.\n",
        "\n",
        "\n",
        "</details>\n",
        "\n",
        "</div>"
      ]
    },
    {
      "cell_type": "code",
      "execution_count": null,
      "metadata": {
        "clear_cell": true,
        "id": "oNdrEHVCc_Aq"
      },
      "outputs": [],
      "source": [
        "# %load _solved/solutions/04-spatial-joins6.py"
      ]
    },
    {
      "cell_type": "code",
      "execution_count": null,
      "metadata": {
        "clear_cell": true,
        "id": "mx8F7LRuc_Aq"
      },
      "outputs": [],
      "source": [
        "# %load _solved/solutions/04-spatial-joins7.py"
      ]
    },
    {
      "cell_type": "code",
      "execution_count": null,
      "metadata": {
        "clear_cell": true,
        "id": "xLzurcX3c_Aq"
      },
      "outputs": [],
      "source": [
        "# %load _solved/solutions/04-spatial-joins8.py"
      ]
    },
    {
      "cell_type": "markdown",
      "metadata": {
        "id": "KtgcrKD7c_Aq"
      },
      "source": [
        "<div class=\"alert alert-success\">\n",
        "\n",
        "**EXERCISE: Map of tree density by district (III)**\n",
        "\n",
        "Now we have obtained the number of trees by district, we can make the map of the districts colored by the tree density.\n",
        "\n",
        "For this, we first need to merge the number of trees in each district we calculated in the previous step (`trees_by_district`) back to the districts dataset. We will use the [`pd.merge()`](https://pandas.pydata.org/pandas-docs/stable/reference/api/pandas.merge.html) function to join two dataframes based on a common column.\n",
        "\n",
        "Since not all districts have the same size, it is a fairer comparison to visualize the tree density: the number of trees relative to the area.\n",
        "\n",
        "- Use the `pd.merge()` function to merge `districts` and `trees_by_district` dataframes on the `'district_name'` column. Call the result `districts_trees`.\n",
        "- Add a column `'n_trees_per_area'` to the `districts_trees` dataframe, based on the `'n_trees'` column divided by the area.\n",
        "- Make a plot of the `districts_trees` dataframe, using the `'n_trees_per_area'` column to determine the color of the polygons.\n",
        "\n",
        "\n",
        "<details><summary>Hints</summary>\n",
        "\n",
        "- The pandas `pd.merge()` function takes the two dataframes you want to merge as the first two arguments.\n",
        "- The column name on which you want to merge both datasets can be specified with the `on` keyword.\n",
        "- Accessing a column of a DataFrame can be done with `df['col']`, while adding a column to a DataFrame can be done with `df['new_col'] = values` where `values` can be the result of a computation.\n",
        "- Remember, the area of each geometry in a GeoSeries or GeoDataFrame can be retrieved using the `area` attribute. So considering a GeoDataFrame `gdf`, then `gdf.geometry.area` will return a Series with the area of each geometry.\n",
        "- We can use the `.plot()` method of a GeoDataFrame to make a visualization of the geometries. \n",
        "- For using one of the columns of the GeoDataFrame to determine the fill color, use the `column=` keyword.\n",
        "\n",
        "\n",
        "</details>\n",
        "\n",
        "</div>"
      ]
    },
    {
      "cell_type": "code",
      "execution_count": null,
      "metadata": {
        "clear_cell": true,
        "id": "3cJENu66c_Ar"
      },
      "outputs": [],
      "source": [
        "# %load _solved/solutions/04-spatial-joins9.py"
      ]
    },
    {
      "cell_type": "code",
      "execution_count": null,
      "metadata": {
        "clear_cell": true,
        "id": "6bm86-lXc_Ar"
      },
      "outputs": [],
      "source": [
        "# %load _solved/solutions/04-spatial-joins10.py"
      ]
    },
    {
      "cell_type": "code",
      "execution_count": null,
      "metadata": {
        "clear_cell": true,
        "id": "DIREy5xsc_Ar"
      },
      "outputs": [],
      "source": [
        "# %load _solved/solutions/04-spatial-joins11.py"
      ]
    },
    {
      "cell_type": "markdown",
      "metadata": {
        "id": "04BdE74Mc_Ar"
      },
      "source": [
        "## The overlay operation\n",
        "\n",
        "In the spatial join operation above, we are not changing the geometries itself. We are not joining geometries, but joining attributes based on a spatial relationship between the geometries. This also means that the geometries need to at least overlap partially.\n",
        "\n",
        "If you want to create new geometries based on joining (combining) geometries of different dataframes into one new dataframe (eg by taking the intersection of the geometries), you want an **overlay** operation."
      ]
    },
    {
      "cell_type": "code",
      "execution_count": null,
      "metadata": {
        "id": "GJ5lseAic_Ar"
      },
      "outputs": [],
      "source": [
        "africa = countries[countries['continent'] == 'Africa']"
      ]
    },
    {
      "cell_type": "code",
      "execution_count": null,
      "metadata": {
        "id": "E2WS0e2qc_Ar"
      },
      "outputs": [],
      "source": [
        "africa.plot()"
      ]
    },
    {
      "cell_type": "code",
      "execution_count": null,
      "metadata": {
        "id": "H0pniUgBc_As"
      },
      "outputs": [],
      "source": [
        "cities['geometry'] = cities.buffer(2)"
      ]
    },
    {
      "cell_type": "code",
      "execution_count": null,
      "metadata": {
        "id": "1O_MrJjxc_As"
      },
      "outputs": [],
      "source": [
        "geopandas.overlay(africa, cities, how='difference').plot()"
      ]
    },
    {
      "cell_type": "markdown",
      "metadata": {
        "id": "Ag4sn5e9c_As"
      },
      "source": [
        "<div class=\"alert alert-info\" style=\"font-size:120%\">\n",
        "<b>REMEMBER</b> <br>\n",
        "\n",
        "* **Spatial join**: transfer attributes from one dataframe to another based on the spatial relationship\n",
        "* **Spatial overlay**: construct new geometries based on spatial operation between both dataframes (and combining attributes of both dataframes)\n",
        "\n",
        "</div>"
      ]
    },
    {
      "cell_type": "markdown",
      "metadata": {
        "id": "8YZ-E8Stc_As"
      },
      "source": [
        "<div class=\"alert alert-success\">\n",
        "\n",
        "**EXERCISE: Exploring a Land Use dataset**\n",
        "\n",
        "For the following exercises, we first introduce a new dataset: a dataset about the land use of Paris (a simplified version based on the open European [Urban Atlas](https://land.copernicus.eu/local/urban-atlas)). The land use indicates for what kind of activity a certain area is used, such as residential area or for recreation. It is a polygon dataset, with a label representing the land use class for different areas in Paris.\n",
        "\n",
        "In this exercise, we will read the data, explore it visually, and calculate the total area of the different classes of land use in the area of Paris.\n",
        "\n",
        "* Read in the `'paris_land_use.shp'` file and assign the result to a variable `land_use`.\n",
        "* Make a plot of `land_use`, using the `'class'` column to color the polygons. We also add a legend. Note: it might take a few seconds for the plot to generate because there are a lot of polygons.\n",
        "* Add a new column `'area'` with the area of each polygon.\n",
        "* Calculate the total area in km² for each `'class'` using the `groupby()` method, and print the result.\n",
        "\n",
        "<details><summary>Hints</summary>\n",
        "\n",
        "* Reading a file can be done with the `geopandas.read_file()` function.\n",
        "* To use a column to color the geometries, use the `column` keyword to indicate the column name.\n",
        "* The area of each geometry can be accessed with the `area` attribute of the `geometry` of the GeoDataFrame.\n",
        "* The `groupby()` method takes the column name on which you want to group as the first argument.\n",
        "\n",
        "</details>\n",
        "\n",
        "</div>"
      ]
    },
    {
      "cell_type": "code",
      "execution_count": null,
      "metadata": {
        "clear_cell": true,
        "id": "st1UOI4Ec_As"
      },
      "outputs": [],
      "source": [
        "# %load _solved/solutions/04-spatial-joins12.py"
      ]
    },
    {
      "cell_type": "code",
      "execution_count": null,
      "metadata": {
        "clear_cell": true,
        "id": "0qT1oGzuc_As"
      },
      "outputs": [],
      "source": [
        "# %load _solved/solutions/04-spatial-joins13.py"
      ]
    },
    {
      "cell_type": "code",
      "execution_count": null,
      "metadata": {
        "clear_cell": true,
        "id": "-l9BbmWlc_As"
      },
      "outputs": [],
      "source": [
        "# %load _solved/solutions/04-spatial-joins14.py"
      ]
    },
    {
      "cell_type": "code",
      "execution_count": null,
      "metadata": {
        "clear_cell": true,
        "id": "dSL_xq8wc_At"
      },
      "outputs": [],
      "source": [
        "# %load _solved/solutions/04-spatial-joins15.py"
      ]
    },
    {
      "cell_type": "markdown",
      "metadata": {
        "id": "vC4NNNxyc_At"
      },
      "source": [
        "<div class=\"alert alert-success\">\n",
        "\n",
        "**EXERCISE: Intersection of two polygons**\n",
        "\n",
        "For this exercise, we are going to use 2 individual polygons: the district of Muette extracted from the `districts` dataset, and the green urban area of Boulogne, a large public park in the west of Paris, extracted from the `land_use` dataset. The two polygons have already been assigned to the `muette` and `park_boulogne` variables.\n",
        "\n",
        "We first visualize the two polygons. You will see that they overlap, but the park is not fully located in the district of Muette. Let's determine the overlapping part.\n",
        "\n",
        "* Plot the two polygons in a single map to examine visually the degree of overlap\n",
        "* Calculate the intersection of the `park_boulogne` and `muette` polygons.\n",
        "* Print the proportion of the area of the district that is occupied by the park.\n",
        "\n",
        "<details><summary>Hints</summary>\n",
        "\n",
        "* The intersection of to scalar polygons can be calculated with the `intersection()` method of one of the polygons, and passing the other polygon as the argument to that method.\n",
        "\n",
        "</details>\n",
        "\n",
        "</div>"
      ]
    },
    {
      "cell_type": "code",
      "execution_count": null,
      "metadata": {
        "id": "Kc68k3EVc_At"
      },
      "outputs": [],
      "source": [
        "land_use = geopandas.read_file(\"zip://./data/paris_land_use.zip\")\n",
        "districts = geopandas.read_file(\"data/paris_districts.geojson\").to_crs(land_use.crs)"
      ]
    },
    {
      "cell_type": "code",
      "execution_count": null,
      "metadata": {
        "id": "NQCtm978c_At"
      },
      "outputs": [],
      "source": [
        "# extract polygons\n",
        "land_use['area'] = land_use.geometry.area\n",
        "park_boulogne = land_use[land_use['class'] == \"Green urban areas\"].sort_values('area').geometry.iloc[-1]\n",
        "muette = districts[districts.district_name == 'Muette'].geometry.squeeze()"
      ]
    },
    {
      "cell_type": "code",
      "execution_count": null,
      "metadata": {
        "id": "RNmFSBwbc_At"
      },
      "outputs": [],
      "source": [
        "# Plot the two polygons\n",
        "geopandas.GeoSeries([park_boulogne, muette]).plot(alpha=0.5, color=['green', 'blue'])"
      ]
    },
    {
      "cell_type": "code",
      "execution_count": null,
      "metadata": {
        "clear_cell": true,
        "id": "b99JWgXYc_At"
      },
      "outputs": [],
      "source": [
        "# %load _solved/solutions/04-spatial-joins16.py"
      ]
    },
    {
      "cell_type": "code",
      "execution_count": null,
      "metadata": {
        "clear_cell": true,
        "id": "kqvnY3VUc_At"
      },
      "outputs": [],
      "source": [
        "# %load _solved/solutions/04-spatial-joins17.py"
      ]
    },
    {
      "cell_type": "code",
      "execution_count": null,
      "metadata": {
        "clear_cell": true,
        "id": "owJ6rkXhc_Au"
      },
      "outputs": [],
      "source": [
        "# %load _solved/solutions/04-spatial-joins18.py"
      ]
    },
    {
      "cell_type": "markdown",
      "metadata": {
        "id": "xAHJwYmZc_Au"
      },
      "source": [
        "<div class=\"alert alert-success\">\n",
        "\n",
        "**EXERCISE: Intersecting a GeoDataFrame with a Polygon**\n",
        "\n",
        "Combining the land use dataset and the districts dataset, we can now investigate what the land use is in a certain district.\n",
        "\n",
        "For that, we first need to determine the intersection of the land use dataset with a given district. Let's take again the *Muette* district as example case.\n",
        "\n",
        "* Calculate the intersection of the `land_use` polygons with the single `muette` polygon. Call the result `land_use_muette`.\n",
        "* Make a quick plot of this intersection, and pass `edgecolor='black'` to more clearly see the boundaries of the different polygons.\n",
        "* Print the first five rows of `land_use_muette`.\n",
        "\n",
        "<details><summary>Hints</summary>\n",
        "\n",
        "* The intersection of each geometry of a GeoSeries with another single geometry can be performed with the `intersection()` method of a GeoSeries.\n",
        "* The `intersection()` method takes as argument the geometry for which to calculate the intersection.\n",
        "\n",
        "</details>\n",
        "\n",
        "</div>"
      ]
    },
    {
      "cell_type": "code",
      "execution_count": null,
      "metadata": {
        "id": "YQRz3f6sc_Au"
      },
      "outputs": [],
      "source": [
        "land_use = geopandas.read_file(\"zip://./data/paris_land_use.zip\")\n",
        "districts = geopandas.read_file(\"data/paris_districts.geojson\").to_crs(land_use.crs)\n",
        "muette = districts[districts.district_name == 'Muette'].geometry.squeeze()"
      ]
    },
    {
      "cell_type": "code",
      "execution_count": null,
      "metadata": {
        "clear_cell": true,
        "id": "3f-I5W-sc_Au"
      },
      "outputs": [],
      "source": [
        "# %load _solved/solutions/04-spatial-joins19.py"
      ]
    },
    {
      "cell_type": "code",
      "execution_count": null,
      "metadata": {
        "clear_cell": true,
        "id": "iyNkXLKLc_Au"
      },
      "outputs": [],
      "source": [
        "# %load _solved/solutions/04-spatial-joins20.py"
      ]
    },
    {
      "cell_type": "code",
      "execution_count": null,
      "metadata": {
        "id": "c6GIsW5hc_Au"
      },
      "outputs": [],
      "source": [
        "# Print the first five rows of the intersection\n",
        "land_use_muette.head()"
      ]
    },
    {
      "cell_type": "markdown",
      "metadata": {
        "id": "R1KXGeGJc_Au"
      },
      "source": [
        "You can see in the plot that we now only have a subset of the full land use dataset. The `land_use_muette` still has the same number of rows as the original `land_use`, though. But many of the rows, as you could see by printing the first rows, consist now of empty polygons when it did not intersect with the Muette district."
      ]
    },
    {
      "cell_type": "code",
      "execution_count": null,
      "metadata": {
        "id": "S8ZM-b6Ic_Av"
      },
      "outputs": [],
      "source": [
        "land_use_muette = land_use.copy()\n",
        "land_use_muette['geometry'] = land_use.geometry.intersection(muette)\n",
        "land_use_muette = land_use_muette[~land_use_muette.is_empty]\n",
        "land_use_muette.head()"
      ]
    },
    {
      "cell_type": "code",
      "execution_count": null,
      "metadata": {
        "id": "KIXzueH_c_Av"
      },
      "outputs": [],
      "source": [
        "land_use_muette.dissolve(by='class')"
      ]
    },
    {
      "cell_type": "code",
      "execution_count": null,
      "metadata": {
        "id": "lScS2SwGc_Av"
      },
      "outputs": [],
      "source": [
        "land_use_muette.dissolve(by='class').reset_index().plot(column='class')"
      ]
    },
    {
      "cell_type": "markdown",
      "metadata": {
        "id": "Vtr8mqrbc_Av"
      },
      "source": [
        "<div class=\"alert alert-success\">\n",
        "\n",
        "**EXERCISE: Overlaying spatial datasets**\n",
        "\n",
        "We will now combine both datasets in an overlay operation. Create a new `GeoDataFrame` consisting of the intersection of the land use polygons wich each of the districts, but make sure to bring the attribute data from both source layers.\n",
        "\n",
        "Once we created the overlay of the land use and districts datasets, we can more easily inspect the land use for the different districts. Let's get back to the example district of Muette, and inspect the land use of that district.\n",
        "\n",
        "* Create a new GeoDataFrame from the intersections of `land_use` and `districts`. Assign the result to a variable `combined`.\n",
        "* Print the first rows the resulting GeoDataFrame (`combined`).\n",
        "* Add a new column `'area'` with the area of each polygon to the `combined` GeoDataFrame.\n",
        "* Create a subset called `land_use_muette` where the `'district_name'` is equal to \"Muette\".\n",
        "* Make a plot of `land_use_muette`, using the `'class'` column to color the polygons.\n",
        "* Calculate the total area for each `'class'` of `land_use_muette` using the `groupby()` method, and print the result.\n",
        "\n",
        "<details><summary>Hints</summary>\n",
        "\n",
        "* The intersection of two GeoDataFrames can be calculated with the `geopandas.overlay()` function.\n",
        "* The `overlay()` functions takes first the two GeoDataFrames to combine, and a third `how` keyword indicating how to combine the two layers.\n",
        "* For making an overlay based on the intersection, you can pass `how='intersection'`.\n",
        "* The area of each geometry can be accessed with the `area` attribute of the `geometry` of the GeoDataFrame.\n",
        "* To use a column to color the geometries, pass its name to the `column` keyword.\n",
        "* The `groupby()` method takes the column name on which you want to group as the first argument.\n",
        "* The total area for each class can be calculated by taking the `sum()` of the area.\n",
        "\n",
        "</details>\n",
        "\n",
        "</div>"
      ]
    },
    {
      "cell_type": "code",
      "execution_count": null,
      "metadata": {
        "id": "-dtrIzadc_Av"
      },
      "outputs": [],
      "source": [
        "land_use = geopandas.read_file(\"zip://./data/paris_land_use.zip\")\n",
        "districts = geopandas.read_file(\"data/paris_districts.geojson\").to_crs(land_use.crs)"
      ]
    },
    {
      "cell_type": "code",
      "execution_count": null,
      "metadata": {
        "clear_cell": true,
        "id": "lcTs5lHRc_Av"
      },
      "outputs": [],
      "source": [
        "# %load _solved/solutions/04-spatial-joins21.py"
      ]
    },
    {
      "cell_type": "code",
      "execution_count": null,
      "metadata": {
        "clear_cell": true,
        "id": "_dd0gGUvc_Av"
      },
      "outputs": [],
      "source": [
        "# %load _solved/solutions/04-spatial-joins22.py"
      ]
    },
    {
      "cell_type": "code",
      "execution_count": null,
      "metadata": {
        "clear_cell": true,
        "id": "1kRTxlPpc_Av"
      },
      "outputs": [],
      "source": [
        "# %load _solved/solutions/04-spatial-joins23.py"
      ]
    },
    {
      "cell_type": "code",
      "execution_count": null,
      "metadata": {
        "clear_cell": true,
        "id": "2TjkfB2Zc_Aw"
      },
      "outputs": [],
      "source": [
        "# %load _solved/solutions/04-spatial-joins24.py"
      ]
    },
    {
      "cell_type": "code",
      "execution_count": null,
      "metadata": {
        "clear_cell": true,
        "id": "s7oaUCBGc_Aw"
      },
      "outputs": [],
      "source": [
        "# %load _solved/solutions/04-spatial-joins25.py"
      ]
    },
    {
      "cell_type": "code",
      "execution_count": null,
      "metadata": {
        "clear_cell": true,
        "id": "fiMn-hgrc_Aw"
      },
      "outputs": [],
      "source": [
        "# %load _solved/solutions/04-spatial-joins26.py"
      ]
    },
    {
      "cell_type": "code",
      "execution_count": null,
      "metadata": {
        "id": "dS2AqLjEc_Aw"
      },
      "outputs": [],
      "source": [
        ""
      ]
    }
  ],
  "metadata": {
    "kernelspec": {
      "display_name": "Python 3",
      "language": "python",
      "name": "python3"
    },
    "language_info": {
      "codemirror_mode": {
        "name": "ipython",
        "version": 3
      },
      "file_extension": ".py",
      "mimetype": "text/x-python",
      "name": "python",
      "nbconvert_exporter": "python",
      "pygments_lexer": "ipython3",
      "version": "3.7.3"
    },
    "colab": {
      "name": "04-spatial-joins.ipynb",
      "provenance": [],
      "collapsed_sections": [
        "XUIguJICc_Ah",
        "wV7Z1fiNc_Al",
        "naVKvQYRc_Ao",
        "04BdE74Mc_Ar"
      ]
    }
  },
  "nbformat": 4,
  "nbformat_minor": 0
}