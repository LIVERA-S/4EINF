{
  "nbformat": 4,
  "nbformat_minor": 0,
  "metadata": {
    "colab": {
      "name": "RIPASSO PER LA VERIFICA.ipynb",
      "provenance": [],
      "collapsed_sections": [],
      "authorship_tag": "ABX9TyMhUcwjQDRii9RhGwj1P9dG",
      "include_colab_link": true
    },
    "kernelspec": {
      "name": "python3",
      "display_name": "Python 3"
    },
    "language_info": {
      "name": "python"
    }
  },
  "cells": [
    {
      "cell_type": "markdown",
      "metadata": {
        "id": "view-in-github",
        "colab_type": "text"
      },
      "source": [
        "<a href=\"https://colab.research.google.com/github/LIVERA-S/21-22_INFORMATICA_LIVERA-4EINF/blob/main/Pandas_Ripasso_VERIFICA.ipynb\" target=\"_parent\"><img src=\"https://colab.research.google.com/assets/colab-badge.svg\" alt=\"Open In Colab\"/></a>"
      ]
    },
    {
      "cell_type": "markdown",
      "metadata": {
        "id": "z44a-zLH3ZiX"
      },
      "source": [
        ""
      ]
    },
    {
      "cell_type": "code",
      "metadata": {
        "id": "WDUsWePv3SrX"
      },
      "source": [
        "import pandas as pd\n",
        "#pandas e una liberia "
      ],
      "execution_count": null,
      "outputs": []
    },
    {
      "cell_type": "code",
      "metadata": {
        "colab": {
          "base_uri": "https://localhost:8080/",
          "height": 348
        },
        "id": "usgn-oRb4RWV",
        "outputId": "514dbbf3-6089-4d21-cb9d-4077cc2d90b0"
      },
      "source": [
        "df = pd.read_csv('https://raw.githubusercontent.com/italia/covid19-opendata-vaccini/master/dati/anagrafica-vaccini-summary-latest.csv') #,sep = ','\n",
        "df"
      ],
      "execution_count": null,
      "outputs": [
        {
          "output_type": "execute_result",
          "data": {
            "text/html": [
              "<div>\n",
              "<style scoped>\n",
              "    .dataframe tbody tr th:only-of-type {\n",
              "        vertical-align: middle;\n",
              "    }\n",
              "\n",
              "    .dataframe tbody tr th {\n",
              "        vertical-align: top;\n",
              "    }\n",
              "\n",
              "    .dataframe thead th {\n",
              "        text-align: right;\n",
              "    }\n",
              "</style>\n",
              "<table border=\"1\" class=\"dataframe\">\n",
              "  <thead>\n",
              "    <tr style=\"text-align: right;\">\n",
              "      <th></th>\n",
              "      <th>fascia_anagrafica</th>\n",
              "      <th>totale</th>\n",
              "      <th>sesso_maschile</th>\n",
              "      <th>sesso_femminile</th>\n",
              "      <th>prima_dose</th>\n",
              "      <th>seconda_dose</th>\n",
              "      <th>pregressa_infezione</th>\n",
              "      <th>dose_aggiuntiva</th>\n",
              "      <th>dose_booster</th>\n",
              "      <th>ultimo_aggiornamento</th>\n",
              "    </tr>\n",
              "  </thead>\n",
              "  <tbody>\n",
              "    <tr>\n",
              "      <th>0</th>\n",
              "      <td>12-19</td>\n",
              "      <td>6268693</td>\n",
              "      <td>3209454</td>\n",
              "      <td>3059239</td>\n",
              "      <td>3223185</td>\n",
              "      <td>2940568</td>\n",
              "      <td>103985</td>\n",
              "      <td>726</td>\n",
              "      <td>229</td>\n",
              "      <td>2021-10-28</td>\n",
              "    </tr>\n",
              "    <tr>\n",
              "      <th>1</th>\n",
              "      <td>20-29</td>\n",
              "      <td>9891343</td>\n",
              "      <td>5171718</td>\n",
              "      <td>4719625</td>\n",
              "      <td>5075497</td>\n",
              "      <td>4587980</td>\n",
              "      <td>198307</td>\n",
              "      <td>3952</td>\n",
              "      <td>25607</td>\n",
              "      <td>2021-10-28</td>\n",
              "    </tr>\n",
              "    <tr>\n",
              "      <th>2</th>\n",
              "      <td>30-39</td>\n",
              "      <td>10555697</td>\n",
              "      <td>5420477</td>\n",
              "      <td>5135220</td>\n",
              "      <td>5415036</td>\n",
              "      <td>4888959</td>\n",
              "      <td>205108</td>\n",
              "      <td>7605</td>\n",
              "      <td>38989</td>\n",
              "      <td>2021-10-28</td>\n",
              "    </tr>\n",
              "    <tr>\n",
              "      <th>3</th>\n",
              "      <td>40-49</td>\n",
              "      <td>13761536</td>\n",
              "      <td>6829397</td>\n",
              "      <td>6932139</td>\n",
              "      <td>6991305</td>\n",
              "      <td>6417692</td>\n",
              "      <td>283878</td>\n",
              "      <td>18727</td>\n",
              "      <td>49934</td>\n",
              "      <td>2021-10-28</td>\n",
              "    </tr>\n",
              "    <tr>\n",
              "      <th>4</th>\n",
              "      <td>50-59</td>\n",
              "      <td>15818591</td>\n",
              "      <td>7760613</td>\n",
              "      <td>8057978</td>\n",
              "      <td>8023900</td>\n",
              "      <td>7337139</td>\n",
              "      <td>346607</td>\n",
              "      <td>39896</td>\n",
              "      <td>71049</td>\n",
              "      <td>2021-10-28</td>\n",
              "    </tr>\n",
              "    <tr>\n",
              "      <th>5</th>\n",
              "      <td>60-69</td>\n",
              "      <td>12875027</td>\n",
              "      <td>6247299</td>\n",
              "      <td>6627728</td>\n",
              "      <td>6537683</td>\n",
              "      <td>5948012</td>\n",
              "      <td>241212</td>\n",
              "      <td>57677</td>\n",
              "      <td>90443</td>\n",
              "      <td>2021-10-28</td>\n",
              "    </tr>\n",
              "    <tr>\n",
              "      <th>6</th>\n",
              "      <td>70-79</td>\n",
              "      <td>10840433</td>\n",
              "      <td>5091827</td>\n",
              "      <td>5748606</td>\n",
              "      <td>5393839</td>\n",
              "      <td>5158247</td>\n",
              "      <td>165987</td>\n",
              "      <td>61817</td>\n",
              "      <td>60543</td>\n",
              "      <td>2021-10-28</td>\n",
              "    </tr>\n",
              "    <tr>\n",
              "      <th>7</th>\n",
              "      <td>80-89</td>\n",
              "      <td>7541357</td>\n",
              "      <td>3148258</td>\n",
              "      <td>4393099</td>\n",
              "      <td>3451789</td>\n",
              "      <td>3388016</td>\n",
              "      <td>78350</td>\n",
              "      <td>36395</td>\n",
              "      <td>586807</td>\n",
              "      <td>2021-10-28</td>\n",
              "    </tr>\n",
              "    <tr>\n",
              "      <th>8</th>\n",
              "      <td>90+</td>\n",
              "      <td>1721375</td>\n",
              "      <td>514973</td>\n",
              "      <td>1206402</td>\n",
              "      <td>797161</td>\n",
              "      <td>768344</td>\n",
              "      <td>19234</td>\n",
              "      <td>6096</td>\n",
              "      <td>130540</td>\n",
              "      <td>2021-10-28</td>\n",
              "    </tr>\n",
              "  </tbody>\n",
              "</table>\n",
              "</div>"
            ],
            "text/plain": [
              "  fascia_anagrafica    totale  ...  dose_booster  ultimo_aggiornamento\n",
              "0             12-19   6268693  ...           229            2021-10-28\n",
              "1             20-29   9891343  ...         25607            2021-10-28\n",
              "2             30-39  10555697  ...         38989            2021-10-28\n",
              "3             40-49  13761536  ...         49934            2021-10-28\n",
              "4             50-59  15818591  ...         71049            2021-10-28\n",
              "5             60-69  12875027  ...         90443            2021-10-28\n",
              "6             70-79  10840433  ...         60543            2021-10-28\n",
              "7             80-89   7541357  ...        586807            2021-10-28\n",
              "8               90+   1721375  ...        130540            2021-10-28\n",
              "\n",
              "[9 rows x 10 columns]"
            ]
          },
          "metadata": {},
          "execution_count": 56
        }
      ]
    },
    {
      "cell_type": "markdown",
      "metadata": {
        "id": "Ln6oG7LP5epM"
      },
      "source": [
        "1. Aggungere una nuova colonna chiamata percentualre maschi che contenga i maschi vaccinati"
      ]
    },
    {
      "cell_type": "code",
      "metadata": {
        "colab": {
          "base_uri": "https://localhost:8080/",
          "height": 348
        },
        "id": "7Zvg6BgI7vLC",
        "outputId": "185bea47-84d0-4fdb-e43f-5004e077e374"
      },
      "source": [
        "df['percentuale_maschi'] = (df['sesso_maschile']/df['totale'])*100 #per trovare percentuale\n",
        "df"
      ],
      "execution_count": null,
      "outputs": [
        {
          "output_type": "execute_result",
          "data": {
            "text/html": [
              "<div>\n",
              "<style scoped>\n",
              "    .dataframe tbody tr th:only-of-type {\n",
              "        vertical-align: middle;\n",
              "    }\n",
              "\n",
              "    .dataframe tbody tr th {\n",
              "        vertical-align: top;\n",
              "    }\n",
              "\n",
              "    .dataframe thead th {\n",
              "        text-align: right;\n",
              "    }\n",
              "</style>\n",
              "<table border=\"1\" class=\"dataframe\">\n",
              "  <thead>\n",
              "    <tr style=\"text-align: right;\">\n",
              "      <th></th>\n",
              "      <th>fascia_anagrafica</th>\n",
              "      <th>totale</th>\n",
              "      <th>sesso_maschile</th>\n",
              "      <th>sesso_femminile</th>\n",
              "      <th>prima_dose</th>\n",
              "      <th>seconda_dose</th>\n",
              "      <th>pregressa_infezione</th>\n",
              "      <th>dose_aggiuntiva</th>\n",
              "      <th>dose_booster</th>\n",
              "      <th>ultimo_aggiornamento</th>\n",
              "      <th>percentuale_maschi</th>\n",
              "    </tr>\n",
              "  </thead>\n",
              "  <tbody>\n",
              "    <tr>\n",
              "      <th>0</th>\n",
              "      <td>12-19</td>\n",
              "      <td>6268693</td>\n",
              "      <td>3209454</td>\n",
              "      <td>3059239</td>\n",
              "      <td>3223185</td>\n",
              "      <td>2940568</td>\n",
              "      <td>103985</td>\n",
              "      <td>726</td>\n",
              "      <td>229</td>\n",
              "      <td>2021-10-28</td>\n",
              "      <td>51.198137</td>\n",
              "    </tr>\n",
              "    <tr>\n",
              "      <th>1</th>\n",
              "      <td>20-29</td>\n",
              "      <td>9891343</td>\n",
              "      <td>5171718</td>\n",
              "      <td>4719625</td>\n",
              "      <td>5075497</td>\n",
              "      <td>4587980</td>\n",
              "      <td>198307</td>\n",
              "      <td>3952</td>\n",
              "      <td>25607</td>\n",
              "      <td>2021-10-28</td>\n",
              "      <td>52.285296</td>\n",
              "    </tr>\n",
              "    <tr>\n",
              "      <th>2</th>\n",
              "      <td>30-39</td>\n",
              "      <td>10555697</td>\n",
              "      <td>5420477</td>\n",
              "      <td>5135220</td>\n",
              "      <td>5415036</td>\n",
              "      <td>4888959</td>\n",
              "      <td>205108</td>\n",
              "      <td>7605</td>\n",
              "      <td>38989</td>\n",
              "      <td>2021-10-28</td>\n",
              "      <td>51.351199</td>\n",
              "    </tr>\n",
              "    <tr>\n",
              "      <th>3</th>\n",
              "      <td>40-49</td>\n",
              "      <td>13761536</td>\n",
              "      <td>6829397</td>\n",
              "      <td>6932139</td>\n",
              "      <td>6991305</td>\n",
              "      <td>6417692</td>\n",
              "      <td>283878</td>\n",
              "      <td>18727</td>\n",
              "      <td>49934</td>\n",
              "      <td>2021-10-28</td>\n",
              "      <td>49.626706</td>\n",
              "    </tr>\n",
              "    <tr>\n",
              "      <th>4</th>\n",
              "      <td>50-59</td>\n",
              "      <td>15818591</td>\n",
              "      <td>7760613</td>\n",
              "      <td>8057978</td>\n",
              "      <td>8023900</td>\n",
              "      <td>7337139</td>\n",
              "      <td>346607</td>\n",
              "      <td>39896</td>\n",
              "      <td>71049</td>\n",
              "      <td>2021-10-28</td>\n",
              "      <td>49.060077</td>\n",
              "    </tr>\n",
              "    <tr>\n",
              "      <th>5</th>\n",
              "      <td>60-69</td>\n",
              "      <td>12875027</td>\n",
              "      <td>6247299</td>\n",
              "      <td>6627728</td>\n",
              "      <td>6537683</td>\n",
              "      <td>5948012</td>\n",
              "      <td>241212</td>\n",
              "      <td>57677</td>\n",
              "      <td>90443</td>\n",
              "      <td>2021-10-28</td>\n",
              "      <td>48.522609</td>\n",
              "    </tr>\n",
              "    <tr>\n",
              "      <th>6</th>\n",
              "      <td>70-79</td>\n",
              "      <td>10840433</td>\n",
              "      <td>5091827</td>\n",
              "      <td>5748606</td>\n",
              "      <td>5393839</td>\n",
              "      <td>5158247</td>\n",
              "      <td>165987</td>\n",
              "      <td>61817</td>\n",
              "      <td>60543</td>\n",
              "      <td>2021-10-28</td>\n",
              "      <td>46.970698</td>\n",
              "    </tr>\n",
              "    <tr>\n",
              "      <th>7</th>\n",
              "      <td>80-89</td>\n",
              "      <td>7541357</td>\n",
              "      <td>3148258</td>\n",
              "      <td>4393099</td>\n",
              "      <td>3451789</td>\n",
              "      <td>3388016</td>\n",
              "      <td>78350</td>\n",
              "      <td>36395</td>\n",
              "      <td>586807</td>\n",
              "      <td>2021-10-28</td>\n",
              "      <td>41.746572</td>\n",
              "    </tr>\n",
              "    <tr>\n",
              "      <th>8</th>\n",
              "      <td>90+</td>\n",
              "      <td>1721375</td>\n",
              "      <td>514973</td>\n",
              "      <td>1206402</td>\n",
              "      <td>797161</td>\n",
              "      <td>768344</td>\n",
              "      <td>19234</td>\n",
              "      <td>6096</td>\n",
              "      <td>130540</td>\n",
              "      <td>2021-10-28</td>\n",
              "      <td>29.916375</td>\n",
              "    </tr>\n",
              "  </tbody>\n",
              "</table>\n",
              "</div>"
            ],
            "text/plain": [
              "  fascia_anagrafica    totale  ...  ultimo_aggiornamento  percentuale_maschi\n",
              "0             12-19   6268693  ...            2021-10-28           51.198137\n",
              "1             20-29   9891343  ...            2021-10-28           52.285296\n",
              "2             30-39  10555697  ...            2021-10-28           51.351199\n",
              "3             40-49  13761536  ...            2021-10-28           49.626706\n",
              "4             50-59  15818591  ...            2021-10-28           49.060077\n",
              "5             60-69  12875027  ...            2021-10-28           48.522609\n",
              "6             70-79  10840433  ...            2021-10-28           46.970698\n",
              "7             80-89   7541357  ...            2021-10-28           41.746572\n",
              "8               90+   1721375  ...            2021-10-28           29.916375\n",
              "\n",
              "[9 rows x 11 columns]"
            ]
          },
          "metadata": {},
          "execution_count": 57
        }
      ]
    },
    {
      "cell_type": "markdown",
      "metadata": {
        "id": "nt-FttJc7--K"
      },
      "source": [
        "Visualizzare il numero totlae di persone vaccinate con la seconda dose."
      ]
    },
    {
      "cell_type": "code",
      "metadata": {
        "colab": {
          "base_uri": "https://localhost:8080/"
        },
        "id": "3-r74rhX8JA5",
        "outputId": "925fd8dd-7f5a-462e-df18-6d350f43e729"
      },
      "source": [
        "df['seconda_dose'].sum()# per sommare"
      ],
      "execution_count": null,
      "outputs": [
        {
          "output_type": "execute_result",
          "data": {
            "text/plain": [
              "41434957"
            ]
          },
          "metadata": {},
          "execution_count": 58
        }
      ]
    },
    {
      "cell_type": "markdown",
      "metadata": {
        "id": "pQBJikUR9Vfx"
      },
      "source": [
        "eleminare le colanne sesso maschile e sesso feminile"
      ]
    },
    {
      "cell_type": "code",
      "metadata": {
        "colab": {
          "base_uri": "https://localhost:8080/",
          "height": 348
        },
        "id": "KDdABS4t92Lw",
        "outputId": "e85b789e-1433-472f-de2e-7583bbcca8a1"
      },
      "source": [
        "df = df.drop(columns= ['sesso_femminile','sesso_maschile']) #per eleminare le colonne\n",
        "df"
      ],
      "execution_count": null,
      "outputs": [
        {
          "output_type": "execute_result",
          "data": {
            "text/html": [
              "<div>\n",
              "<style scoped>\n",
              "    .dataframe tbody tr th:only-of-type {\n",
              "        vertical-align: middle;\n",
              "    }\n",
              "\n",
              "    .dataframe tbody tr th {\n",
              "        vertical-align: top;\n",
              "    }\n",
              "\n",
              "    .dataframe thead th {\n",
              "        text-align: right;\n",
              "    }\n",
              "</style>\n",
              "<table border=\"1\" class=\"dataframe\">\n",
              "  <thead>\n",
              "    <tr style=\"text-align: right;\">\n",
              "      <th></th>\n",
              "      <th>fascia_anagrafica</th>\n",
              "      <th>totale</th>\n",
              "      <th>prima_dose</th>\n",
              "      <th>seconda_dose</th>\n",
              "      <th>pregressa_infezione</th>\n",
              "      <th>dose_aggiuntiva</th>\n",
              "      <th>dose_booster</th>\n",
              "      <th>ultimo_aggiornamento</th>\n",
              "      <th>percentuale_maschi</th>\n",
              "    </tr>\n",
              "  </thead>\n",
              "  <tbody>\n",
              "    <tr>\n",
              "      <th>0</th>\n",
              "      <td>12-19</td>\n",
              "      <td>6268693</td>\n",
              "      <td>3223185</td>\n",
              "      <td>2940568</td>\n",
              "      <td>103985</td>\n",
              "      <td>726</td>\n",
              "      <td>229</td>\n",
              "      <td>2021-10-28</td>\n",
              "      <td>51.198137</td>\n",
              "    </tr>\n",
              "    <tr>\n",
              "      <th>1</th>\n",
              "      <td>20-29</td>\n",
              "      <td>9891343</td>\n",
              "      <td>5075497</td>\n",
              "      <td>4587980</td>\n",
              "      <td>198307</td>\n",
              "      <td>3952</td>\n",
              "      <td>25607</td>\n",
              "      <td>2021-10-28</td>\n",
              "      <td>52.285296</td>\n",
              "    </tr>\n",
              "    <tr>\n",
              "      <th>2</th>\n",
              "      <td>30-39</td>\n",
              "      <td>10555697</td>\n",
              "      <td>5415036</td>\n",
              "      <td>4888959</td>\n",
              "      <td>205108</td>\n",
              "      <td>7605</td>\n",
              "      <td>38989</td>\n",
              "      <td>2021-10-28</td>\n",
              "      <td>51.351199</td>\n",
              "    </tr>\n",
              "    <tr>\n",
              "      <th>3</th>\n",
              "      <td>40-49</td>\n",
              "      <td>13761536</td>\n",
              "      <td>6991305</td>\n",
              "      <td>6417692</td>\n",
              "      <td>283878</td>\n",
              "      <td>18727</td>\n",
              "      <td>49934</td>\n",
              "      <td>2021-10-28</td>\n",
              "      <td>49.626706</td>\n",
              "    </tr>\n",
              "    <tr>\n",
              "      <th>4</th>\n",
              "      <td>50-59</td>\n",
              "      <td>15818591</td>\n",
              "      <td>8023900</td>\n",
              "      <td>7337139</td>\n",
              "      <td>346607</td>\n",
              "      <td>39896</td>\n",
              "      <td>71049</td>\n",
              "      <td>2021-10-28</td>\n",
              "      <td>49.060077</td>\n",
              "    </tr>\n",
              "    <tr>\n",
              "      <th>5</th>\n",
              "      <td>60-69</td>\n",
              "      <td>12875027</td>\n",
              "      <td>6537683</td>\n",
              "      <td>5948012</td>\n",
              "      <td>241212</td>\n",
              "      <td>57677</td>\n",
              "      <td>90443</td>\n",
              "      <td>2021-10-28</td>\n",
              "      <td>48.522609</td>\n",
              "    </tr>\n",
              "    <tr>\n",
              "      <th>6</th>\n",
              "      <td>70-79</td>\n",
              "      <td>10840433</td>\n",
              "      <td>5393839</td>\n",
              "      <td>5158247</td>\n",
              "      <td>165987</td>\n",
              "      <td>61817</td>\n",
              "      <td>60543</td>\n",
              "      <td>2021-10-28</td>\n",
              "      <td>46.970698</td>\n",
              "    </tr>\n",
              "    <tr>\n",
              "      <th>7</th>\n",
              "      <td>80-89</td>\n",
              "      <td>7541357</td>\n",
              "      <td>3451789</td>\n",
              "      <td>3388016</td>\n",
              "      <td>78350</td>\n",
              "      <td>36395</td>\n",
              "      <td>586807</td>\n",
              "      <td>2021-10-28</td>\n",
              "      <td>41.746572</td>\n",
              "    </tr>\n",
              "    <tr>\n",
              "      <th>8</th>\n",
              "      <td>90+</td>\n",
              "      <td>1721375</td>\n",
              "      <td>797161</td>\n",
              "      <td>768344</td>\n",
              "      <td>19234</td>\n",
              "      <td>6096</td>\n",
              "      <td>130540</td>\n",
              "      <td>2021-10-28</td>\n",
              "      <td>29.916375</td>\n",
              "    </tr>\n",
              "  </tbody>\n",
              "</table>\n",
              "</div>"
            ],
            "text/plain": [
              "  fascia_anagrafica    totale  ...  ultimo_aggiornamento  percentuale_maschi\n",
              "0             12-19   6268693  ...            2021-10-28           51.198137\n",
              "1             20-29   9891343  ...            2021-10-28           52.285296\n",
              "2             30-39  10555697  ...            2021-10-28           51.351199\n",
              "3             40-49  13761536  ...            2021-10-28           49.626706\n",
              "4             50-59  15818591  ...            2021-10-28           49.060077\n",
              "5             60-69  12875027  ...            2021-10-28           48.522609\n",
              "6             70-79  10840433  ...            2021-10-28           46.970698\n",
              "7             80-89   7541357  ...            2021-10-28           41.746572\n",
              "8               90+   1721375  ...            2021-10-28           29.916375\n",
              "\n",
              "[9 rows x 9 columns]"
            ]
          },
          "metadata": {},
          "execution_count": 59
        }
      ]
    },
    {
      "cell_type": "markdown",
      "metadata": {
        "id": "y30bV_N9_PUO"
      },
      "source": [
        "cancella nel dataframe le righe dalla 2 alla 6"
      ]
    },
    {
      "cell_type": "code",
      "metadata": {
        "colab": {
          "base_uri": "https://localhost:8080/",
          "height": 193
        },
        "id": "gj2QoG6h_FV3",
        "outputId": "cddf29f6-bcbe-4e7a-a599-25ebeffa2ce7"
      },
      "source": [
        "df = df.drop(range(2,7))\n",
        "df"
      ],
      "execution_count": null,
      "outputs": [
        {
          "output_type": "execute_result",
          "data": {
            "text/html": [
              "<div>\n",
              "<style scoped>\n",
              "    .dataframe tbody tr th:only-of-type {\n",
              "        vertical-align: middle;\n",
              "    }\n",
              "\n",
              "    .dataframe tbody tr th {\n",
              "        vertical-align: top;\n",
              "    }\n",
              "\n",
              "    .dataframe thead th {\n",
              "        text-align: right;\n",
              "    }\n",
              "</style>\n",
              "<table border=\"1\" class=\"dataframe\">\n",
              "  <thead>\n",
              "    <tr style=\"text-align: right;\">\n",
              "      <th></th>\n",
              "      <th>fascia_anagrafica</th>\n",
              "      <th>totale</th>\n",
              "      <th>prima_dose</th>\n",
              "      <th>seconda_dose</th>\n",
              "      <th>pregressa_infezione</th>\n",
              "      <th>dose_aggiuntiva</th>\n",
              "      <th>dose_booster</th>\n",
              "      <th>ultimo_aggiornamento</th>\n",
              "      <th>percentuale_maschi</th>\n",
              "    </tr>\n",
              "  </thead>\n",
              "  <tbody>\n",
              "    <tr>\n",
              "      <th>0</th>\n",
              "      <td>12-19</td>\n",
              "      <td>6268693</td>\n",
              "      <td>3223185</td>\n",
              "      <td>2940568</td>\n",
              "      <td>103985</td>\n",
              "      <td>726</td>\n",
              "      <td>229</td>\n",
              "      <td>2021-10-28</td>\n",
              "      <td>51.198137</td>\n",
              "    </tr>\n",
              "    <tr>\n",
              "      <th>1</th>\n",
              "      <td>20-29</td>\n",
              "      <td>9891343</td>\n",
              "      <td>5075497</td>\n",
              "      <td>4587980</td>\n",
              "      <td>198307</td>\n",
              "      <td>3952</td>\n",
              "      <td>25607</td>\n",
              "      <td>2021-10-28</td>\n",
              "      <td>52.285296</td>\n",
              "    </tr>\n",
              "    <tr>\n",
              "      <th>7</th>\n",
              "      <td>80-89</td>\n",
              "      <td>7541357</td>\n",
              "      <td>3451789</td>\n",
              "      <td>3388016</td>\n",
              "      <td>78350</td>\n",
              "      <td>36395</td>\n",
              "      <td>586807</td>\n",
              "      <td>2021-10-28</td>\n",
              "      <td>41.746572</td>\n",
              "    </tr>\n",
              "    <tr>\n",
              "      <th>8</th>\n",
              "      <td>90+</td>\n",
              "      <td>1721375</td>\n",
              "      <td>797161</td>\n",
              "      <td>768344</td>\n",
              "      <td>19234</td>\n",
              "      <td>6096</td>\n",
              "      <td>130540</td>\n",
              "      <td>2021-10-28</td>\n",
              "      <td>29.916375</td>\n",
              "    </tr>\n",
              "  </tbody>\n",
              "</table>\n",
              "</div>"
            ],
            "text/plain": [
              "  fascia_anagrafica   totale  ...  ultimo_aggiornamento  percentuale_maschi\n",
              "0             12-19  6268693  ...            2021-10-28           51.198137\n",
              "1             20-29  9891343  ...            2021-10-28           52.285296\n",
              "7             80-89  7541357  ...            2021-10-28           41.746572\n",
              "8               90+  1721375  ...            2021-10-28           29.916375\n",
              "\n",
              "[4 rows x 9 columns]"
            ]
          },
          "metadata": {},
          "execution_count": 60
        }
      ]
    },
    {
      "cell_type": "markdown",
      "metadata": {
        "id": "Jx1eRmN-AdEN"
      },
      "source": [
        "visualizzare i vaccinati della fascia 20_29"
      ]
    },
    {
      "cell_type": "code",
      "metadata": {
        "colab": {
          "base_uri": "https://localhost:8080/",
          "height": 100
        },
        "id": "FEgGDyLnBmOs",
        "outputId": "e0856197-9fa0-49de-95e6-0642d4d05d98"
      },
      "source": [
        "df[df['fascia_anagrafica'].isin(['20-29'])]\n",
        "#df[df['fascia_anagrafica']==\"20-29\"]"
      ],
      "execution_count": null,
      "outputs": [
        {
          "output_type": "execute_result",
          "data": {
            "text/html": [
              "<div>\n",
              "<style scoped>\n",
              "    .dataframe tbody tr th:only-of-type {\n",
              "        vertical-align: middle;\n",
              "    }\n",
              "\n",
              "    .dataframe tbody tr th {\n",
              "        vertical-align: top;\n",
              "    }\n",
              "\n",
              "    .dataframe thead th {\n",
              "        text-align: right;\n",
              "    }\n",
              "</style>\n",
              "<table border=\"1\" class=\"dataframe\">\n",
              "  <thead>\n",
              "    <tr style=\"text-align: right;\">\n",
              "      <th></th>\n",
              "      <th>fascia_anagrafica</th>\n",
              "      <th>totale</th>\n",
              "      <th>prima_dose</th>\n",
              "      <th>seconda_dose</th>\n",
              "      <th>pregressa_infezione</th>\n",
              "      <th>dose_aggiuntiva</th>\n",
              "      <th>dose_booster</th>\n",
              "      <th>ultimo_aggiornamento</th>\n",
              "      <th>percentuale_maschi</th>\n",
              "    </tr>\n",
              "  </thead>\n",
              "  <tbody>\n",
              "    <tr>\n",
              "      <th>1</th>\n",
              "      <td>20-29</td>\n",
              "      <td>9891343</td>\n",
              "      <td>5075497</td>\n",
              "      <td>4587980</td>\n",
              "      <td>198307</td>\n",
              "      <td>3952</td>\n",
              "      <td>25607</td>\n",
              "      <td>2021-10-28</td>\n",
              "      <td>52.285296</td>\n",
              "    </tr>\n",
              "  </tbody>\n",
              "</table>\n",
              "</div>"
            ],
            "text/plain": [
              "  fascia_anagrafica   totale  ...  ultimo_aggiornamento  percentuale_maschi\n",
              "1             20-29  9891343  ...            2021-10-28           52.285296\n",
              "\n",
              "[1 rows x 9 columns]"
            ]
          },
          "metadata": {},
          "execution_count": 61
        }
      ]
    },
    {
      "cell_type": "code",
      "metadata": {
        "colab": {
          "base_uri": "https://localhost:8080/",
          "height": 80
        },
        "id": "noPV3yXRB7Oc",
        "outputId": "3566c7db-f7e0-4f77-cf27-a768071d1ba1"
      },
      "source": [
        "df[df['fascia_anagrafica'].isin(['20-29'])][['totale']]"
      ],
      "execution_count": null,
      "outputs": [
        {
          "output_type": "execute_result",
          "data": {
            "text/html": [
              "<div>\n",
              "<style scoped>\n",
              "    .dataframe tbody tr th:only-of-type {\n",
              "        vertical-align: middle;\n",
              "    }\n",
              "\n",
              "    .dataframe tbody tr th {\n",
              "        vertical-align: top;\n",
              "    }\n",
              "\n",
              "    .dataframe thead th {\n",
              "        text-align: right;\n",
              "    }\n",
              "</style>\n",
              "<table border=\"1\" class=\"dataframe\">\n",
              "  <thead>\n",
              "    <tr style=\"text-align: right;\">\n",
              "      <th></th>\n",
              "      <th>totale</th>\n",
              "    </tr>\n",
              "  </thead>\n",
              "  <tbody>\n",
              "    <tr>\n",
              "      <th>1</th>\n",
              "      <td>9891343</td>\n",
              "    </tr>\n",
              "  </tbody>\n",
              "</table>\n",
              "</div>"
            ],
            "text/plain": [
              "    totale\n",
              "1  9891343"
            ]
          },
          "metadata": {},
          "execution_count": 62
        }
      ]
    },
    {
      "cell_type": "code",
      "metadata": {
        "colab": {
          "base_uri": "https://localhost:8080/",
          "height": 224
        },
        "id": "TjuSilFyC5oL",
        "outputId": "565f80af-7bc2-4e84-f22d-4181529b0a6b"
      },
      "source": [
        "df = df.set_index('fascia_anagrafica')\n",
        "df"
      ],
      "execution_count": null,
      "outputs": [
        {
          "output_type": "execute_result",
          "data": {
            "text/html": [
              "<div>\n",
              "<style scoped>\n",
              "    .dataframe tbody tr th:only-of-type {\n",
              "        vertical-align: middle;\n",
              "    }\n",
              "\n",
              "    .dataframe tbody tr th {\n",
              "        vertical-align: top;\n",
              "    }\n",
              "\n",
              "    .dataframe thead th {\n",
              "        text-align: right;\n",
              "    }\n",
              "</style>\n",
              "<table border=\"1\" class=\"dataframe\">\n",
              "  <thead>\n",
              "    <tr style=\"text-align: right;\">\n",
              "      <th></th>\n",
              "      <th>totale</th>\n",
              "      <th>prima_dose</th>\n",
              "      <th>seconda_dose</th>\n",
              "      <th>pregressa_infezione</th>\n",
              "      <th>dose_aggiuntiva</th>\n",
              "      <th>dose_booster</th>\n",
              "      <th>ultimo_aggiornamento</th>\n",
              "      <th>percentuale_maschi</th>\n",
              "    </tr>\n",
              "    <tr>\n",
              "      <th>fascia_anagrafica</th>\n",
              "      <th></th>\n",
              "      <th></th>\n",
              "      <th></th>\n",
              "      <th></th>\n",
              "      <th></th>\n",
              "      <th></th>\n",
              "      <th></th>\n",
              "      <th></th>\n",
              "    </tr>\n",
              "  </thead>\n",
              "  <tbody>\n",
              "    <tr>\n",
              "      <th>12-19</th>\n",
              "      <td>6268693</td>\n",
              "      <td>3223185</td>\n",
              "      <td>2940568</td>\n",
              "      <td>103985</td>\n",
              "      <td>726</td>\n",
              "      <td>229</td>\n",
              "      <td>2021-10-28</td>\n",
              "      <td>51.198137</td>\n",
              "    </tr>\n",
              "    <tr>\n",
              "      <th>20-29</th>\n",
              "      <td>9891343</td>\n",
              "      <td>5075497</td>\n",
              "      <td>4587980</td>\n",
              "      <td>198307</td>\n",
              "      <td>3952</td>\n",
              "      <td>25607</td>\n",
              "      <td>2021-10-28</td>\n",
              "      <td>52.285296</td>\n",
              "    </tr>\n",
              "    <tr>\n",
              "      <th>80-89</th>\n",
              "      <td>7541357</td>\n",
              "      <td>3451789</td>\n",
              "      <td>3388016</td>\n",
              "      <td>78350</td>\n",
              "      <td>36395</td>\n",
              "      <td>586807</td>\n",
              "      <td>2021-10-28</td>\n",
              "      <td>41.746572</td>\n",
              "    </tr>\n",
              "    <tr>\n",
              "      <th>90+</th>\n",
              "      <td>1721375</td>\n",
              "      <td>797161</td>\n",
              "      <td>768344</td>\n",
              "      <td>19234</td>\n",
              "      <td>6096</td>\n",
              "      <td>130540</td>\n",
              "      <td>2021-10-28</td>\n",
              "      <td>29.916375</td>\n",
              "    </tr>\n",
              "  </tbody>\n",
              "</table>\n",
              "</div>"
            ],
            "text/plain": [
              "                    totale  prima_dose  ...  ultimo_aggiornamento  percentuale_maschi\n",
              "fascia_anagrafica                       ...                                          \n",
              "12-19              6268693     3223185  ...            2021-10-28           51.198137\n",
              "20-29              9891343     5075497  ...            2021-10-28           52.285296\n",
              "80-89              7541357     3451789  ...            2021-10-28           41.746572\n",
              "90+                1721375      797161  ...            2021-10-28           29.916375\n",
              "\n",
              "[4 rows x 8 columns]"
            ]
          },
          "metadata": {},
          "execution_count": 63
        }
      ]
    },
    {
      "cell_type": "code",
      "metadata": {
        "colab": {
          "base_uri": "https://localhost:8080/"
        },
        "id": "m-2KcZChCLf7",
        "outputId": "0c12a055-6da7-40ca-90ad-4acfd293ec05"
      },
      "source": [
        "df.loc[\"20-29\",\"totale\"]\n"
      ],
      "execution_count": null,
      "outputs": [
        {
          "output_type": "execute_result",
          "data": {
            "text/plain": [
              "9891343"
            ]
          },
          "metadata": {},
          "execution_count": 66
        }
      ]
    },
    {
      "cell_type": "markdown",
      "metadata": {
        "id": "HxOAg74MDIIz"
      },
      "source": [
        "sostituire all valore 90+ il valore 90-120"
      ]
    },
    {
      "cell_type": "code",
      "metadata": {
        "id": "yc-FVTOSDUUS"
      },
      "source": [
        ""
      ],
      "execution_count": null,
      "outputs": []
    }
  ]
}