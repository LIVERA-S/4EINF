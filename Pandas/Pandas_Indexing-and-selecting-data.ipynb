{
  "nbformat": 4,
  "nbformat_minor": 0,
  "metadata": {
    "celltoolbar": "Nbtutor - export exercises",
    "kernelspec": {
      "display_name": "Python 3",
      "language": "python",
      "name": "python3"
    },
    "language_info": {
      "codemirror_mode": {
        "name": "ipython",
        "version": 3
      },
      "file_extension": ".py",
      "mimetype": "text/x-python",
      "name": "python",
      "nbconvert_exporter": "python",
      "pygments_lexer": "ipython3",
      "version": "3.5.2"
    },
    "colab": {
      "name": "Indexing_and_selecting_data.ipynb",
      "provenance": [],
      "collapsed_sections": [],
      "include_colab_link": true
    }
  },
  "cells": [
    {
      "cell_type": "markdown",
      "metadata": {
        "id": "view-in-github",
        "colab_type": "text"
      },
      "source": [
        "<a href=\"https://colab.research.google.com/github/LIVERA-S/21-22_INFORMATICA_LIVERA-4EINF/blob/main/Pandas_Indexing-and-selecting-data.ipynb\" target=\"_parent\"><img src=\"https://colab.research.google.com/assets/colab-badge.svg\" alt=\"Open In Colab\"/></a>"
      ]
    },
    {
      "cell_type": "markdown",
      "metadata": {
        "id": "E1HYL8LojC1N"
      },
      "source": [
        "# Indicizzazione e selezione dei dati"
      ]
    },
    {
      "cell_type": "code",
      "metadata": {
        "id": "aZI39RMMqHps"
      },
      "source": [
        ""
      ],
      "execution_count": null,
      "outputs": []
    },
    {
      "cell_type": "code",
      "metadata": {
        "collapsed": true,
        "id": "RFaqF_5sjC1Q"
      },
      "source": [
        "%matplotlib inline\n",
        "\n",
        "import pandas as pd\n",
        "\n"
      ],
      "execution_count": null,
      "outputs": []
    },
    {
      "cell_type": "code",
      "metadata": {
        "colab": {
          "base_uri": "https://localhost:8080/",
          "height": 204
        },
        "id": "c_jPKQe2jC1S",
        "outputId": "55aac242-969e-453e-d7ff-60627c130a9b"
      },
      "source": [
        "# redefining the example objects\n",
        "\n",
        "# series\n",
        "population = pd.Series({'Germany': 81.3, 'Belgium': 11.3, 'France': 64.3, \n",
        "                        'United Kingdom': 64.9, 'Netherlands': 16.9})\n",
        "\n",
        "# dataframe\n",
        "data = {'country': ['Belgium', 'France', 'Germany', 'Netherlands', 'United Kingdom'],\n",
        "        'population': [11.3, 64.3, 81.3, 16.9, 64.9],\n",
        "        'area': [30510, 671308, 357050, 41526, 244820],\n",
        "        'capital': ['Brussels', 'Paris', 'Berlin', 'Amsterdam', 'London']}\n",
        "countries = pd.DataFrame(data)\n",
        "countries"
      ],
      "execution_count": null,
      "outputs": [
        {
          "output_type": "execute_result",
          "data": {
            "text/html": [
              "<div>\n",
              "<style scoped>\n",
              "    .dataframe tbody tr th:only-of-type {\n",
              "        vertical-align: middle;\n",
              "    }\n",
              "\n",
              "    .dataframe tbody tr th {\n",
              "        vertical-align: top;\n",
              "    }\n",
              "\n",
              "    .dataframe thead th {\n",
              "        text-align: right;\n",
              "    }\n",
              "</style>\n",
              "<table border=\"1\" class=\"dataframe\">\n",
              "  <thead>\n",
              "    <tr style=\"text-align: right;\">\n",
              "      <th></th>\n",
              "      <th>country</th>\n",
              "      <th>population</th>\n",
              "      <th>area</th>\n",
              "      <th>capital</th>\n",
              "    </tr>\n",
              "  </thead>\n",
              "  <tbody>\n",
              "    <tr>\n",
              "      <th>0</th>\n",
              "      <td>Belgium</td>\n",
              "      <td>11.3</td>\n",
              "      <td>30510</td>\n",
              "      <td>Brussels</td>\n",
              "    </tr>\n",
              "    <tr>\n",
              "      <th>1</th>\n",
              "      <td>France</td>\n",
              "      <td>64.3</td>\n",
              "      <td>671308</td>\n",
              "      <td>Paris</td>\n",
              "    </tr>\n",
              "    <tr>\n",
              "      <th>2</th>\n",
              "      <td>Germany</td>\n",
              "      <td>81.3</td>\n",
              "      <td>357050</td>\n",
              "      <td>Berlin</td>\n",
              "    </tr>\n",
              "    <tr>\n",
              "      <th>3</th>\n",
              "      <td>Netherlands</td>\n",
              "      <td>16.9</td>\n",
              "      <td>41526</td>\n",
              "      <td>Amsterdam</td>\n",
              "    </tr>\n",
              "    <tr>\n",
              "      <th>4</th>\n",
              "      <td>United Kingdom</td>\n",
              "      <td>64.9</td>\n",
              "      <td>244820</td>\n",
              "      <td>London</td>\n",
              "    </tr>\n",
              "  </tbody>\n",
              "</table>\n",
              "</div>"
            ],
            "text/plain": [
              "          country  population    area    capital\n",
              "0         Belgium        11.3   30510   Brussels\n",
              "1          France        64.3  671308      Paris\n",
              "2         Germany        81.3  357050     Berlin\n",
              "3     Netherlands        16.9   41526  Amsterdam\n",
              "4  United Kingdom        64.9  244820     London"
            ]
          },
          "metadata": {},
          "execution_count": 59
        }
      ]
    },
    {
      "cell_type": "code",
      "metadata": {
        "colab": {
          "base_uri": "https://localhost:8080/"
        },
        "id": "KG6V6uMPP79a",
        "outputId": "feb0d33b-a0c1-48b3-a01b-374bf5001a78"
      },
      "source": [
        "countries[countries.country == \"France\"][\"area\"]"
      ],
      "execution_count": null,
      "outputs": [
        {
          "output_type": "execute_result",
          "data": {
            "text/plain": [
              "1    671308\n",
              "Name: area, dtype: int64"
            ]
          },
          "metadata": {},
          "execution_count": 3
        }
      ]
    },
    {
      "cell_type": "code",
      "metadata": {
        "colab": {
          "base_uri": "https://localhost:8080/",
          "height": 111
        },
        "id": "C9dcdNt0Rydj",
        "outputId": "c28767be-9018-4c1a-fee3-a1996849e3f2"
      },
      "source": [
        "countries[2 : 4]"
      ],
      "execution_count": null,
      "outputs": [
        {
          "output_type": "execute_result",
          "data": {
            "text/html": [
              "<div>\n",
              "<style scoped>\n",
              "    .dataframe tbody tr th:only-of-type {\n",
              "        vertical-align: middle;\n",
              "    }\n",
              "\n",
              "    .dataframe tbody tr th {\n",
              "        vertical-align: top;\n",
              "    }\n",
              "\n",
              "    .dataframe thead th {\n",
              "        text-align: right;\n",
              "    }\n",
              "</style>\n",
              "<table border=\"1\" class=\"dataframe\">\n",
              "  <thead>\n",
              "    <tr style=\"text-align: right;\">\n",
              "      <th></th>\n",
              "      <th>country</th>\n",
              "      <th>population</th>\n",
              "      <th>area</th>\n",
              "      <th>capital</th>\n",
              "    </tr>\n",
              "  </thead>\n",
              "  <tbody>\n",
              "    <tr>\n",
              "      <th>2</th>\n",
              "      <td>Germany</td>\n",
              "      <td>81.3</td>\n",
              "      <td>357050</td>\n",
              "      <td>Berlin</td>\n",
              "    </tr>\n",
              "    <tr>\n",
              "      <th>3</th>\n",
              "      <td>Netherlands</td>\n",
              "      <td>16.9</td>\n",
              "      <td>41526</td>\n",
              "      <td>Amsterdam</td>\n",
              "    </tr>\n",
              "  </tbody>\n",
              "</table>\n",
              "</div>"
            ],
            "text/plain": [
              "       country  population    area    capital\n",
              "2      Germany        81.3  357050     Berlin\n",
              "3  Netherlands        16.9   41526  Amsterdam"
            ]
          },
          "metadata": {},
          "execution_count": 4
        }
      ]
    },
    {
      "cell_type": "markdown",
      "metadata": {
        "id": "oVdZjSJJjC1T"
      },
      "source": [
        "Impostiamo come index la colonna \"country\" del dataframe:\n"
      ]
    },
    {
      "cell_type": "code",
      "metadata": {
        "colab": {
          "base_uri": "https://localhost:8080/",
          "height": 235
        },
        "id": "uqSI957CjC1T",
        "outputId": "c885f337-e76d-47ef-f064-e98cf9265c18"
      },
      "source": [
        "#\n",
        "countries = countries.set_index('country')\n",
        "countries"
      ],
      "execution_count": null,
      "outputs": [
        {
          "output_type": "execute_result",
          "data": {
            "text/html": [
              "<div>\n",
              "<style scoped>\n",
              "    .dataframe tbody tr th:only-of-type {\n",
              "        vertical-align: middle;\n",
              "    }\n",
              "\n",
              "    .dataframe tbody tr th {\n",
              "        vertical-align: top;\n",
              "    }\n",
              "\n",
              "    .dataframe thead th {\n",
              "        text-align: right;\n",
              "    }\n",
              "</style>\n",
              "<table border=\"1\" class=\"dataframe\">\n",
              "  <thead>\n",
              "    <tr style=\"text-align: right;\">\n",
              "      <th></th>\n",
              "      <th>population</th>\n",
              "      <th>area</th>\n",
              "      <th>capital</th>\n",
              "    </tr>\n",
              "    <tr>\n",
              "      <th>country</th>\n",
              "      <th></th>\n",
              "      <th></th>\n",
              "      <th></th>\n",
              "    </tr>\n",
              "  </thead>\n",
              "  <tbody>\n",
              "    <tr>\n",
              "      <th>Belgium</th>\n",
              "      <td>11.3</td>\n",
              "      <td>30510</td>\n",
              "      <td>Brussels</td>\n",
              "    </tr>\n",
              "    <tr>\n",
              "      <th>France</th>\n",
              "      <td>64.3</td>\n",
              "      <td>671308</td>\n",
              "      <td>Paris</td>\n",
              "    </tr>\n",
              "    <tr>\n",
              "      <th>Germany</th>\n",
              "      <td>81.3</td>\n",
              "      <td>357050</td>\n",
              "      <td>Berlin</td>\n",
              "    </tr>\n",
              "    <tr>\n",
              "      <th>Netherlands</th>\n",
              "      <td>16.9</td>\n",
              "      <td>41526</td>\n",
              "      <td>Amsterdam</td>\n",
              "    </tr>\n",
              "    <tr>\n",
              "      <th>United Kingdom</th>\n",
              "      <td>64.9</td>\n",
              "      <td>244820</td>\n",
              "      <td>London</td>\n",
              "    </tr>\n",
              "  </tbody>\n",
              "</table>\n",
              "</div>"
            ],
            "text/plain": [
              "                population    area    capital\n",
              "country                                      \n",
              "Belgium               11.3   30510   Brussels\n",
              "France                64.3  671308      Paris\n",
              "Germany               81.3  357050     Berlin\n",
              "Netherlands           16.9   41526  Amsterdam\n",
              "United Kingdom        64.9  244820     London"
            ]
          },
          "metadata": {},
          "execution_count": 5
        }
      ]
    },
    {
      "cell_type": "markdown",
      "metadata": {
        "id": "TtLCgjumjC1U"
      },
      "source": [
        "## Selezionare i dati\n",
        "\n",
        "Una delle caratteristiche di pandas è che ci permette di selezionare i dati attraverso le righe e colonne, ora però dobbiamo distinguerli:\n"
      ]
    },
    {
      "cell_type": "markdown",
      "metadata": {
        "id": "Fj8bRp74jC1V"
      },
      "source": [
        "Per selezionare una solo colonna:"
      ]
    },
    {
      "cell_type": "code",
      "metadata": {
        "colab": {
          "base_uri": "https://localhost:8080/"
        },
        "id": "3rNSwlKyjC1W",
        "outputId": "f3e09683-e62d-4b80-a76e-c9ca23ed7774"
      },
      "source": [
        "countries['area']"
      ],
      "execution_count": null,
      "outputs": [
        {
          "output_type": "execute_result",
          "data": {
            "text/plain": [
              "country\n",
              "Belgium            30510\n",
              "France            671308\n",
              "Germany           357050\n",
              "Netherlands        41526\n",
              "United Kingdom    244820\n",
              "Name: area, dtype: int64"
            ]
          },
          "metadata": {},
          "execution_count": 6
        }
      ]
    },
    {
      "cell_type": "markdown",
      "metadata": {
        "id": "kBlUInmejC1X"
      },
      "source": [
        "per selezionare più di una colonna:"
      ]
    },
    {
      "cell_type": "code",
      "metadata": {
        "colab": {
          "base_uri": "https://localhost:8080/",
          "height": 235
        },
        "id": "0sWZYkgnjC1X",
        "outputId": "e8d298a5-d9ac-4dfe-e3dc-ba874e5638bb"
      },
      "source": [
        "countries[['area', 'population']]"
      ],
      "execution_count": null,
      "outputs": [
        {
          "output_type": "execute_result",
          "data": {
            "text/html": [
              "<div>\n",
              "<style scoped>\n",
              "    .dataframe tbody tr th:only-of-type {\n",
              "        vertical-align: middle;\n",
              "    }\n",
              "\n",
              "    .dataframe tbody tr th {\n",
              "        vertical-align: top;\n",
              "    }\n",
              "\n",
              "    .dataframe thead th {\n",
              "        text-align: right;\n",
              "    }\n",
              "</style>\n",
              "<table border=\"1\" class=\"dataframe\">\n",
              "  <thead>\n",
              "    <tr style=\"text-align: right;\">\n",
              "      <th></th>\n",
              "      <th>area</th>\n",
              "      <th>population</th>\n",
              "    </tr>\n",
              "    <tr>\n",
              "      <th>country</th>\n",
              "      <th></th>\n",
              "      <th></th>\n",
              "    </tr>\n",
              "  </thead>\n",
              "  <tbody>\n",
              "    <tr>\n",
              "      <th>Belgium</th>\n",
              "      <td>30510</td>\n",
              "      <td>11.3</td>\n",
              "    </tr>\n",
              "    <tr>\n",
              "      <th>France</th>\n",
              "      <td>671308</td>\n",
              "      <td>64.3</td>\n",
              "    </tr>\n",
              "    <tr>\n",
              "      <th>Germany</th>\n",
              "      <td>357050</td>\n",
              "      <td>81.3</td>\n",
              "    </tr>\n",
              "    <tr>\n",
              "      <th>Netherlands</th>\n",
              "      <td>41526</td>\n",
              "      <td>16.9</td>\n",
              "    </tr>\n",
              "    <tr>\n",
              "      <th>United Kingdom</th>\n",
              "      <td>244820</td>\n",
              "      <td>64.9</td>\n",
              "    </tr>\n",
              "  </tbody>\n",
              "</table>\n",
              "</div>"
            ],
            "text/plain": [
              "                  area  population\n",
              "country                           \n",
              "Belgium          30510        11.3\n",
              "France          671308        64.3\n",
              "Germany         357050        81.3\n",
              "Netherlands      41526        16.9\n",
              "United Kingdom  244820        64.9"
            ]
          },
          "metadata": {},
          "execution_count": 7
        }
      ]
    },
    {
      "cell_type": "markdown",
      "metadata": {
        "id": "m3E8HXTpjC1Y"
      },
      "source": [
        "Qua invece vediamo un modo col quale selezionare delle righe usando come \"estremi\" dei valori presenti nell'index"
      ]
    },
    {
      "cell_type": "code",
      "metadata": {
        "colab": {
          "base_uri": "https://localhost:8080/",
          "height": 173
        },
        "id": "H2KUiyzijC1Y",
        "outputId": "06604bee-86af-4ed8-e50e-648f20652ade"
      },
      "source": [
        "countries['Germany':'United Kingdom']"
      ],
      "execution_count": null,
      "outputs": [
        {
          "output_type": "execute_result",
          "data": {
            "text/html": [
              "<div>\n",
              "<style scoped>\n",
              "    .dataframe tbody tr th:only-of-type {\n",
              "        vertical-align: middle;\n",
              "    }\n",
              "\n",
              "    .dataframe tbody tr th {\n",
              "        vertical-align: top;\n",
              "    }\n",
              "\n",
              "    .dataframe thead th {\n",
              "        text-align: right;\n",
              "    }\n",
              "</style>\n",
              "<table border=\"1\" class=\"dataframe\">\n",
              "  <thead>\n",
              "    <tr style=\"text-align: right;\">\n",
              "      <th></th>\n",
              "      <th>population</th>\n",
              "      <th>area</th>\n",
              "      <th>capital</th>\n",
              "    </tr>\n",
              "    <tr>\n",
              "      <th>country</th>\n",
              "      <th></th>\n",
              "      <th></th>\n",
              "      <th></th>\n",
              "    </tr>\n",
              "  </thead>\n",
              "  <tbody>\n",
              "    <tr>\n",
              "      <th>Germany</th>\n",
              "      <td>81.3</td>\n",
              "      <td>357050</td>\n",
              "      <td>Berlin</td>\n",
              "    </tr>\n",
              "    <tr>\n",
              "      <th>Netherlands</th>\n",
              "      <td>16.9</td>\n",
              "      <td>41526</td>\n",
              "      <td>Amsterdam</td>\n",
              "    </tr>\n",
              "    <tr>\n",
              "      <th>United Kingdom</th>\n",
              "      <td>64.9</td>\n",
              "      <td>244820</td>\n",
              "      <td>London</td>\n",
              "    </tr>\n",
              "  </tbody>\n",
              "</table>\n",
              "</div>"
            ],
            "text/plain": [
              "                population    area    capital\n",
              "country                                      \n",
              "Germany               81.3  357050     Berlin\n",
              "Netherlands           16.9   41526  Amsterdam\n",
              "United Kingdom        64.9  244820     London"
            ]
          },
          "metadata": {},
          "execution_count": 8
        }
      ]
    },
    {
      "cell_type": "markdown",
      "metadata": {
        "id": "YQJMcjuPjC1a"
      },
      "source": [
        "### Indicizzazione con `loc` e `iloc`"
      ]
    },
    {
      "cell_type": "markdown",
      "metadata": {
        "id": "wrAv_TBDjC1a"
      },
      "source": [
        "Per una selezione più avanzata possiamo utilizzare altri modi ovvero:\n",
        "    \n",
        "* `loc`: selezione da label\n",
        "* `iloc`: selezione da posizione\n"
      ]
    },
    {
      "cell_type": "markdown",
      "metadata": {
        "id": "o6fnOb90jC1b"
      },
      "source": [
        "Per selezionare un singolo elemento:"
      ]
    },
    {
      "cell_type": "code",
      "metadata": {
        "colab": {
          "base_uri": "https://localhost:8080/"
        },
        "id": "HGoDT5Y-jC1b",
        "outputId": "3de1f678-7290-4d9f-ba9b-b9d406180b7c"
      },
      "source": [
        "#\n",
        "countries.loc['Germany', 'area']"
      ],
      "execution_count": null,
      "outputs": [
        {
          "output_type": "execute_result",
          "data": {
            "text/plain": [
              "357050"
            ]
          },
          "metadata": {},
          "execution_count": 9
        }
      ]
    },
    {
      "cell_type": "markdown",
      "metadata": {
        "id": "3pxghTuYjC1b"
      },
      "source": [
        "Per selezionre più elementi:"
      ]
    },
    {
      "cell_type": "code",
      "metadata": {
        "colab": {
          "base_uri": "https://localhost:8080/",
          "height": 142
        },
        "id": "l1eyI6LPjC1c",
        "outputId": "0e57e499-2c0b-4085-e0eb-919792485a75"
      },
      "source": [
        "#\n",
        "countries.loc[['France','Germany'], ['area', 'population']]"
      ],
      "execution_count": null,
      "outputs": [
        {
          "output_type": "execute_result",
          "data": {
            "text/html": [
              "<div>\n",
              "<style scoped>\n",
              "    .dataframe tbody tr th:only-of-type {\n",
              "        vertical-align: middle;\n",
              "    }\n",
              "\n",
              "    .dataframe tbody tr th {\n",
              "        vertical-align: top;\n",
              "    }\n",
              "\n",
              "    .dataframe thead th {\n",
              "        text-align: right;\n",
              "    }\n",
              "</style>\n",
              "<table border=\"1\" class=\"dataframe\">\n",
              "  <thead>\n",
              "    <tr style=\"text-align: right;\">\n",
              "      <th></th>\n",
              "      <th>area</th>\n",
              "      <th>population</th>\n",
              "    </tr>\n",
              "    <tr>\n",
              "      <th>country</th>\n",
              "      <th></th>\n",
              "      <th></th>\n",
              "    </tr>\n",
              "  </thead>\n",
              "  <tbody>\n",
              "    <tr>\n",
              "      <th>France</th>\n",
              "      <td>671308</td>\n",
              "      <td>64.3</td>\n",
              "    </tr>\n",
              "    <tr>\n",
              "      <th>Germany</th>\n",
              "      <td>357050</td>\n",
              "      <td>81.3</td>\n",
              "    </tr>\n",
              "  </tbody>\n",
              "</table>\n",
              "</div>"
            ],
            "text/plain": [
              "           area  population\n",
              "country                    \n",
              "France   671308        64.3\n",
              "Germany  357050        81.3"
            ]
          },
          "metadata": {},
          "execution_count": 10
        }
      ]
    },
    {
      "cell_type": "markdown",
      "metadata": {
        "id": "c-sxyO3UjC1c"
      },
      "source": [
        "---\n",
        "Invece `iloc` selezione gli elementi attraverso la posizione:"
      ]
    },
    {
      "cell_type": "code",
      "metadata": {
        "colab": {
          "base_uri": "https://localhost:8080/",
          "height": 142
        },
        "id": "QRPEs13ojC1c",
        "outputId": "c890cd4a-63b0-46ce-a27d-db5fe7b0e68e"
      },
      "source": [
        "#\n",
        "countries.iloc[0:2,1:3]"
      ],
      "execution_count": null,
      "outputs": [
        {
          "output_type": "execute_result",
          "data": {
            "text/html": [
              "<div>\n",
              "<style scoped>\n",
              "    .dataframe tbody tr th:only-of-type {\n",
              "        vertical-align: middle;\n",
              "    }\n",
              "\n",
              "    .dataframe tbody tr th {\n",
              "        vertical-align: top;\n",
              "    }\n",
              "\n",
              "    .dataframe thead th {\n",
              "        text-align: right;\n",
              "    }\n",
              "</style>\n",
              "<table border=\"1\" class=\"dataframe\">\n",
              "  <thead>\n",
              "    <tr style=\"text-align: right;\">\n",
              "      <th></th>\n",
              "      <th>area</th>\n",
              "      <th>capital</th>\n",
              "    </tr>\n",
              "    <tr>\n",
              "      <th>country</th>\n",
              "      <th></th>\n",
              "      <th></th>\n",
              "    </tr>\n",
              "  </thead>\n",
              "  <tbody>\n",
              "    <tr>\n",
              "      <th>Belgium</th>\n",
              "      <td>30510</td>\n",
              "      <td>Brussels</td>\n",
              "    </tr>\n",
              "    <tr>\n",
              "      <th>France</th>\n",
              "      <td>671308</td>\n",
              "      <td>Paris</td>\n",
              "    </tr>\n",
              "  </tbody>\n",
              "</table>\n",
              "</div>"
            ],
            "text/plain": [
              "           area   capital\n",
              "country                  \n",
              "Belgium   30510  Brussels\n",
              "France   671308     Paris"
            ]
          },
          "metadata": {},
          "execution_count": 11
        }
      ]
    },
    {
      "cell_type": "markdown",
      "metadata": {
        "id": "i4CShbpXjC1d"
      },
      "source": [
        "Questi metodi di indicizzazione possono essere anche usati per assegnare del valori:"
      ]
    },
    {
      "cell_type": "code",
      "metadata": {
        "collapsed": true,
        "id": "fisKq-w7jC1d"
      },
      "source": [
        "#\n",
        "countries2 = countries.copy()\n",
        "countries2.loc['Belgium':'Germany', 'population'] = 10"
      ],
      "execution_count": null,
      "outputs": []
    },
    {
      "cell_type": "code",
      "metadata": {
        "id": "khc4-_OpU479"
      },
      "source": [
        "countries2.iloc[0:3,1] = 1000"
      ],
      "execution_count": null,
      "outputs": []
    },
    {
      "cell_type": "code",
      "metadata": {
        "colab": {
          "base_uri": "https://localhost:8080/",
          "height": 235
        },
        "id": "nfZ799YpjC1e",
        "outputId": "f889e481-9608-4111-ae2c-1467e2ff6f84"
      },
      "source": [
        "countries2"
      ],
      "execution_count": null,
      "outputs": [
        {
          "output_type": "execute_result",
          "data": {
            "text/html": [
              "<div>\n",
              "<style scoped>\n",
              "    .dataframe tbody tr th:only-of-type {\n",
              "        vertical-align: middle;\n",
              "    }\n",
              "\n",
              "    .dataframe tbody tr th {\n",
              "        vertical-align: top;\n",
              "    }\n",
              "\n",
              "    .dataframe thead th {\n",
              "        text-align: right;\n",
              "    }\n",
              "</style>\n",
              "<table border=\"1\" class=\"dataframe\">\n",
              "  <thead>\n",
              "    <tr style=\"text-align: right;\">\n",
              "      <th></th>\n",
              "      <th>population</th>\n",
              "      <th>area</th>\n",
              "      <th>capital</th>\n",
              "    </tr>\n",
              "    <tr>\n",
              "      <th>country</th>\n",
              "      <th></th>\n",
              "      <th></th>\n",
              "      <th></th>\n",
              "    </tr>\n",
              "  </thead>\n",
              "  <tbody>\n",
              "    <tr>\n",
              "      <th>Belgium</th>\n",
              "      <td>10.0</td>\n",
              "      <td>1000</td>\n",
              "      <td>Brussels</td>\n",
              "    </tr>\n",
              "    <tr>\n",
              "      <th>France</th>\n",
              "      <td>10.0</td>\n",
              "      <td>1000</td>\n",
              "      <td>Paris</td>\n",
              "    </tr>\n",
              "    <tr>\n",
              "      <th>Germany</th>\n",
              "      <td>10.0</td>\n",
              "      <td>1000</td>\n",
              "      <td>Berlin</td>\n",
              "    </tr>\n",
              "    <tr>\n",
              "      <th>Netherlands</th>\n",
              "      <td>16.9</td>\n",
              "      <td>41526</td>\n",
              "      <td>Amsterdam</td>\n",
              "    </tr>\n",
              "    <tr>\n",
              "      <th>United Kingdom</th>\n",
              "      <td>64.9</td>\n",
              "      <td>244820</td>\n",
              "      <td>London</td>\n",
              "    </tr>\n",
              "  </tbody>\n",
              "</table>\n",
              "</div>"
            ],
            "text/plain": [
              "                population    area    capital\n",
              "country                                      \n",
              "Belgium               10.0    1000   Brussels\n",
              "France                10.0    1000      Paris\n",
              "Germany               10.0    1000     Berlin\n",
              "Netherlands           16.9   41526  Amsterdam\n",
              "United Kingdom        64.9  244820     London"
            ]
          },
          "metadata": {},
          "execution_count": 14
        }
      ]
    },
    {
      "cell_type": "markdown",
      "metadata": {
        "id": "kmxjV4lojC1e"
      },
      "source": [
        "## Selezione dei dati con condizone"
      ]
    },
    {
      "cell_type": "markdown",
      "metadata": {
        "id": "VdtaTvpXjC1f"
      },
      "source": [
        "In questo esempio possiamo vedere come applicare una condione ai valori di una colonna:"
      ]
    },
    {
      "cell_type": "code",
      "metadata": {
        "colab": {
          "base_uri": "https://localhost:8080/"
        },
        "id": "n5pCIEFdjC1f",
        "outputId": "56521c55-a65e-4462-9508-027412f04e6e"
      },
      "source": [
        "countries['area'] > 100000"
      ],
      "execution_count": null,
      "outputs": [
        {
          "output_type": "execute_result",
          "data": {
            "text/plain": [
              "country\n",
              "Belgium           False\n",
              "France             True\n",
              "Germany            True\n",
              "Netherlands       False\n",
              "United Kingdom     True\n",
              "Name: area, dtype: bool"
            ]
          },
          "metadata": {},
          "execution_count": 15
        }
      ]
    },
    {
      "cell_type": "markdown",
      "metadata": {
        "id": "HL2uBDH0qN0Q"
      },
      "source": [
        "Qua invece vediamo come selezionare e visulaizzare le colonne nelle quali la condizione è vera (True):"
      ]
    },
    {
      "cell_type": "code",
      "metadata": {
        "colab": {
          "base_uri": "https://localhost:8080/",
          "height": 173
        },
        "id": "89-ufRWnjC1f",
        "outputId": "bd1b5df7-c2b6-4eb7-8b31-6e6c73497c69"
      },
      "source": [
        "countries[countries['area'] > 100000]"
      ],
      "execution_count": null,
      "outputs": [
        {
          "output_type": "execute_result",
          "data": {
            "text/html": [
              "<div>\n",
              "<style scoped>\n",
              "    .dataframe tbody tr th:only-of-type {\n",
              "        vertical-align: middle;\n",
              "    }\n",
              "\n",
              "    .dataframe tbody tr th {\n",
              "        vertical-align: top;\n",
              "    }\n",
              "\n",
              "    .dataframe thead th {\n",
              "        text-align: right;\n",
              "    }\n",
              "</style>\n",
              "<table border=\"1\" class=\"dataframe\">\n",
              "  <thead>\n",
              "    <tr style=\"text-align: right;\">\n",
              "      <th></th>\n",
              "      <th>population</th>\n",
              "      <th>area</th>\n",
              "      <th>capital</th>\n",
              "    </tr>\n",
              "    <tr>\n",
              "      <th>country</th>\n",
              "      <th></th>\n",
              "      <th></th>\n",
              "      <th></th>\n",
              "    </tr>\n",
              "  </thead>\n",
              "  <tbody>\n",
              "    <tr>\n",
              "      <th>France</th>\n",
              "      <td>64.3</td>\n",
              "      <td>671308</td>\n",
              "      <td>Paris</td>\n",
              "    </tr>\n",
              "    <tr>\n",
              "      <th>Germany</th>\n",
              "      <td>81.3</td>\n",
              "      <td>357050</td>\n",
              "      <td>Berlin</td>\n",
              "    </tr>\n",
              "    <tr>\n",
              "      <th>United Kingdom</th>\n",
              "      <td>64.9</td>\n",
              "      <td>244820</td>\n",
              "      <td>London</td>\n",
              "    </tr>\n",
              "  </tbody>\n",
              "</table>\n",
              "</div>"
            ],
            "text/plain": [
              "                population    area capital\n",
              "country                                   \n",
              "France                64.3  671308   Paris\n",
              "Germany               81.3  357050  Berlin\n",
              "United Kingdom        64.9  244820  London"
            ]
          },
          "metadata": {},
          "execution_count": 16
        }
      ]
    },
    {
      "cell_type": "markdown",
      "metadata": {
        "id": "_k7ZA1pMjC1g"
      },
      "source": [
        "---\n",
        "\n",
        "<div class=\"alert alert-success\">\n",
        "    <b>ESERCIZIO</b>: aggiungi una colonna \"density\" con la densità della popolazione (nota: la colonna della popolazione è espressa in milioni)\n",
        "</div>"
      ]
    },
    {
      "cell_type": "code",
      "metadata": {
        "clear_cell": true,
        "id": "TeTY3eSfjC1g",
        "colab": {
          "base_uri": "https://localhost:8080/",
          "height": 204
        },
        "outputId": "d151b251-f76d-4742-91f3-ef56dbf8676f"
      },
      "source": [
        "countries[\"density\"] = countries['population']*1000000/countries['area']\n",
        "countries"
      ],
      "execution_count": null,
      "outputs": [
        {
          "output_type": "execute_result",
          "data": {
            "text/html": [
              "<div>\n",
              "<style scoped>\n",
              "    .dataframe tbody tr th:only-of-type {\n",
              "        vertical-align: middle;\n",
              "    }\n",
              "\n",
              "    .dataframe tbody tr th {\n",
              "        vertical-align: top;\n",
              "    }\n",
              "\n",
              "    .dataframe thead th {\n",
              "        text-align: right;\n",
              "    }\n",
              "</style>\n",
              "<table border=\"1\" class=\"dataframe\">\n",
              "  <thead>\n",
              "    <tr style=\"text-align: right;\">\n",
              "      <th></th>\n",
              "      <th>country</th>\n",
              "      <th>population</th>\n",
              "      <th>area</th>\n",
              "      <th>capital</th>\n",
              "      <th>density</th>\n",
              "    </tr>\n",
              "  </thead>\n",
              "  <tbody>\n",
              "    <tr>\n",
              "      <th>0</th>\n",
              "      <td>Belgium</td>\n",
              "      <td>11.3</td>\n",
              "      <td>30510</td>\n",
              "      <td>Brussels</td>\n",
              "      <td>370.370370</td>\n",
              "    </tr>\n",
              "    <tr>\n",
              "      <th>1</th>\n",
              "      <td>France</td>\n",
              "      <td>64.3</td>\n",
              "      <td>671308</td>\n",
              "      <td>Paris</td>\n",
              "      <td>95.783158</td>\n",
              "    </tr>\n",
              "    <tr>\n",
              "      <th>2</th>\n",
              "      <td>Germany</td>\n",
              "      <td>81.3</td>\n",
              "      <td>357050</td>\n",
              "      <td>Berlin</td>\n",
              "      <td>227.699202</td>\n",
              "    </tr>\n",
              "    <tr>\n",
              "      <th>3</th>\n",
              "      <td>Netherlands</td>\n",
              "      <td>16.9</td>\n",
              "      <td>41526</td>\n",
              "      <td>Amsterdam</td>\n",
              "      <td>406.973944</td>\n",
              "    </tr>\n",
              "    <tr>\n",
              "      <th>4</th>\n",
              "      <td>United Kingdom</td>\n",
              "      <td>64.9</td>\n",
              "      <td>244820</td>\n",
              "      <td>London</td>\n",
              "      <td>265.092721</td>\n",
              "    </tr>\n",
              "  </tbody>\n",
              "</table>\n",
              "</div>"
            ],
            "text/plain": [
              "          country  population    area    capital     density\n",
              "0         Belgium        11.3   30510   Brussels  370.370370\n",
              "1          France        64.3  671308      Paris   95.783158\n",
              "2         Germany        81.3  357050     Berlin  227.699202\n",
              "3     Netherlands        16.9   41526  Amsterdam  406.973944\n",
              "4  United Kingdom        64.9  244820     London  265.092721"
            ]
          },
          "metadata": {},
          "execution_count": 66
        }
      ]
    },
    {
      "cell_type": "markdown",
      "metadata": {
        "id": "_ZopmN59jC1g"
      },
      "source": [
        "<div class=\"alert alert-success\">\n",
        "    <b>ESERCIZIO</b>: seleziona la capitale e la colonna della popolazione di quei paesi in cui la densità è maggiore di 300\n",
        "</div>"
      ]
    },
    {
      "cell_type": "code",
      "metadata": {
        "clear_cell": true,
        "id": "HHAFLEU4jC1g",
        "colab": {
          "base_uri": "https://localhost:8080/",
          "height": 111
        },
        "outputId": "ac2cc0db-8d65-4172-87d6-ebabf23b0a1f"
      },
      "source": [
        "countries[(countries.density > 300)][['country','density','population']]"
      ],
      "execution_count": null,
      "outputs": [
        {
          "output_type": "execute_result",
          "data": {
            "text/html": [
              "<div>\n",
              "<style scoped>\n",
              "    .dataframe tbody tr th:only-of-type {\n",
              "        vertical-align: middle;\n",
              "    }\n",
              "\n",
              "    .dataframe tbody tr th {\n",
              "        vertical-align: top;\n",
              "    }\n",
              "\n",
              "    .dataframe thead th {\n",
              "        text-align: right;\n",
              "    }\n",
              "</style>\n",
              "<table border=\"1\" class=\"dataframe\">\n",
              "  <thead>\n",
              "    <tr style=\"text-align: right;\">\n",
              "      <th></th>\n",
              "      <th>country</th>\n",
              "      <th>density</th>\n",
              "      <th>population</th>\n",
              "    </tr>\n",
              "  </thead>\n",
              "  <tbody>\n",
              "    <tr>\n",
              "      <th>0</th>\n",
              "      <td>Belgium</td>\n",
              "      <td>370.370370</td>\n",
              "      <td>11.3</td>\n",
              "    </tr>\n",
              "    <tr>\n",
              "      <th>3</th>\n",
              "      <td>Netherlands</td>\n",
              "      <td>406.973944</td>\n",
              "      <td>16.9</td>\n",
              "    </tr>\n",
              "  </tbody>\n",
              "</table>\n",
              "</div>"
            ],
            "text/plain": [
              "       country     density  population\n",
              "0      Belgium  370.370370        11.3\n",
              "3  Netherlands  406.973944        16.9"
            ]
          },
          "metadata": {},
          "execution_count": 77
        }
      ]
    },
    {
      "cell_type": "markdown",
      "metadata": {
        "id": "U6OwTyvwjC1h"
      },
      "source": [
        "<div class=\"alert alert-success\">\n",
        "    <b>ESERCIZIO</b>: aggiungi una colonna 'density_ratio' con il rapporto tra la densità e la densità media\n",
        "</div>"
      ]
    },
    {
      "cell_type": "code",
      "metadata": {
        "clear_cell": true,
        "id": "Pve0RQ8HjC1h",
        "colab": {
          "base_uri": "https://localhost:8080/",
          "height": 204
        },
        "outputId": "5f12d517-6b10-42ab-eb2d-0caea6a846eb"
      },
      "source": [
        "countries[\"density_ratio\"] = countries['density'] / countries['density'].mean()\n",
        "countries"
      ],
      "execution_count": null,
      "outputs": [
        {
          "output_type": "execute_result",
          "data": {
            "text/html": [
              "<div>\n",
              "<style scoped>\n",
              "    .dataframe tbody tr th:only-of-type {\n",
              "        vertical-align: middle;\n",
              "    }\n",
              "\n",
              "    .dataframe tbody tr th {\n",
              "        vertical-align: top;\n",
              "    }\n",
              "\n",
              "    .dataframe thead th {\n",
              "        text-align: right;\n",
              "    }\n",
              "</style>\n",
              "<table border=\"1\" class=\"dataframe\">\n",
              "  <thead>\n",
              "    <tr style=\"text-align: right;\">\n",
              "      <th></th>\n",
              "      <th>country</th>\n",
              "      <th>population</th>\n",
              "      <th>area</th>\n",
              "      <th>capital</th>\n",
              "      <th>density</th>\n",
              "      <th>density_ratio</th>\n",
              "    </tr>\n",
              "  </thead>\n",
              "  <tbody>\n",
              "    <tr>\n",
              "      <th>0</th>\n",
              "      <td>Belgium</td>\n",
              "      <td>11.3</td>\n",
              "      <td>30510</td>\n",
              "      <td>Brussels</td>\n",
              "      <td>370.370370</td>\n",
              "      <td>1.355755</td>\n",
              "    </tr>\n",
              "    <tr>\n",
              "      <th>1</th>\n",
              "      <td>France</td>\n",
              "      <td>64.3</td>\n",
              "      <td>671308</td>\n",
              "      <td>Paris</td>\n",
              "      <td>95.783158</td>\n",
              "      <td>0.350618</td>\n",
              "    </tr>\n",
              "    <tr>\n",
              "      <th>2</th>\n",
              "      <td>Germany</td>\n",
              "      <td>81.3</td>\n",
              "      <td>357050</td>\n",
              "      <td>Berlin</td>\n",
              "      <td>227.699202</td>\n",
              "      <td>0.833502</td>\n",
              "    </tr>\n",
              "    <tr>\n",
              "      <th>3</th>\n",
              "      <td>Netherlands</td>\n",
              "      <td>16.9</td>\n",
              "      <td>41526</td>\n",
              "      <td>Amsterdam</td>\n",
              "      <td>406.973944</td>\n",
              "      <td>1.489744</td>\n",
              "    </tr>\n",
              "    <tr>\n",
              "      <th>4</th>\n",
              "      <td>United Kingdom</td>\n",
              "      <td>64.9</td>\n",
              "      <td>244820</td>\n",
              "      <td>London</td>\n",
              "      <td>265.092721</td>\n",
              "      <td>0.970382</td>\n",
              "    </tr>\n",
              "  </tbody>\n",
              "</table>\n",
              "</div>"
            ],
            "text/plain": [
              "          country  population    area    capital     density  density_ratio\n",
              "0         Belgium        11.3   30510   Brussels  370.370370       1.355755\n",
              "1          France        64.3  671308      Paris   95.783158       0.350618\n",
              "2         Germany        81.3  357050     Berlin  227.699202       0.833502\n",
              "3     Netherlands        16.9   41526  Amsterdam  406.973944       1.489744\n",
              "4  United Kingdom        64.9  244820     London  265.092721       0.970382"
            ]
          },
          "metadata": {},
          "execution_count": 83
        }
      ]
    },
    {
      "cell_type": "markdown",
      "metadata": {
        "id": "-7FbgC08jC1h"
      },
      "source": [
        "<div class=\"alert alert-success\">\n",
        "    <b>ESERCIZIO</b>: cambia la capitale degli UK in Cambridge\n",
        "</div>"
      ]
    },
    {
      "cell_type": "code",
      "metadata": {
        "clear_cell": true,
        "id": "5vFeYHFYjC1h",
        "colab": {
          "base_uri": "https://localhost:8080/",
          "height": 204
        },
        "outputId": "9a62c004-7918-4473-dd32-e441b248cabb"
      },
      "source": [
        "countries3 = countries.copy()\n",
        "#countries3.loc['United Kindom','capital'] = \"Cambridge\"\n",
        "#countries3.loc[4,'capital'] = \"Cambridge\"\n",
        "countries3.iloc[4 ,3] = \"Cambridge\"\n",
        "countries3"
      ],
      "execution_count": null,
      "outputs": [
        {
          "output_type": "execute_result",
          "data": {
            "text/html": [
              "<div>\n",
              "<style scoped>\n",
              "    .dataframe tbody tr th:only-of-type {\n",
              "        vertical-align: middle;\n",
              "    }\n",
              "\n",
              "    .dataframe tbody tr th {\n",
              "        vertical-align: top;\n",
              "    }\n",
              "\n",
              "    .dataframe thead th {\n",
              "        text-align: right;\n",
              "    }\n",
              "</style>\n",
              "<table border=\"1\" class=\"dataframe\">\n",
              "  <thead>\n",
              "    <tr style=\"text-align: right;\">\n",
              "      <th></th>\n",
              "      <th>country</th>\n",
              "      <th>population</th>\n",
              "      <th>area</th>\n",
              "      <th>capital</th>\n",
              "      <th>density</th>\n",
              "      <th>density_ratio</th>\n",
              "    </tr>\n",
              "  </thead>\n",
              "  <tbody>\n",
              "    <tr>\n",
              "      <th>0</th>\n",
              "      <td>Belgium</td>\n",
              "      <td>11.3</td>\n",
              "      <td>30510</td>\n",
              "      <td>Brussels</td>\n",
              "      <td>370.370370</td>\n",
              "      <td>NaN</td>\n",
              "    </tr>\n",
              "    <tr>\n",
              "      <th>1</th>\n",
              "      <td>France</td>\n",
              "      <td>64.3</td>\n",
              "      <td>671308</td>\n",
              "      <td>Paris</td>\n",
              "      <td>95.783158</td>\n",
              "      <td>NaN</td>\n",
              "    </tr>\n",
              "    <tr>\n",
              "      <th>2</th>\n",
              "      <td>Germany</td>\n",
              "      <td>81.3</td>\n",
              "      <td>357050</td>\n",
              "      <td>Berlin</td>\n",
              "      <td>227.699202</td>\n",
              "      <td>NaN</td>\n",
              "    </tr>\n",
              "    <tr>\n",
              "      <th>3</th>\n",
              "      <td>Netherlands</td>\n",
              "      <td>16.9</td>\n",
              "      <td>41526</td>\n",
              "      <td>Amsterdam</td>\n",
              "      <td>406.973944</td>\n",
              "      <td>NaN</td>\n",
              "    </tr>\n",
              "    <tr>\n",
              "      <th>4</th>\n",
              "      <td>United Kingdom</td>\n",
              "      <td>64.9</td>\n",
              "      <td>244820</td>\n",
              "      <td>Cambridge</td>\n",
              "      <td>265.092721</td>\n",
              "      <td>NaN</td>\n",
              "    </tr>\n",
              "  </tbody>\n",
              "</table>\n",
              "</div>"
            ],
            "text/plain": [
              "          country  population    area    capital     density  density_ratio\n",
              "0         Belgium        11.3   30510   Brussels  370.370370            NaN\n",
              "1          France        64.3  671308      Paris   95.783158            NaN\n",
              "2         Germany        81.3  357050     Berlin  227.699202            NaN\n",
              "3     Netherlands        16.9   41526  Amsterdam  406.973944            NaN\n",
              "4  United Kingdom        64.9  244820  Cambridge  265.092721            NaN"
            ]
          },
          "metadata": {},
          "execution_count": 75
        }
      ]
    },
    {
      "cell_type": "markdown",
      "metadata": {
        "collapsed": true,
        "id": "BBjV3YSDjC1h"
      },
      "source": [
        "<div class=\"alert alert-success\">\n",
        "    <b>ESERCIZIO</b>: seleziona tutti i paesi la cui densità di popolazione è compresa tra 100 e 300 persone/km²\n",
        "</div>"
      ]
    },
    {
      "cell_type": "code",
      "metadata": {
        "clear_cell": true,
        "id": "l1fXEJ9kjC1i",
        "colab": {
          "base_uri": "https://localhost:8080/",
          "height": 111
        },
        "outputId": "ad377648-6650-457e-8f84-278b18f718b3"
      },
      "source": [
        "countries[(countries['density'] >= 100) & (countries.density <= 300)]"
      ],
      "execution_count": null,
      "outputs": [
        {
          "output_type": "execute_result",
          "data": {
            "text/html": [
              "<div>\n",
              "<style scoped>\n",
              "    .dataframe tbody tr th:only-of-type {\n",
              "        vertical-align: middle;\n",
              "    }\n",
              "\n",
              "    .dataframe tbody tr th {\n",
              "        vertical-align: top;\n",
              "    }\n",
              "\n",
              "    .dataframe thead th {\n",
              "        text-align: right;\n",
              "    }\n",
              "</style>\n",
              "<table border=\"1\" class=\"dataframe\">\n",
              "  <thead>\n",
              "    <tr style=\"text-align: right;\">\n",
              "      <th></th>\n",
              "      <th>country</th>\n",
              "      <th>density</th>\n",
              "    </tr>\n",
              "  </thead>\n",
              "  <tbody>\n",
              "    <tr>\n",
              "      <th>2</th>\n",
              "      <td>Germany</td>\n",
              "      <td>227.699202</td>\n",
              "    </tr>\n",
              "    <tr>\n",
              "      <th>4</th>\n",
              "      <td>United Kingdom</td>\n",
              "      <td>265.092721</td>\n",
              "    </tr>\n",
              "  </tbody>\n",
              "</table>\n",
              "</div>"
            ],
            "text/plain": [
              "          country     density\n",
              "2         Germany  227.699202\n",
              "4  United Kingdom  265.092721"
            ]
          },
          "metadata": {},
          "execution_count": 84
        }
      ]
    },
    {
      "cell_type": "markdown",
      "metadata": {
        "collapsed": true,
        "id": "W5pc5s49jC1i"
      },
      "source": [
        "## Metodo `isin` e metodi per le Stringhe"
      ]
    },
    {
      "cell_type": "markdown",
      "metadata": {
        "id": "3WPMw7TrjC1i"
      },
      "source": [
        "Il metodo `isin` è molto utile per selezionare delle righe nelle quali è presente un certo valore:"
      ]
    },
    {
      "cell_type": "code",
      "metadata": {
        "collapsed": true,
        "id": "-lBYfj2AjC1i"
      },
      "source": [
        "s = countries['capital']"
      ],
      "execution_count": null,
      "outputs": []
    },
    {
      "cell_type": "code",
      "metadata": {
        "colab": {
          "base_uri": "https://localhost:8080/"
        },
        "id": "Dc8j_z3BjC1i",
        "outputId": "75adaae7-0631-482a-9710-ddad6e8559b4"
      },
      "source": [
        "s.isin(['Berlin', 'London'])"
      ],
      "execution_count": null,
      "outputs": [
        {
          "output_type": "execute_result",
          "data": {
            "text/plain": [
              "country\n",
              "Belgium           False\n",
              "France            False\n",
              "Germany            True\n",
              "Netherlands       False\n",
              "United Kingdom     True\n",
              "Name: capital, dtype: bool"
            ]
          },
          "metadata": {},
          "execution_count": 18
        }
      ]
    },
    {
      "cell_type": "markdown",
      "metadata": {
        "id": "c2olnN5jjC1j"
      },
      "source": [
        "Il metodo può essere anche usato per filtrare il dataframe secondo una condizione"
      ]
    },
    {
      "cell_type": "code",
      "metadata": {
        "colab": {
          "base_uri": "https://localhost:8080/",
          "height": 142
        },
        "id": "8SBcZ8-hjC1j",
        "outputId": "da44071e-5faa-4a59-a405-f284d431a7bb"
      },
      "source": [
        "countries[countries['capital'].isin(['Berlin', 'London'])]"
      ],
      "execution_count": null,
      "outputs": [
        {
          "output_type": "execute_result",
          "data": {
            "text/html": [
              "<div>\n",
              "<style scoped>\n",
              "    .dataframe tbody tr th:only-of-type {\n",
              "        vertical-align: middle;\n",
              "    }\n",
              "\n",
              "    .dataframe tbody tr th {\n",
              "        vertical-align: top;\n",
              "    }\n",
              "\n",
              "    .dataframe thead th {\n",
              "        text-align: right;\n",
              "    }\n",
              "</style>\n",
              "<table border=\"1\" class=\"dataframe\">\n",
              "  <thead>\n",
              "    <tr style=\"text-align: right;\">\n",
              "      <th></th>\n",
              "      <th>population</th>\n",
              "      <th>area</th>\n",
              "      <th>capital</th>\n",
              "    </tr>\n",
              "    <tr>\n",
              "      <th>country</th>\n",
              "      <th></th>\n",
              "      <th></th>\n",
              "      <th></th>\n",
              "    </tr>\n",
              "  </thead>\n",
              "  <tbody>\n",
              "    <tr>\n",
              "      <th>Germany</th>\n",
              "      <td>81.3</td>\n",
              "      <td>357050</td>\n",
              "      <td>Berlin</td>\n",
              "    </tr>\n",
              "    <tr>\n",
              "      <th>United Kingdom</th>\n",
              "      <td>64.9</td>\n",
              "      <td>244820</td>\n",
              "      <td>London</td>\n",
              "    </tr>\n",
              "  </tbody>\n",
              "</table>\n",
              "</div>"
            ],
            "text/plain": [
              "                population    area capital\n",
              "country                                   \n",
              "Germany               81.3  357050  Berlin\n",
              "United Kingdom        64.9  244820  London"
            ]
          },
          "metadata": {},
          "execution_count": 19
        }
      ]
    },
    {
      "cell_type": "markdown",
      "metadata": {
        "id": "X3rfq5O8jC1j"
      },
      "source": [
        "Suppponiamo che vogliamo selezionare tutti i dati delle capitali che iniziano con la 'B'. In Python esiste la funzione `startswith`:"
      ]
    },
    {
      "cell_type": "code",
      "metadata": {
        "colab": {
          "base_uri": "https://localhost:8080/"
        },
        "id": "cxKNtg6EjC1j",
        "outputId": "29b248d7-b881-405c-ff84-eedb3b57c43d"
      },
      "source": [
        "'Berlin'.startswith('B')"
      ],
      "execution_count": null,
      "outputs": [
        {
          "output_type": "execute_result",
          "data": {
            "text/plain": [
              "True"
            ]
          },
          "metadata": {},
          "execution_count": 20
        }
      ]
    },
    {
      "cell_type": "markdown",
      "metadata": {
        "id": "m_cSfAPojC1j"
      },
      "source": [
        "In Pandas possiamo appplicare la funzione a tutti i dati di una colonna, utlizzato però assieme a `str`:"
      ]
    },
    {
      "cell_type": "code",
      "metadata": {
        "colab": {
          "base_uri": "https://localhost:8080/"
        },
        "id": "KcRNdepkjC1j",
        "outputId": "d90598f4-3868-4869-b1c0-fc43db0331cc"
      },
      "source": [
        "countries['capital'].str.startswith('B')"
      ],
      "execution_count": null,
      "outputs": [
        {
          "output_type": "execute_result",
          "data": {
            "text/plain": [
              "country\n",
              "Belgium            True\n",
              "France            False\n",
              "Germany            True\n",
              "Netherlands       False\n",
              "United Kingdom    False\n",
              "Name: capital, dtype: bool"
            ]
          },
          "metadata": {},
          "execution_count": 21
        }
      ]
    },
    {
      "cell_type": "markdown",
      "metadata": {
        "id": "kiXWcBJejC1k"
      },
      "source": [
        "<div class=\"alert alert-success\">\n",
        "    <b>ESERCIZIO</b>: seleziona tutti i paesi che hanno nomi di capitali con più di 7 caratteri\n",
        "</div>"
      ]
    },
    {
      "cell_type": "code",
      "metadata": {
        "clear_cell": true,
        "id": "1V3cSzGDjC1k"
      },
      "source": [
        ""
      ],
      "execution_count": null,
      "outputs": []
    },
    {
      "cell_type": "markdown",
      "metadata": {
        "id": "ciSsS2xajC1k"
      },
      "source": [
        "<div class=\"alert alert-success\">\n",
        "    <b>ESERCIZIO</b>: seleziona tutti i paesi che hanno nomi di capitali che contengono la sequenza di caratteri \"am\"\n",
        "</div>"
      ]
    },
    {
      "cell_type": "code",
      "metadata": {
        "clear_cell": true,
        "id": "W3RIfTROjC1k"
      },
      "source": [
        ""
      ],
      "execution_count": null,
      "outputs": []
    },
    {
      "cell_type": "markdown",
      "metadata": {
        "id": "SkbPGK5-jC1k"
      },
      "source": [
        "## Pitfall: chained indexing (and the 'SettingWithCopyWarning')"
      ]
    },
    {
      "cell_type": "code",
      "metadata": {
        "collapsed": true,
        "id": "xGu8iBvQjC1l"
      },
      "source": [
        "countries.loc['Belgium', 'capital'] = 'Ghent' "
      ],
      "execution_count": null,
      "outputs": []
    },
    {
      "cell_type": "code",
      "metadata": {
        "colab": {
          "base_uri": "https://localhost:8080/",
          "height": 235
        },
        "id": "98yekj38jC1l",
        "outputId": "b662ae24-d844-4267-dc15-10bd89812312"
      },
      "source": [
        "countries"
      ],
      "execution_count": null,
      "outputs": [
        {
          "output_type": "execute_result",
          "data": {
            "text/html": [
              "<div>\n",
              "<style scoped>\n",
              "    .dataframe tbody tr th:only-of-type {\n",
              "        vertical-align: middle;\n",
              "    }\n",
              "\n",
              "    .dataframe tbody tr th {\n",
              "        vertical-align: top;\n",
              "    }\n",
              "\n",
              "    .dataframe thead th {\n",
              "        text-align: right;\n",
              "    }\n",
              "</style>\n",
              "<table border=\"1\" class=\"dataframe\">\n",
              "  <thead>\n",
              "    <tr style=\"text-align: right;\">\n",
              "      <th></th>\n",
              "      <th>population</th>\n",
              "      <th>area</th>\n",
              "      <th>capital</th>\n",
              "    </tr>\n",
              "    <tr>\n",
              "      <th>country</th>\n",
              "      <th></th>\n",
              "      <th></th>\n",
              "      <th></th>\n",
              "    </tr>\n",
              "  </thead>\n",
              "  <tbody>\n",
              "    <tr>\n",
              "      <th>Belgium</th>\n",
              "      <td>11.3</td>\n",
              "      <td>30510</td>\n",
              "      <td>Ghent</td>\n",
              "    </tr>\n",
              "    <tr>\n",
              "      <th>France</th>\n",
              "      <td>64.3</td>\n",
              "      <td>671308</td>\n",
              "      <td>Paris</td>\n",
              "    </tr>\n",
              "    <tr>\n",
              "      <th>Germany</th>\n",
              "      <td>81.3</td>\n",
              "      <td>357050</td>\n",
              "      <td>Berlin</td>\n",
              "    </tr>\n",
              "    <tr>\n",
              "      <th>Netherlands</th>\n",
              "      <td>16.9</td>\n",
              "      <td>41526</td>\n",
              "      <td>Amsterdam</td>\n",
              "    </tr>\n",
              "    <tr>\n",
              "      <th>United Kingdom</th>\n",
              "      <td>64.9</td>\n",
              "      <td>244820</td>\n",
              "      <td>London</td>\n",
              "    </tr>\n",
              "  </tbody>\n",
              "</table>\n",
              "</div>"
            ],
            "text/plain": [
              "                population    area    capital\n",
              "country                                      \n",
              "Belgium               11.3   30510      Ghent\n",
              "France                64.3  671308      Paris\n",
              "Germany               81.3  357050     Berlin\n",
              "Netherlands           16.9   41526  Amsterdam\n",
              "United Kingdom        64.9  244820     London"
            ]
          },
          "metadata": {},
          "execution_count": 23
        }
      ]
    },
    {
      "cell_type": "code",
      "metadata": {
        "colab": {
          "base_uri": "https://localhost:8080/"
        },
        "id": "hXxNz7scjC1l",
        "outputId": "a65b46cd-fa48-4ccb-d452-030c15b95aa9"
      },
      "source": [
        "countries['capital']['Belgium'] = 'Antwerp' "
      ],
      "execution_count": null,
      "outputs": [
        {
          "output_type": "stream",
          "name": "stderr",
          "text": [
            "/usr/local/lib/python3.7/dist-packages/ipykernel_launcher.py:1: SettingWithCopyWarning: \n",
            "A value is trying to be set on a copy of a slice from a DataFrame\n",
            "\n",
            "See the caveats in the documentation: https://pandas.pydata.org/pandas-docs/stable/user_guide/indexing.html#returning-a-view-versus-a-copy\n",
            "  \"\"\"Entry point for launching an IPython kernel.\n"
          ]
        }
      ]
    },
    {
      "cell_type": "code",
      "metadata": {
        "colab": {
          "base_uri": "https://localhost:8080/",
          "height": 235
        },
        "id": "mblukLQSjC1l",
        "outputId": "37980816-f1a1-4f80-ac84-e9af9b6662dd"
      },
      "source": [
        "countries"
      ],
      "execution_count": null,
      "outputs": [
        {
          "output_type": "execute_result",
          "data": {
            "text/html": [
              "<div>\n",
              "<style scoped>\n",
              "    .dataframe tbody tr th:only-of-type {\n",
              "        vertical-align: middle;\n",
              "    }\n",
              "\n",
              "    .dataframe tbody tr th {\n",
              "        vertical-align: top;\n",
              "    }\n",
              "\n",
              "    .dataframe thead th {\n",
              "        text-align: right;\n",
              "    }\n",
              "</style>\n",
              "<table border=\"1\" class=\"dataframe\">\n",
              "  <thead>\n",
              "    <tr style=\"text-align: right;\">\n",
              "      <th></th>\n",
              "      <th>population</th>\n",
              "      <th>area</th>\n",
              "      <th>capital</th>\n",
              "    </tr>\n",
              "    <tr>\n",
              "      <th>country</th>\n",
              "      <th></th>\n",
              "      <th></th>\n",
              "      <th></th>\n",
              "    </tr>\n",
              "  </thead>\n",
              "  <tbody>\n",
              "    <tr>\n",
              "      <th>Belgium</th>\n",
              "      <td>11.3</td>\n",
              "      <td>30510</td>\n",
              "      <td>Antwerp</td>\n",
              "    </tr>\n",
              "    <tr>\n",
              "      <th>France</th>\n",
              "      <td>64.3</td>\n",
              "      <td>671308</td>\n",
              "      <td>Paris</td>\n",
              "    </tr>\n",
              "    <tr>\n",
              "      <th>Germany</th>\n",
              "      <td>81.3</td>\n",
              "      <td>357050</td>\n",
              "      <td>Berlin</td>\n",
              "    </tr>\n",
              "    <tr>\n",
              "      <th>Netherlands</th>\n",
              "      <td>16.9</td>\n",
              "      <td>41526</td>\n",
              "      <td>Amsterdam</td>\n",
              "    </tr>\n",
              "    <tr>\n",
              "      <th>United Kingdom</th>\n",
              "      <td>64.9</td>\n",
              "      <td>244820</td>\n",
              "      <td>London</td>\n",
              "    </tr>\n",
              "  </tbody>\n",
              "</table>\n",
              "</div>"
            ],
            "text/plain": [
              "                population    area    capital\n",
              "country                                      \n",
              "Belgium               11.3   30510    Antwerp\n",
              "France                64.3  671308      Paris\n",
              "Germany               81.3  357050     Berlin\n",
              "Netherlands           16.9   41526  Amsterdam\n",
              "United Kingdom        64.9  244820     London"
            ]
          },
          "metadata": {},
          "execution_count": 25
        }
      ]
    },
    {
      "cell_type": "code",
      "metadata": {
        "colab": {
          "base_uri": "https://localhost:8080/"
        },
        "id": "3Xeh72gdjC1l",
        "outputId": "b66cc5e8-9b83-4461-bc52-e1c2355b4e33"
      },
      "source": [
        "countries[countries['capital'] == 'Antwerp']['capital'] = 'Brussels' "
      ],
      "execution_count": null,
      "outputs": [
        {
          "output_type": "stream",
          "name": "stderr",
          "text": [
            "/usr/local/lib/python3.7/dist-packages/ipykernel_launcher.py:1: SettingWithCopyWarning: \n",
            "A value is trying to be set on a copy of a slice from a DataFrame.\n",
            "Try using .loc[row_indexer,col_indexer] = value instead\n",
            "\n",
            "See the caveats in the documentation: https://pandas.pydata.org/pandas-docs/stable/user_guide/indexing.html#returning-a-view-versus-a-copy\n",
            "  \"\"\"Entry point for launching an IPython kernel.\n"
          ]
        }
      ]
    },
    {
      "cell_type": "code",
      "metadata": {
        "colab": {
          "base_uri": "https://localhost:8080/",
          "height": 235
        },
        "id": "EvsgbVJ4jC1l",
        "outputId": "0bfc06ec-10fb-4a4c-c6d3-9d91047a69d8"
      },
      "source": [
        "countries"
      ],
      "execution_count": null,
      "outputs": [
        {
          "output_type": "execute_result",
          "data": {
            "text/html": [
              "<div>\n",
              "<style scoped>\n",
              "    .dataframe tbody tr th:only-of-type {\n",
              "        vertical-align: middle;\n",
              "    }\n",
              "\n",
              "    .dataframe tbody tr th {\n",
              "        vertical-align: top;\n",
              "    }\n",
              "\n",
              "    .dataframe thead th {\n",
              "        text-align: right;\n",
              "    }\n",
              "</style>\n",
              "<table border=\"1\" class=\"dataframe\">\n",
              "  <thead>\n",
              "    <tr style=\"text-align: right;\">\n",
              "      <th></th>\n",
              "      <th>population</th>\n",
              "      <th>area</th>\n",
              "      <th>capital</th>\n",
              "    </tr>\n",
              "    <tr>\n",
              "      <th>country</th>\n",
              "      <th></th>\n",
              "      <th></th>\n",
              "      <th></th>\n",
              "    </tr>\n",
              "  </thead>\n",
              "  <tbody>\n",
              "    <tr>\n",
              "      <th>Belgium</th>\n",
              "      <td>11.3</td>\n",
              "      <td>30510</td>\n",
              "      <td>Antwerp</td>\n",
              "    </tr>\n",
              "    <tr>\n",
              "      <th>France</th>\n",
              "      <td>64.3</td>\n",
              "      <td>671308</td>\n",
              "      <td>Paris</td>\n",
              "    </tr>\n",
              "    <tr>\n",
              "      <th>Germany</th>\n",
              "      <td>81.3</td>\n",
              "      <td>357050</td>\n",
              "      <td>Berlin</td>\n",
              "    </tr>\n",
              "    <tr>\n",
              "      <th>Netherlands</th>\n",
              "      <td>16.9</td>\n",
              "      <td>41526</td>\n",
              "      <td>Amsterdam</td>\n",
              "    </tr>\n",
              "    <tr>\n",
              "      <th>United Kingdom</th>\n",
              "      <td>64.9</td>\n",
              "      <td>244820</td>\n",
              "      <td>London</td>\n",
              "    </tr>\n",
              "  </tbody>\n",
              "</table>\n",
              "</div>"
            ],
            "text/plain": [
              "                population    area    capital\n",
              "country                                      \n",
              "Belgium               11.3   30510    Antwerp\n",
              "France                64.3  671308      Paris\n",
              "Germany               81.3  357050     Berlin\n",
              "Netherlands           16.9   41526  Amsterdam\n",
              "United Kingdom        64.9  244820     London"
            ]
          },
          "metadata": {},
          "execution_count": 27
        }
      ]
    },
    {
      "cell_type": "markdown",
      "metadata": {
        "id": "2wEtRzkNjC1l"
      },
      "source": [
        "How to avoid this?\n",
        "\n",
        "* Use `loc` instead of chained indexing if possible!\n",
        "* Or `copy` explicitly if you don't want to change the original data."
      ]
    },
    {
      "cell_type": "markdown",
      "metadata": {
        "collapsed": true,
        "id": "VTqnniZFjC1m"
      },
      "source": [
        "## More exercises!"
      ]
    },
    {
      "cell_type": "markdown",
      "metadata": {
        "id": "eHtqOxjYjC1m"
      },
      "source": [
        "For the quick ones among you, here are some more exercises with some larger dataframe with film data. These exercises are based on the [PyCon tutorial of Brandon Rhodes](https://github.com/brandon-rhodes/pycon-pandas-tutorial/) (so all credit to him!) and the datasets he prepared for that. You can download these data from here: [`titles.csv`](https://drive.google.com/open?id=0B3G70MlBnCgKajNMa1pfSzN6Q3M) and [`cast.csv`](https://drive.google.com/open?id=0B3G70MlBnCgKal9UYTJSR2ZhSW8) and put them in the `/data` folder."
      ]
    },
    {
      "cell_type": "code",
      "metadata": {
        "id": "uupaFQSqjC1m",
        "colab": {
          "base_uri": "https://localhost:8080/",
          "height": 391
        },
        "outputId": "8878c12c-575e-4340-f5b1-3b1afe779599"
      },
      "source": [
        "cast = pd.read_csv('data/cast.csv')\n",
        "cast.head()"
      ],
      "execution_count": null,
      "outputs": [
        {
          "output_type": "error",
          "ename": "FileNotFoundError",
          "evalue": "ignored",
          "traceback": [
            "\u001b[0;31m---------------------------------------------------------------------------\u001b[0m",
            "\u001b[0;31mFileNotFoundError\u001b[0m                         Traceback (most recent call last)",
            "\u001b[0;32m<ipython-input-28-ec2b53916f65>\u001b[0m in \u001b[0;36m<module>\u001b[0;34m()\u001b[0m\n\u001b[0;32m----> 1\u001b[0;31m \u001b[0mcast\u001b[0m \u001b[0;34m=\u001b[0m \u001b[0mpd\u001b[0m\u001b[0;34m.\u001b[0m\u001b[0mread_csv\u001b[0m\u001b[0;34m(\u001b[0m\u001b[0;34m'data/cast.csv'\u001b[0m\u001b[0;34m)\u001b[0m\u001b[0;34m\u001b[0m\u001b[0;34m\u001b[0m\u001b[0m\n\u001b[0m\u001b[1;32m      2\u001b[0m \u001b[0mcast\u001b[0m\u001b[0;34m.\u001b[0m\u001b[0mhead\u001b[0m\u001b[0;34m(\u001b[0m\u001b[0;34m)\u001b[0m\u001b[0;34m\u001b[0m\u001b[0;34m\u001b[0m\u001b[0m\n",
            "\u001b[0;32m/usr/local/lib/python3.7/dist-packages/pandas/io/parsers.py\u001b[0m in \u001b[0;36mread_csv\u001b[0;34m(filepath_or_buffer, sep, delimiter, header, names, index_col, usecols, squeeze, prefix, mangle_dupe_cols, dtype, engine, converters, true_values, false_values, skipinitialspace, skiprows, skipfooter, nrows, na_values, keep_default_na, na_filter, verbose, skip_blank_lines, parse_dates, infer_datetime_format, keep_date_col, date_parser, dayfirst, cache_dates, iterator, chunksize, compression, thousands, decimal, lineterminator, quotechar, quoting, doublequote, escapechar, comment, encoding, dialect, error_bad_lines, warn_bad_lines, delim_whitespace, low_memory, memory_map, float_precision)\u001b[0m\n\u001b[1;32m    686\u001b[0m     )\n\u001b[1;32m    687\u001b[0m \u001b[0;34m\u001b[0m\u001b[0m\n\u001b[0;32m--> 688\u001b[0;31m     \u001b[0;32mreturn\u001b[0m \u001b[0m_read\u001b[0m\u001b[0;34m(\u001b[0m\u001b[0mfilepath_or_buffer\u001b[0m\u001b[0;34m,\u001b[0m \u001b[0mkwds\u001b[0m\u001b[0;34m)\u001b[0m\u001b[0;34m\u001b[0m\u001b[0;34m\u001b[0m\u001b[0m\n\u001b[0m\u001b[1;32m    689\u001b[0m \u001b[0;34m\u001b[0m\u001b[0m\n\u001b[1;32m    690\u001b[0m \u001b[0;34m\u001b[0m\u001b[0m\n",
            "\u001b[0;32m/usr/local/lib/python3.7/dist-packages/pandas/io/parsers.py\u001b[0m in \u001b[0;36m_read\u001b[0;34m(filepath_or_buffer, kwds)\u001b[0m\n\u001b[1;32m    452\u001b[0m \u001b[0;34m\u001b[0m\u001b[0m\n\u001b[1;32m    453\u001b[0m     \u001b[0;31m# Create the parser.\u001b[0m\u001b[0;34m\u001b[0m\u001b[0;34m\u001b[0m\u001b[0;34m\u001b[0m\u001b[0m\n\u001b[0;32m--> 454\u001b[0;31m     \u001b[0mparser\u001b[0m \u001b[0;34m=\u001b[0m \u001b[0mTextFileReader\u001b[0m\u001b[0;34m(\u001b[0m\u001b[0mfp_or_buf\u001b[0m\u001b[0;34m,\u001b[0m \u001b[0;34m**\u001b[0m\u001b[0mkwds\u001b[0m\u001b[0;34m)\u001b[0m\u001b[0;34m\u001b[0m\u001b[0;34m\u001b[0m\u001b[0m\n\u001b[0m\u001b[1;32m    455\u001b[0m \u001b[0;34m\u001b[0m\u001b[0m\n\u001b[1;32m    456\u001b[0m     \u001b[0;32mif\u001b[0m \u001b[0mchunksize\u001b[0m \u001b[0;32mor\u001b[0m \u001b[0miterator\u001b[0m\u001b[0;34m:\u001b[0m\u001b[0;34m\u001b[0m\u001b[0;34m\u001b[0m\u001b[0m\n",
            "\u001b[0;32m/usr/local/lib/python3.7/dist-packages/pandas/io/parsers.py\u001b[0m in \u001b[0;36m__init__\u001b[0;34m(self, f, engine, **kwds)\u001b[0m\n\u001b[1;32m    946\u001b[0m             \u001b[0mself\u001b[0m\u001b[0;34m.\u001b[0m\u001b[0moptions\u001b[0m\u001b[0;34m[\u001b[0m\u001b[0;34m\"has_index_names\"\u001b[0m\u001b[0;34m]\u001b[0m \u001b[0;34m=\u001b[0m \u001b[0mkwds\u001b[0m\u001b[0;34m[\u001b[0m\u001b[0;34m\"has_index_names\"\u001b[0m\u001b[0;34m]\u001b[0m\u001b[0;34m\u001b[0m\u001b[0;34m\u001b[0m\u001b[0m\n\u001b[1;32m    947\u001b[0m \u001b[0;34m\u001b[0m\u001b[0m\n\u001b[0;32m--> 948\u001b[0;31m         \u001b[0mself\u001b[0m\u001b[0;34m.\u001b[0m\u001b[0m_make_engine\u001b[0m\u001b[0;34m(\u001b[0m\u001b[0mself\u001b[0m\u001b[0;34m.\u001b[0m\u001b[0mengine\u001b[0m\u001b[0;34m)\u001b[0m\u001b[0;34m\u001b[0m\u001b[0;34m\u001b[0m\u001b[0m\n\u001b[0m\u001b[1;32m    949\u001b[0m \u001b[0;34m\u001b[0m\u001b[0m\n\u001b[1;32m    950\u001b[0m     \u001b[0;32mdef\u001b[0m \u001b[0mclose\u001b[0m\u001b[0;34m(\u001b[0m\u001b[0mself\u001b[0m\u001b[0;34m)\u001b[0m\u001b[0;34m:\u001b[0m\u001b[0;34m\u001b[0m\u001b[0;34m\u001b[0m\u001b[0m\n",
            "\u001b[0;32m/usr/local/lib/python3.7/dist-packages/pandas/io/parsers.py\u001b[0m in \u001b[0;36m_make_engine\u001b[0;34m(self, engine)\u001b[0m\n\u001b[1;32m   1178\u001b[0m     \u001b[0;32mdef\u001b[0m \u001b[0m_make_engine\u001b[0m\u001b[0;34m(\u001b[0m\u001b[0mself\u001b[0m\u001b[0;34m,\u001b[0m \u001b[0mengine\u001b[0m\u001b[0;34m=\u001b[0m\u001b[0;34m\"c\"\u001b[0m\u001b[0;34m)\u001b[0m\u001b[0;34m:\u001b[0m\u001b[0;34m\u001b[0m\u001b[0;34m\u001b[0m\u001b[0m\n\u001b[1;32m   1179\u001b[0m         \u001b[0;32mif\u001b[0m \u001b[0mengine\u001b[0m \u001b[0;34m==\u001b[0m \u001b[0;34m\"c\"\u001b[0m\u001b[0;34m:\u001b[0m\u001b[0;34m\u001b[0m\u001b[0;34m\u001b[0m\u001b[0m\n\u001b[0;32m-> 1180\u001b[0;31m             \u001b[0mself\u001b[0m\u001b[0;34m.\u001b[0m\u001b[0m_engine\u001b[0m \u001b[0;34m=\u001b[0m \u001b[0mCParserWrapper\u001b[0m\u001b[0;34m(\u001b[0m\u001b[0mself\u001b[0m\u001b[0;34m.\u001b[0m\u001b[0mf\u001b[0m\u001b[0;34m,\u001b[0m \u001b[0;34m**\u001b[0m\u001b[0mself\u001b[0m\u001b[0;34m.\u001b[0m\u001b[0moptions\u001b[0m\u001b[0;34m)\u001b[0m\u001b[0;34m\u001b[0m\u001b[0;34m\u001b[0m\u001b[0m\n\u001b[0m\u001b[1;32m   1181\u001b[0m         \u001b[0;32melse\u001b[0m\u001b[0;34m:\u001b[0m\u001b[0;34m\u001b[0m\u001b[0;34m\u001b[0m\u001b[0m\n\u001b[1;32m   1182\u001b[0m             \u001b[0;32mif\u001b[0m \u001b[0mengine\u001b[0m \u001b[0;34m==\u001b[0m \u001b[0;34m\"python\"\u001b[0m\u001b[0;34m:\u001b[0m\u001b[0;34m\u001b[0m\u001b[0;34m\u001b[0m\u001b[0m\n",
            "\u001b[0;32m/usr/local/lib/python3.7/dist-packages/pandas/io/parsers.py\u001b[0m in \u001b[0;36m__init__\u001b[0;34m(self, src, **kwds)\u001b[0m\n\u001b[1;32m   2008\u001b[0m         \u001b[0mkwds\u001b[0m\u001b[0;34m[\u001b[0m\u001b[0;34m\"usecols\"\u001b[0m\u001b[0;34m]\u001b[0m \u001b[0;34m=\u001b[0m \u001b[0mself\u001b[0m\u001b[0;34m.\u001b[0m\u001b[0musecols\u001b[0m\u001b[0;34m\u001b[0m\u001b[0;34m\u001b[0m\u001b[0m\n\u001b[1;32m   2009\u001b[0m \u001b[0;34m\u001b[0m\u001b[0m\n\u001b[0;32m-> 2010\u001b[0;31m         \u001b[0mself\u001b[0m\u001b[0;34m.\u001b[0m\u001b[0m_reader\u001b[0m \u001b[0;34m=\u001b[0m \u001b[0mparsers\u001b[0m\u001b[0;34m.\u001b[0m\u001b[0mTextReader\u001b[0m\u001b[0;34m(\u001b[0m\u001b[0msrc\u001b[0m\u001b[0;34m,\u001b[0m \u001b[0;34m**\u001b[0m\u001b[0mkwds\u001b[0m\u001b[0;34m)\u001b[0m\u001b[0;34m\u001b[0m\u001b[0;34m\u001b[0m\u001b[0m\n\u001b[0m\u001b[1;32m   2011\u001b[0m         \u001b[0mself\u001b[0m\u001b[0;34m.\u001b[0m\u001b[0munnamed_cols\u001b[0m \u001b[0;34m=\u001b[0m \u001b[0mself\u001b[0m\u001b[0;34m.\u001b[0m\u001b[0m_reader\u001b[0m\u001b[0;34m.\u001b[0m\u001b[0munnamed_cols\u001b[0m\u001b[0;34m\u001b[0m\u001b[0;34m\u001b[0m\u001b[0m\n\u001b[1;32m   2012\u001b[0m \u001b[0;34m\u001b[0m\u001b[0m\n",
            "\u001b[0;32mpandas/_libs/parsers.pyx\u001b[0m in \u001b[0;36mpandas._libs.parsers.TextReader.__cinit__\u001b[0;34m()\u001b[0m\n",
            "\u001b[0;32mpandas/_libs/parsers.pyx\u001b[0m in \u001b[0;36mpandas._libs.parsers.TextReader._setup_parser_source\u001b[0;34m()\u001b[0m\n",
            "\u001b[0;31mFileNotFoundError\u001b[0m: [Errno 2] No such file or directory: 'data/cast.csv'"
          ]
        }
      ]
    },
    {
      "cell_type": "code",
      "metadata": {
        "id": "QPicAvfJjC1m"
      },
      "source": [
        "titles = pd.read_csv('data/titles.csv')\n",
        "titles.head()"
      ],
      "execution_count": null,
      "outputs": []
    },
    {
      "cell_type": "markdown",
      "metadata": {
        "id": "YyjRLvkYjC1n"
      },
      "source": [
        "<div class=\"alert alert-success\">\n",
        "    <b>EXERCISE</b>: How many movies are listed in the titles dataframe?\n",
        "</div>"
      ]
    },
    {
      "cell_type": "code",
      "metadata": {
        "clear_cell": true,
        "id": "my384niejC1n"
      },
      "source": [
        ""
      ],
      "execution_count": null,
      "outputs": []
    },
    {
      "cell_type": "markdown",
      "metadata": {
        "id": "gybosT01jC1n"
      },
      "source": [
        "<div class=\"alert alert-success\">\n",
        "    <b>EXERCISE</b>: What are the earliest two films listed in the titles dataframe?\n",
        "</div>"
      ]
    },
    {
      "cell_type": "code",
      "metadata": {
        "clear_cell": true,
        "id": "U-nDZrCRjC1n"
      },
      "source": [
        ""
      ],
      "execution_count": null,
      "outputs": []
    },
    {
      "cell_type": "markdown",
      "metadata": {
        "id": "-LnVbGLMjC1n"
      },
      "source": [
        "<div class=\"alert alert-success\">\n",
        "    <b>EXERCISE</b>: How many movies have the title \"Hamlet\"?\n",
        "</div>"
      ]
    },
    {
      "cell_type": "code",
      "metadata": {
        "clear_cell": true,
        "id": "Noc-xftfjC1n"
      },
      "source": [
        ""
      ],
      "execution_count": null,
      "outputs": []
    },
    {
      "cell_type": "markdown",
      "metadata": {
        "id": "WsSN00eXjC1o"
      },
      "source": [
        "<div class=\"alert alert-success\">\n",
        "    <b>EXERCISE</b>: List all of the \"Treasure Island\" movies from earliest to most recent.\n",
        "</div>"
      ]
    },
    {
      "cell_type": "code",
      "metadata": {
        "clear_cell": true,
        "id": "-DDHi9B2jC1o"
      },
      "source": [
        ""
      ],
      "execution_count": null,
      "outputs": []
    },
    {
      "cell_type": "markdown",
      "metadata": {
        "id": "wA5y_9u5jC1o"
      },
      "source": [
        "<div class=\"alert alert-success\">\n",
        "    <b>EXERCISE</b>: How many movies were made from 1950 through 1959?\n",
        "</div>"
      ]
    },
    {
      "cell_type": "code",
      "metadata": {
        "clear_cell": true,
        "id": "MF1ziksrjC1o"
      },
      "source": [
        ""
      ],
      "execution_count": null,
      "outputs": []
    },
    {
      "cell_type": "code",
      "metadata": {
        "clear_cell": true,
        "id": "nwit4yAajC1o"
      },
      "source": [
        ""
      ],
      "execution_count": null,
      "outputs": []
    },
    {
      "cell_type": "markdown",
      "metadata": {
        "id": "8VmB882JjC1o"
      },
      "source": [
        "<div class=\"alert alert-success\">\n",
        "    <b>EXERCISE</b>: How many roles in the movie \"Inception\" are NOT ranked by an \"n\" value?\n",
        "</div>"
      ]
    },
    {
      "cell_type": "code",
      "metadata": {
        "clear_cell": true,
        "id": "Pb-jUBpTjC1p"
      },
      "source": [
        ""
      ],
      "execution_count": null,
      "outputs": []
    },
    {
      "cell_type": "markdown",
      "metadata": {
        "id": "PkWgJEhtjC1p"
      },
      "source": [
        "<div class=\"alert alert-success\">\n",
        "    <b>EXERCISE</b>: But how many roles in the movie \"Inception\" did receive an \"n\" value?\n",
        "</div>"
      ]
    },
    {
      "cell_type": "code",
      "metadata": {
        "clear_cell": true,
        "id": "7enwp7B0jC1p"
      },
      "source": [
        ""
      ],
      "execution_count": null,
      "outputs": []
    },
    {
      "cell_type": "markdown",
      "metadata": {
        "id": "YLd7W0CujC1p"
      },
      "source": [
        "<div class=\"alert alert-success\">\n",
        "    <b>EXERCISE</b>: Display the cast of \"North by Northwest\" in their correct \"n\"-value order, ignoring roles that did not earn a numeric \"n\" value.\n",
        "</div>"
      ]
    },
    {
      "cell_type": "code",
      "metadata": {
        "clear_cell": true,
        "id": "kxbnFp3EjC1p"
      },
      "source": [
        ""
      ],
      "execution_count": null,
      "outputs": []
    },
    {
      "cell_type": "markdown",
      "metadata": {
        "id": "Scv4brJyjC1p"
      },
      "source": [
        "<div class=\"alert alert-success\">\n",
        "    <b>EXERCISE</b>: How many roles were credited in the silent 1921 version of Hamlet?\n",
        "</div>"
      ]
    },
    {
      "cell_type": "code",
      "metadata": {
        "clear_cell": true,
        "id": "9NVBi-46jC1q"
      },
      "source": [
        ""
      ],
      "execution_count": null,
      "outputs": []
    },
    {
      "cell_type": "markdown",
      "metadata": {
        "id": "mo9VGW8-jC1q"
      },
      "source": [
        "<div class=\"alert alert-success\">\n",
        "    <b>EXERCISE</b>: List the supporting roles (having n=2) played by Cary Grant in the 1940s, in order by year.\n",
        "</div>"
      ]
    },
    {
      "cell_type": "code",
      "metadata": {
        "clear_cell": true,
        "id": "tEecj0OJjC1q"
      },
      "source": [
        ""
      ],
      "execution_count": null,
      "outputs": []
    },
    {
      "cell_type": "code",
      "metadata": {
        "collapsed": true,
        "id": "ygg3pF3LjC1q"
      },
      "source": [
        ""
      ],
      "execution_count": null,
      "outputs": []
    }
  ]
}