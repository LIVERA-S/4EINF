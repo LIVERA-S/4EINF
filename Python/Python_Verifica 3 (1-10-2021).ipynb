{
  "nbformat": 4,
  "nbformat_minor": 0,
  "metadata": {
    "colab": {
      "name": "Verifica 3 (1/10/2021).ipynb",
      "provenance": [],
      "collapsed_sections": [],
      "authorship_tag": "ABX9TyM117ptSznjMF7wr0ZhZD8L",
      "include_colab_link": true
    },
    "kernelspec": {
      "name": "python3",
      "display_name": "Python 3"
    },
    "language_info": {
      "name": "python"
    }
  },
  "cells": [
    {
      "cell_type": "markdown",
      "metadata": {
        "id": "view-in-github",
        "colab_type": "text"
      },
      "source": [
        "<a href=\"https://colab.research.google.com/github/LIVERA-S/21-22_INFORMATICA_LIVERA-4EINF/blob/main/Python_Verifica%203%20(1-10-2021).ipynb\" target=\"_parent\"><img src=\"https://colab.research.google.com/assets/colab-badge.svg\" alt=\"Open In Colab\"/></a>"
      ]
    },
    {
      "cell_type": "markdown",
      "metadata": {
        "id": "BTSnZ1YcvzXg"
      },
      "source": [
        "**10. Scrivere un programma che permetta all'utente di inserire le coordinate di due punti del piano cartesiano e di calcolare la distanza tra i due punti.**"
      ]
    },
    {
      "cell_type": "code",
      "metadata": {
        "colab": {
          "base_uri": "https://localhost:8080/"
        },
        "id": "1QnZj29k2v0U",
        "outputId": "d1bb17a4-4c06-4d6e-a2f6-1086665c6580"
      },
      "source": [
        "import math\n",
        "x1, y1 = int(input(\"Inserire la prima x: \")), int(input(\"Inserire la prima y: \"))\n",
        "x2, y2 = int(input(\"Inserire la seconda x: \")), int(input(\"Inserire la seconda y: \"))\n",
        "print(math.sqrt((x2-x1)**2 + (y2-y1)**2))"
      ],
      "execution_count": null,
      "outputs": [
        {
          "output_type": "stream",
          "name": "stdout",
          "text": [
            "Inserire la prima x: 5\n",
            "Inserire la prima y: 4\n",
            "Inserire la seconda x: 3\n",
            "Inserire la seconda y: 2\n",
            "2.8284271247461903\n"
          ]
        }
      ]
    },
    {
      "cell_type": "markdown",
      "metadata": {
        "id": "WZbohgkywyYw"
      },
      "source": [
        "**11. Scrivere un programma che date le lunghezze di tre lati, dica se è possibile costruire un triangolo con i lati di quella lunghezza.**"
      ]
    },
    {
      "cell_type": "code",
      "metadata": {
        "id": "TTjth9uq3P5w"
      },
      "source": [
        "x, y, z = int(input(\"Inserire il primo lato: \")), int(input(\"Inserire il secondo lato: \")), int(input(\"Inserire il terzo lato: \"))\n",
        "if x+y > z and x+z > y and z+y > x:\n",
        "  print(\"Sì, è un triangolo.\")\n",
        "else:\n",
        "  print(\"No, non è un triangolo.\")"
      ],
      "execution_count": null,
      "outputs": []
    },
    {
      "cell_type": "markdown",
      "metadata": {
        "id": "QfsV3YG0xa84"
      },
      "source": [
        "**12. Scrivere un programma che permetta all'utente di inserire una lista di numeri interi ed un valore e che carichi in un'altra lista gli elementi fino a che non incontra quel valore nella lista. Se il valore non è presente,deve caricare tutta la lista.**"
      ]
    },
    {
      "cell_type": "code",
      "metadata": {
        "colab": {
          "base_uri": "https://localhost:8080/"
        },
        "id": "Nzoa7CTB3Wr2",
        "outputId": "1edf0099-d583-458d-beeb-3310feff27ff"
      },
      "source": [
        "lst = [int(n) for n in input(\"Inserire i numeri: \").split()]\n",
        "val = int(input(\"Inserire un valore: \"))\n",
        "i = 0\n",
        "lst1 = []\n",
        "while val != lst[i] and i < len(lst):\n",
        "  lst1.append(lst[i])\n",
        "  i += 1\n",
        "print(lst)\n",
        "print(lst1)"
      ],
      "execution_count": null,
      "outputs": [
        {
          "output_type": "stream",
          "name": "stdout",
          "text": [
            "Inserire i numeri: 47 85 94 93 04 9\n",
            "Inserire un valore: 93\n",
            "[47, 85, 94, 93, 4, 9]\n",
            "[47, 85, 94]\n"
          ]
        }
      ]
    },
    {
      "cell_type": "markdown",
      "metadata": {
        "id": "XkQj9lHAy5ap"
      },
      "source": [
        "**13. Scrivere un programma che permetta all'utente di inserire una lista di numeri interi e dica se la lista contiene numeri duplicati o no.**"
      ]
    },
    {
      "cell_type": "code",
      "metadata": {
        "colab": {
          "base_uri": "https://localhost:8080/"
        },
        "id": "waKxETNh3YE-",
        "outputId": "06519ce4-c4d8-4611-df48-f41f10937412"
      },
      "source": [
        "lst = [int(n) for n in input(\"Inserire i numeri: \").split()]\n",
        "if len(lst) == len(set(lst)):\n",
        "  print(\"La lista non contiene duplicati.\")\n",
        "else:\n",
        "  print(\"La lista contiene duplicati.\")"
      ],
      "execution_count": null,
      "outputs": [
        {
          "output_type": "stream",
          "name": "stdout",
          "text": [
            "Inserire i numeri: 1 2 3 4 5 6 7 8 9 \n",
            "La lista non contiene duplicati.\n"
          ]
        }
      ]
    },
    {
      "cell_type": "markdown",
      "metadata": {
        "id": "r85GZEsu0iPx"
      },
      "source": [
        "**14. Scrivere un programma che permetta all'utente di suddividere una lista in due parti. L'utente inserisce la lista e la posizione in cui vuole che avvenga la suddivisione. Al termine, visualizzare le due liste**"
      ]
    },
    {
      "cell_type": "code",
      "metadata": {
        "id": "pGyfjBxm4Cpd"
      },
      "source": [
        "lst = [(n) for n in input(\"Inserire i valori: \").split()]\n",
        "sudd = int(input(\"Dove deve avvenire la suddivisione? \"))\n",
        "lst2 = lst[:sudd]\n",
        "print(lst)\n",
        "print(lst2)"
      ],
      "execution_count": null,
      "outputs": []
    },
    {
      "cell_type": "markdown",
      "metadata": {
        "id": "ts8f-LIq4DYU"
      },
      "source": [
        "**15.Scrivere un programma che permetta di stabilire se una lista è contenuta in un'altra. Il programma deve visualizzare True se la prima lista contiene la seconda, False altrimenti.**"
      ]
    },
    {
      "cell_type": "code",
      "metadata": {
        "id": "Ph7h6U0O4GaE"
      },
      "source": [
        "lst = [int(n) for n in input(\"Inserire i numeri nella prima lista: \").split()]\n",
        "lst2 = [int(n) for n in input(\"Inserire i numeri nella seconda lista: \").split()]\n",
        "set_lst = set(lst)\n",
        "set_lst2 = set(lst2)\n",
        "output = False if (set_lst.intersection(set_lst2) == set()) else True # intersection() returns a set that contains the items that exist in both set_lst and set_lst2\n",
        "print(output)"
      ],
      "execution_count": null,
      "outputs": []
    },
    {
      "cell_type": "markdown",
      "metadata": {
        "id": "BZt4eaSk4HxO"
      },
      "source": [
        "**16. Scrivere un programma che carichi in un dizionario la tabellina (da 1 a 10) di un numero inserito dall'utente. Al termine, visualizzare il dizionario.**"
      ]
    },
    {
      "cell_type": "code",
      "metadata": {
        "colab": {
          "base_uri": "https://localhost:8080/",
          "height": 536
        },
        "id": "XnD8Ho7l4LEJ",
        "outputId": "5cb00cea-066f-42e9-b37d-16e01eb62ad7"
      },
      "source": [
        "num = int(input(\"Numero: \"))\n",
        "\n",
        "tabellina = {}\n",
        "for i in range(1, 11):\n",
        "    tabellina[str(num) + \" x \" + str(i)] = num*i\n",
        "\n",
        "print(tabellina)"
      ],
      "execution_count": null,
      "outputs": [
        {
          "output_type": "error",
          "ename": "KeyboardInterrupt",
          "evalue": "ignored",
          "traceback": [
            "\u001b[0;31m---------------------------------------------------------------------------\u001b[0m",
            "\u001b[0;31mKeyboardInterrupt\u001b[0m                         Traceback (most recent call last)",
            "\u001b[0;32m/usr/local/lib/python3.7/dist-packages/ipykernel/kernelbase.py\u001b[0m in \u001b[0;36m_input_request\u001b[0;34m(self, prompt, ident, parent, password)\u001b[0m\n\u001b[1;32m    728\u001b[0m             \u001b[0;32mtry\u001b[0m\u001b[0;34m:\u001b[0m\u001b[0;34m\u001b[0m\u001b[0;34m\u001b[0m\u001b[0m\n\u001b[0;32m--> 729\u001b[0;31m                 \u001b[0mident\u001b[0m\u001b[0;34m,\u001b[0m \u001b[0mreply\u001b[0m \u001b[0;34m=\u001b[0m \u001b[0mself\u001b[0m\u001b[0;34m.\u001b[0m\u001b[0msession\u001b[0m\u001b[0;34m.\u001b[0m\u001b[0mrecv\u001b[0m\u001b[0;34m(\u001b[0m\u001b[0mself\u001b[0m\u001b[0;34m.\u001b[0m\u001b[0mstdin_socket\u001b[0m\u001b[0;34m,\u001b[0m \u001b[0;36m0\u001b[0m\u001b[0;34m)\u001b[0m\u001b[0;34m\u001b[0m\u001b[0;34m\u001b[0m\u001b[0m\n\u001b[0m\u001b[1;32m    730\u001b[0m             \u001b[0;32mexcept\u001b[0m \u001b[0mException\u001b[0m\u001b[0;34m:\u001b[0m\u001b[0;34m\u001b[0m\u001b[0;34m\u001b[0m\u001b[0m\n",
            "\u001b[0;32m/usr/local/lib/python3.7/dist-packages/jupyter_client/session.py\u001b[0m in \u001b[0;36mrecv\u001b[0;34m(self, socket, mode, content, copy)\u001b[0m\n\u001b[1;32m    802\u001b[0m         \u001b[0;32mtry\u001b[0m\u001b[0;34m:\u001b[0m\u001b[0;34m\u001b[0m\u001b[0;34m\u001b[0m\u001b[0m\n\u001b[0;32m--> 803\u001b[0;31m             \u001b[0mmsg_list\u001b[0m \u001b[0;34m=\u001b[0m \u001b[0msocket\u001b[0m\u001b[0;34m.\u001b[0m\u001b[0mrecv_multipart\u001b[0m\u001b[0;34m(\u001b[0m\u001b[0mmode\u001b[0m\u001b[0;34m,\u001b[0m \u001b[0mcopy\u001b[0m\u001b[0;34m=\u001b[0m\u001b[0mcopy\u001b[0m\u001b[0;34m)\u001b[0m\u001b[0;34m\u001b[0m\u001b[0;34m\u001b[0m\u001b[0m\n\u001b[0m\u001b[1;32m    804\u001b[0m         \u001b[0;32mexcept\u001b[0m \u001b[0mzmq\u001b[0m\u001b[0;34m.\u001b[0m\u001b[0mZMQError\u001b[0m \u001b[0;32mas\u001b[0m \u001b[0me\u001b[0m\u001b[0;34m:\u001b[0m\u001b[0;34m\u001b[0m\u001b[0;34m\u001b[0m\u001b[0m\n",
            "\u001b[0;32m/usr/local/lib/python3.7/dist-packages/zmq/sugar/socket.py\u001b[0m in \u001b[0;36mrecv_multipart\u001b[0;34m(self, flags, copy, track)\u001b[0m\n\u001b[1;32m    624\u001b[0m         \"\"\"\n\u001b[0;32m--> 625\u001b[0;31m         \u001b[0mparts\u001b[0m \u001b[0;34m=\u001b[0m \u001b[0;34m[\u001b[0m\u001b[0mself\u001b[0m\u001b[0;34m.\u001b[0m\u001b[0mrecv\u001b[0m\u001b[0;34m(\u001b[0m\u001b[0mflags\u001b[0m\u001b[0;34m,\u001b[0m \u001b[0mcopy\u001b[0m\u001b[0;34m=\u001b[0m\u001b[0mcopy\u001b[0m\u001b[0;34m,\u001b[0m \u001b[0mtrack\u001b[0m\u001b[0;34m=\u001b[0m\u001b[0mtrack\u001b[0m\u001b[0;34m)\u001b[0m\u001b[0;34m]\u001b[0m\u001b[0;34m\u001b[0m\u001b[0;34m\u001b[0m\u001b[0m\n\u001b[0m\u001b[1;32m    626\u001b[0m         \u001b[0;31m# have first part already, only loop while more to receive\u001b[0m\u001b[0;34m\u001b[0m\u001b[0;34m\u001b[0m\u001b[0;34m\u001b[0m\u001b[0m\n",
            "\u001b[0;32mzmq/backend/cython/socket.pyx\u001b[0m in \u001b[0;36mzmq.backend.cython.socket.Socket.recv\u001b[0;34m()\u001b[0m\n",
            "\u001b[0;32mzmq/backend/cython/socket.pyx\u001b[0m in \u001b[0;36mzmq.backend.cython.socket.Socket.recv\u001b[0;34m()\u001b[0m\n",
            "\u001b[0;32mzmq/backend/cython/socket.pyx\u001b[0m in \u001b[0;36mzmq.backend.cython.socket._recv_copy\u001b[0;34m()\u001b[0m\n",
            "\u001b[0;32m/usr/local/lib/python3.7/dist-packages/zmq/backend/cython/checkrc.pxd\u001b[0m in \u001b[0;36mzmq.backend.cython.checkrc._check_rc\u001b[0;34m()\u001b[0m\n",
            "\u001b[0;31mKeyboardInterrupt\u001b[0m: ",
            "\nDuring handling of the above exception, another exception occurred:\n",
            "\u001b[0;31mKeyboardInterrupt\u001b[0m                         Traceback (most recent call last)",
            "\u001b[0;32m<ipython-input-11-fc5f6dbd12eb>\u001b[0m in \u001b[0;36m<module>\u001b[0;34m()\u001b[0m\n\u001b[0;32m----> 1\u001b[0;31m \u001b[0mnum\u001b[0m \u001b[0;34m=\u001b[0m \u001b[0mint\u001b[0m\u001b[0;34m(\u001b[0m\u001b[0minput\u001b[0m\u001b[0;34m(\u001b[0m\u001b[0;34m\"Numero: \"\u001b[0m\u001b[0;34m)\u001b[0m\u001b[0;34m)\u001b[0m\u001b[0;34m\u001b[0m\u001b[0;34m\u001b[0m\u001b[0m\n\u001b[0m\u001b[1;32m      2\u001b[0m \u001b[0;34m\u001b[0m\u001b[0m\n\u001b[1;32m      3\u001b[0m \u001b[0mtabellina\u001b[0m \u001b[0;34m=\u001b[0m \u001b[0;34m{\u001b[0m\u001b[0;34m}\u001b[0m\u001b[0;34m\u001b[0m\u001b[0;34m\u001b[0m\u001b[0m\n\u001b[1;32m      4\u001b[0m \u001b[0;32mfor\u001b[0m \u001b[0mi\u001b[0m \u001b[0;32min\u001b[0m \u001b[0mrange\u001b[0m\u001b[0;34m(\u001b[0m\u001b[0;36m1\u001b[0m\u001b[0;34m,\u001b[0m \u001b[0;36m11\u001b[0m\u001b[0;34m)\u001b[0m\u001b[0;34m:\u001b[0m\u001b[0;34m\u001b[0m\u001b[0;34m\u001b[0m\u001b[0m\n\u001b[1;32m      5\u001b[0m     \u001b[0mtabellina\u001b[0m\u001b[0;34m[\u001b[0m\u001b[0mstr\u001b[0m\u001b[0;34m(\u001b[0m\u001b[0mnum\u001b[0m\u001b[0;34m)\u001b[0m \u001b[0;34m+\u001b[0m \u001b[0;34m\" x \"\u001b[0m \u001b[0;34m+\u001b[0m \u001b[0mstr\u001b[0m\u001b[0;34m(\u001b[0m\u001b[0mi\u001b[0m\u001b[0;34m)\u001b[0m\u001b[0;34m]\u001b[0m \u001b[0;34m=\u001b[0m \u001b[0mnum\u001b[0m\u001b[0;34m*\u001b[0m\u001b[0mi\u001b[0m\u001b[0;34m\u001b[0m\u001b[0;34m\u001b[0m\u001b[0m\n",
            "\u001b[0;32m/usr/local/lib/python3.7/dist-packages/ipykernel/kernelbase.py\u001b[0m in \u001b[0;36mraw_input\u001b[0;34m(self, prompt)\u001b[0m\n\u001b[1;32m    702\u001b[0m             \u001b[0mself\u001b[0m\u001b[0;34m.\u001b[0m\u001b[0m_parent_ident\u001b[0m\u001b[0;34m,\u001b[0m\u001b[0;34m\u001b[0m\u001b[0;34m\u001b[0m\u001b[0m\n\u001b[1;32m    703\u001b[0m             \u001b[0mself\u001b[0m\u001b[0;34m.\u001b[0m\u001b[0m_parent_header\u001b[0m\u001b[0;34m,\u001b[0m\u001b[0;34m\u001b[0m\u001b[0;34m\u001b[0m\u001b[0m\n\u001b[0;32m--> 704\u001b[0;31m             \u001b[0mpassword\u001b[0m\u001b[0;34m=\u001b[0m\u001b[0;32mFalse\u001b[0m\u001b[0;34m,\u001b[0m\u001b[0;34m\u001b[0m\u001b[0;34m\u001b[0m\u001b[0m\n\u001b[0m\u001b[1;32m    705\u001b[0m         )\n\u001b[1;32m    706\u001b[0m \u001b[0;34m\u001b[0m\u001b[0m\n",
            "\u001b[0;32m/usr/local/lib/python3.7/dist-packages/ipykernel/kernelbase.py\u001b[0m in \u001b[0;36m_input_request\u001b[0;34m(self, prompt, ident, parent, password)\u001b[0m\n\u001b[1;32m    732\u001b[0m             \u001b[0;32mexcept\u001b[0m \u001b[0mKeyboardInterrupt\u001b[0m\u001b[0;34m:\u001b[0m\u001b[0;34m\u001b[0m\u001b[0;34m\u001b[0m\u001b[0m\n\u001b[1;32m    733\u001b[0m                 \u001b[0;31m# re-raise KeyboardInterrupt, to truncate traceback\u001b[0m\u001b[0;34m\u001b[0m\u001b[0;34m\u001b[0m\u001b[0;34m\u001b[0m\u001b[0m\n\u001b[0;32m--> 734\u001b[0;31m                 \u001b[0;32mraise\u001b[0m \u001b[0mKeyboardInterrupt\u001b[0m\u001b[0;34m\u001b[0m\u001b[0;34m\u001b[0m\u001b[0m\n\u001b[0m\u001b[1;32m    735\u001b[0m             \u001b[0;32melse\u001b[0m\u001b[0;34m:\u001b[0m\u001b[0;34m\u001b[0m\u001b[0;34m\u001b[0m\u001b[0m\n\u001b[1;32m    736\u001b[0m                 \u001b[0;32mbreak\u001b[0m\u001b[0;34m\u001b[0m\u001b[0;34m\u001b[0m\u001b[0m\n",
            "\u001b[0;31mKeyboardInterrupt\u001b[0m: "
          ]
        }
      ]
    },
    {
      "cell_type": "markdown",
      "metadata": {
        "id": "E6GV_NzE4MXc"
      },
      "source": [
        "**17. Scrivere un programma che permetta all'utente di inserire una frase e che crei un dizionario avente come chiavi le parole che compongono la frase e come valore il numero di volte che ogni parola compare. Al termine, visualizzare il messaggio \"la parola < parola > compare < numero > volte\" per ogni parola presente nel dizionario.**"
      ]
    },
    {
      "cell_type": "code",
      "metadata": {
        "colab": {
          "base_uri": "https://localhost:8080/",
          "height": 130
        },
        "id": "1QQLh4rm4PYc",
        "outputId": "8078210f-932e-4b0c-dc34-a964578f5a5a"
      },
      "source": [
        "import collections\n",
        "sentence = input()\n",
        "words = sentence.split()\n",
        "word_counts = collections.Counter(words)\n",
        "for word, count in word_counts.items():\n",
        "    print('la parola \"%s\" compare %d volte.' % (word, count))"
      ],
      "execution_count": null,
      "outputs": [
        {
          "output_type": "error",
          "ename": "SyntaxError",
          "evalue": "ignored",
          "traceback": [
            "\u001b[0;36m  File \u001b[0;32m\"<ipython-input-9-cfd4d6dd3153>\"\u001b[0;36m, line \u001b[0;32m1\u001b[0m\n\u001b[0;31m    mport collections\u001b[0m\n\u001b[0m                    ^\u001b[0m\n\u001b[0;31mSyntaxError\u001b[0m\u001b[0;31m:\u001b[0m invalid syntax\n"
          ]
        }
      ]
    },
    {
      "cell_type": "markdown",
      "metadata": {
        "id": "dJ38SU7L4RpR"
      },
      "source": [
        "**18.Una lista contiene i voti di informatica degli studenti di una classe: [{'cognome': 'Bianchi', voto: 6}, {'cognome': 'Neri', voto: 8}, {'cognome': 'Gialli', voto: 3}, {'cognome': 'Rossi', voto: 4}, {'cognome': 'Verdi', voto: 10}]. Scrivere un programma che visualizzi il cognome degli studenti sufficienti. **"
      ]
    },
    {
      "cell_type": "code",
      "metadata": {
        "colab": {
          "base_uri": "https://localhost:8080/"
        },
        "id": "Jn-6ZW1l4ffJ",
        "outputId": "0db413cf-36e3-4e2a-e660-beaf6e30664d"
      },
      "source": [
        "classe = [{'cognome' :'Blanchi', 'voto': 6}, {'cognome': 'Neri', 'voto': 8}, {'cognome': 'Glalli', 'voto': 3}]\n",
        "for i in classe:\n",
        "  if i['voto'] >= 6:\n",
        "        print('studente insufficente : ',i[\"cognome\"])"
      ],
      "execution_count": null,
      "outputs": [
        {
          "output_type": "stream",
          "name": "stdout",
          "text": [
            "studente insufficente :  Blanchi\n",
            "studente insufficente :  Neri\n"
          ]
        }
      ]
    }
  ]
}