{
  "nbformat": 4,
  "nbformat_minor": 0,
  "metadata": {
    "colab": {
      "name": "SIMULAZIONE V PYTHON.ipynb",
      "provenance": [],
      "collapsed_sections": [],
      "authorship_tag": "ABX9TyNvZz6CXck66EwLhyECHwlF",
      "include_colab_link": true
    },
    "kernelspec": {
      "name": "python3",
      "display_name": "Python 3"
    },
    "language_info": {
      "name": "python"
    }
  },
  "cells": [
    {
      "cell_type": "markdown",
      "metadata": {
        "id": "view-in-github",
        "colab_type": "text"
      },
      "source": [
        "<a href=\"https://colab.research.google.com/github/LIVERA-S/21-22_INFORMATICA_LIVERA-4EINF/blob/main/Python_V_SIMULAZIONE.ipynb\" target=\"_parent\"><img src=\"https://colab.research.google.com/assets/colab-badge.svg\" alt=\"Open In Colab\"/></a>"
      ]
    },
    {
      "cell_type": "code",
      "metadata": {
        "colab": {
          "base_uri": "https://localhost:8080/",
          "height": 129
        },
        "id": "ouWPdMknMEoj",
        "outputId": "3f111696-2d5f-483a-ba65-4e7f9973e060"
      },
      "source": [
        "def anti_vowel(c):\n",
        "    newstr = \"\"\n",
        "    vowels = ('a', 'e', 'i', 'o', 'u')\n",
        "        if x in vowels:\n",
        "            newstr = c.replace(x, \"\")        \n",
        "    return newstr \n",
        "n1 = str(input(\"Inserire il primo numero: \"))\n",
        "\n"
      ],
      "execution_count": null,
      "outputs": [
        {
          "output_type": "error",
          "ename": "IndentationError",
          "evalue": "ignored",
          "traceback": [
            "\u001b[0;36m  File \u001b[0;32m\"<ipython-input-37-c29f15ebc4d2>\"\u001b[0;36m, line \u001b[0;32m4\u001b[0m\n\u001b[0;31m    if x in vowels:\u001b[0m\n\u001b[0m    ^\u001b[0m\n\u001b[0;31mIndentationError\u001b[0m\u001b[0;31m:\u001b[0m unexpected indent\n"
          ]
        }
      ]
    },
    {
      "cell_type": "markdown",
      "metadata": {
        "id": "JV1n0oLNa-7l"
      },
      "source": [
        "**1. scrivere un programma che permetta all'utente di inserire tre valori e visualizzi quello intermedio.**"
      ]
    },
    {
      "cell_type": "code",
      "metadata": {
        "colab": {
          "base_uri": "https://localhost:8080/"
        },
        "id": "lWhG7TuHbD28",
        "outputId": "729afd91-c218-463e-b3f4-36f85fd49a2b"
      },
      "source": [
        "n1 = int(input(\"Inserire un valore: \"))\n",
        "n2 = int(input(\"Inserire un valore: \"))\n",
        "n3 = int(input(\"Inserire un valore: \"))\n",
        "if n1 > n2 and n1 < n3 or n1 > n3 and n1 < n2:\n",
        "  ans = n1\n",
        "elif n2 > n1 and n2 < n3 or n2 > n3 and n2 < n1:\n",
        "  ans = n2\n",
        "else:\n",
        "  ans = n3\n",
        "print(ans)"
      ],
      "execution_count": null,
      "outputs": [
        {
          "output_type": "stream",
          "name": "stdout",
          "text": [
            "Inserire un valore: 5\n",
            "Inserire un valore: 1\n",
            "Inserire un valore: 6\n",
            "5\n"
          ]
        }
      ]
    },
    {
      "cell_type": "code",
      "metadata": {
        "colab": {
          "base_uri": "https://localhost:8080/"
        },
        "id": "6aDlFd4IQRpI",
        "outputId": "e2492bb8-b99c-400a-c150-bdc4d0c2056a"
      },
      "source": [
        "#CORREZIONE\n",
        "n1,n2,n3 = int(input(\"Inserire un valore: \")),int(input(\"Inserire un valore: \")),int(input(\"Inserire un valore: \"))\n",
        "if n3 < n1 < n2 or n3 > n1 > n2:\n",
        "  print(n1)\n",
        "elif n3 < n2 < n1 or n3 > n2 > n1:\n",
        "  print(n2)\n",
        "else:\n",
        "  print(n3)"
      ],
      "execution_count": null,
      "outputs": [
        {
          "output_type": "stream",
          "name": "stdout",
          "text": [
            "Inserire un valore: 5\n",
            "Inserire un valore: 1\n",
            "Inserire un valore: 6\n",
            "5\n"
          ]
        }
      ]
    },
    {
      "cell_type": "code",
      "metadata": {
        "colab": {
          "base_uri": "https://localhost:8080/"
        },
        "id": "tVe8hoQFRccP",
        "outputId": "808176a3-ce40-4b87-f7b7-b0209419d189"
      },
      "source": [
        "#CON I TANTI NUMERI\n",
        "lst = [int(n) for n in input(\"Inserire i valori nella lista: \").split()]\n",
        "lst.sort()\n",
        "print(lst)\n",
        "if len(lst)%2 == 1:\n",
        "  print(lst[(len(lst)-1)//2])\n",
        "else:\n",
        "  print((lst[len(lst)//2]+lst[len(lst)//2 +1])//2)\n"
      ],
      "execution_count": null,
      "outputs": [
        {
          "output_type": "stream",
          "name": "stdout",
          "text": [
            "Inserire i valori nella lista: 1 3 2 2 5 6 4 9 8\n",
            "[1, 2, 2, 3, 4, 5, 6, 8, 9]\n",
            "4\n"
          ]
        }
      ]
    },
    {
      "cell_type": "markdown",
      "metadata": {
        "id": "DO7RcxTebEX8"
      },
      "source": [
        "**2. scrivere un programma che permetta all'utente di caricare una lista di numeri interi ed un valore e carichi in un'altra lista tutti gli elementi della prima lista che sono multipli del valore inserito. Al termnine visualizzare entrambe le liste.**"
      ]
    },
    {
      "cell_type": "code",
      "metadata": {
        "colab": {
          "base_uri": "https://localhost:8080/"
        },
        "id": "M1lVZoQZbHyc",
        "outputId": "88d4c5cc-f999-47ef-9ea2-d7e7623963a6"
      },
      "source": [
        "lst = [int(n) for n in input(\"Inserire i valori nella lista: \").split()]\n",
        "lst1 = [] #inzializza un nuova lista\n",
        "x = int(input(\"Inserire un valore: \")) #assegniamo il x come un valore inserito dall utente\n",
        "for el in lst: # un ciclo per per ogni eloemnto presente della lista\n",
        "  if el%x==0: #fa il calocrloil elemnto diviso in x == o \n",
        "    lst1.append(el) # iseriscie quel numero al list2 # append \n",
        "print(lst)\n",
        "print(lst1)"
      ],
      "execution_count": null,
      "outputs": [
        {
          "output_type": "stream",
          "name": "stdout",
          "text": [
            "Inserire i valori nella lista: 1 2 3 4 5 6\n",
            "Inserire un valore: 2\n",
            "[1, 2, 3, 4, 5, 6]\n",
            "[2, 4, 6]\n"
          ]
        }
      ]
    },
    {
      "cell_type": "code",
      "metadata": {
        "id": "v2euZm8bGJ8h"
      },
      "source": [
        "#CORREZIOPNE\n",
        "lst = list(map(int, input().split()))\n",
        "lst1 = []\n",
        "x = int(input(\"Inserire un valore: \"))\n",
        "for el in lst:\n",
        "  if el%x==0:\n",
        "    lst1.append(el)\n",
        "print(lst)\n",
        "print(lst1)"
      ],
      "execution_count": null,
      "outputs": []
    },
    {
      "cell_type": "code",
      "metadata": {
        "colab": {
          "base_uri": "https://localhost:8080/"
        },
        "id": "IGiQBsxsGttM",
        "outputId": "7ac7c626-ded9-41c3-bd24-bbd447f96578"
      },
      "source": [
        "stringa = input()\n",
        "print(stringa)\n",
        "\n",
        "x=stringa.split()\n",
        "print(x)\n",
        "\n",
        "y  = list(map(int,x))\n",
        "print(y)"
      ],
      "execution_count": null,
      "outputs": [
        {
          "output_type": "stream",
          "name": "stdout",
          "text": [
            "10 20 30\n",
            "10 20 30\n",
            "['10', '20', '30']\n",
            "[10, 20, 30]\n"
          ]
        }
      ]
    },
    {
      "cell_type": "markdown",
      "metadata": {
        "id": "tvl0z77FbIFM"
      },
      "source": [
        "**3. scrivere un programma che permetta all'utente di memorizzare in un dizionario i numeri di telefono dei propri amici. L'utente deve poter inserire i nomi e i numeri.**"
      ]
    },
    {
      "cell_type": "code",
      "metadata": {
        "id": "Z48J1lrzbLvs",
        "colab": {
          "base_uri": "https://localhost:8080/"
        },
        "outputId": "ea3c28fe-641d-46b6-de9c-328465a4a8f0"
      },
      "source": [
        "#x = int(input(\"Quanti valori saranno inseriti? \"))\n",
        "d = {}\n",
        "for i in range(0, 2):\n",
        "  keys = input(\"ENTER NAME: \")\n",
        "  values = (input(\"ENTER A NUMBER: \"))\n",
        "  d[keys] = values\n",
        "print(d)\n",
        "\n",
        "nome = str(input(\"Inserire il nome: \"))\n",
        "print(\"IL NUMERO DI\", nome ,\"è\", d[nome])"
      ],
      "execution_count": null,
      "outputs": [
        {
          "output_type": "stream",
          "name": "stdout",
          "text": [
            "ENTER NAME: ciao\n",
            "ENTER A NUMBER: ciao1\n",
            "ENTER NAME: bella\n",
            "ENTER A NUMBER: bella1\n",
            "{'ciao': 'ciao1', 'bella': 'bella1'}\n",
            "Inserire il nome: ciao\n",
            "IL NUMERO DI ciao è ciao1\n"
          ]
        }
      ]
    },
    {
      "cell_type": "code",
      "metadata": {
        "id": "tkJy1jNaKwdR",
        "colab": {
          "base_uri": "https://localhost:8080/",
          "height": 578
        },
        "outputId": "bfe111d7-8c39-423f-d393-55ec4fbb1990"
      },
      "source": [
        "#Correzione Come PYTHON\n",
        "nomi = input().split()\n",
        "num = input().split()\n",
        "d = dict(zip(nomi, num)) #tuple\n",
        "'''zip = function accepts iterable items and merges them into a single tuple. The resultant value is a zip object that stores pairs of iterables. You can pass lists, \n",
        "tuples, sets, or dictionaries through the zip() function'''\n",
        "d"
      ],
      "execution_count": null,
      "outputs": [
        {
          "name": "stdout",
          "output_type": "stream",
          "text": [
            "2\n"
          ]
        },
        {
          "output_type": "error",
          "ename": "KeyboardInterrupt",
          "evalue": "ignored",
          "traceback": [
            "\u001b[0;31m---------------------------------------------------------------------------\u001b[0m",
            "\u001b[0;31mKeyboardInterrupt\u001b[0m                         Traceback (most recent call last)",
            "\u001b[0;32m/usr/local/lib/python3.7/dist-packages/ipykernel/kernelbase.py\u001b[0m in \u001b[0;36m_input_request\u001b[0;34m(self, prompt, ident, parent, password)\u001b[0m\n\u001b[1;32m    728\u001b[0m             \u001b[0;32mtry\u001b[0m\u001b[0;34m:\u001b[0m\u001b[0;34m\u001b[0m\u001b[0;34m\u001b[0m\u001b[0m\n\u001b[0;32m--> 729\u001b[0;31m                 \u001b[0mident\u001b[0m\u001b[0;34m,\u001b[0m \u001b[0mreply\u001b[0m \u001b[0;34m=\u001b[0m \u001b[0mself\u001b[0m\u001b[0;34m.\u001b[0m\u001b[0msession\u001b[0m\u001b[0;34m.\u001b[0m\u001b[0mrecv\u001b[0m\u001b[0;34m(\u001b[0m\u001b[0mself\u001b[0m\u001b[0;34m.\u001b[0m\u001b[0mstdin_socket\u001b[0m\u001b[0;34m,\u001b[0m \u001b[0;36m0\u001b[0m\u001b[0;34m)\u001b[0m\u001b[0;34m\u001b[0m\u001b[0;34m\u001b[0m\u001b[0m\n\u001b[0m\u001b[1;32m    730\u001b[0m             \u001b[0;32mexcept\u001b[0m \u001b[0mException\u001b[0m\u001b[0;34m:\u001b[0m\u001b[0;34m\u001b[0m\u001b[0;34m\u001b[0m\u001b[0m\n",
            "\u001b[0;32m/usr/local/lib/python3.7/dist-packages/jupyter_client/session.py\u001b[0m in \u001b[0;36mrecv\u001b[0;34m(self, socket, mode, content, copy)\u001b[0m\n\u001b[1;32m    802\u001b[0m         \u001b[0;32mtry\u001b[0m\u001b[0;34m:\u001b[0m\u001b[0;34m\u001b[0m\u001b[0;34m\u001b[0m\u001b[0m\n\u001b[0;32m--> 803\u001b[0;31m             \u001b[0mmsg_list\u001b[0m \u001b[0;34m=\u001b[0m \u001b[0msocket\u001b[0m\u001b[0;34m.\u001b[0m\u001b[0mrecv_multipart\u001b[0m\u001b[0;34m(\u001b[0m\u001b[0mmode\u001b[0m\u001b[0;34m,\u001b[0m \u001b[0mcopy\u001b[0m\u001b[0;34m=\u001b[0m\u001b[0mcopy\u001b[0m\u001b[0;34m)\u001b[0m\u001b[0;34m\u001b[0m\u001b[0;34m\u001b[0m\u001b[0m\n\u001b[0m\u001b[1;32m    804\u001b[0m         \u001b[0;32mexcept\u001b[0m \u001b[0mzmq\u001b[0m\u001b[0;34m.\u001b[0m\u001b[0mZMQError\u001b[0m \u001b[0;32mas\u001b[0m \u001b[0me\u001b[0m\u001b[0;34m:\u001b[0m\u001b[0;34m\u001b[0m\u001b[0;34m\u001b[0m\u001b[0m\n",
            "\u001b[0;32m/usr/local/lib/python3.7/dist-packages/zmq/sugar/socket.py\u001b[0m in \u001b[0;36mrecv_multipart\u001b[0;34m(self, flags, copy, track)\u001b[0m\n\u001b[1;32m    624\u001b[0m         \"\"\"\n\u001b[0;32m--> 625\u001b[0;31m         \u001b[0mparts\u001b[0m \u001b[0;34m=\u001b[0m \u001b[0;34m[\u001b[0m\u001b[0mself\u001b[0m\u001b[0;34m.\u001b[0m\u001b[0mrecv\u001b[0m\u001b[0;34m(\u001b[0m\u001b[0mflags\u001b[0m\u001b[0;34m,\u001b[0m \u001b[0mcopy\u001b[0m\u001b[0;34m=\u001b[0m\u001b[0mcopy\u001b[0m\u001b[0;34m,\u001b[0m \u001b[0mtrack\u001b[0m\u001b[0;34m=\u001b[0m\u001b[0mtrack\u001b[0m\u001b[0;34m)\u001b[0m\u001b[0;34m]\u001b[0m\u001b[0;34m\u001b[0m\u001b[0;34m\u001b[0m\u001b[0m\n\u001b[0m\u001b[1;32m    626\u001b[0m         \u001b[0;31m# have first part already, only loop while more to receive\u001b[0m\u001b[0;34m\u001b[0m\u001b[0;34m\u001b[0m\u001b[0;34m\u001b[0m\u001b[0m\n",
            "\u001b[0;32mzmq/backend/cython/socket.pyx\u001b[0m in \u001b[0;36mzmq.backend.cython.socket.Socket.recv\u001b[0;34m()\u001b[0m\n",
            "\u001b[0;32mzmq/backend/cython/socket.pyx\u001b[0m in \u001b[0;36mzmq.backend.cython.socket.Socket.recv\u001b[0;34m()\u001b[0m\n",
            "\u001b[0;32mzmq/backend/cython/socket.pyx\u001b[0m in \u001b[0;36mzmq.backend.cython.socket._recv_copy\u001b[0;34m()\u001b[0m\n",
            "\u001b[0;32m/usr/local/lib/python3.7/dist-packages/zmq/backend/cython/checkrc.pxd\u001b[0m in \u001b[0;36mzmq.backend.cython.checkrc._check_rc\u001b[0;34m()\u001b[0m\n",
            "\u001b[0;31mKeyboardInterrupt\u001b[0m: ",
            "\nDuring handling of the above exception, another exception occurred:\n",
            "\u001b[0;31mKeyboardInterrupt\u001b[0m                         Traceback (most recent call last)",
            "\u001b[0;32m<ipython-input-22-9232bc8ef10d>\u001b[0m in \u001b[0;36m<module>\u001b[0;34m()\u001b[0m\n\u001b[1;32m      1\u001b[0m \u001b[0;31m#Correzione Come PYTHON\u001b[0m\u001b[0;34m\u001b[0m\u001b[0;34m\u001b[0m\u001b[0;34m\u001b[0m\u001b[0m\n\u001b[1;32m      2\u001b[0m \u001b[0mnomi\u001b[0m \u001b[0;34m=\u001b[0m \u001b[0minput\u001b[0m\u001b[0;34m(\u001b[0m\u001b[0;34m)\u001b[0m\u001b[0;34m.\u001b[0m\u001b[0msplit\u001b[0m\u001b[0;34m(\u001b[0m\u001b[0;34m)\u001b[0m\u001b[0;34m\u001b[0m\u001b[0;34m\u001b[0m\u001b[0m\n\u001b[0;32m----> 3\u001b[0;31m \u001b[0mnum\u001b[0m \u001b[0;34m=\u001b[0m \u001b[0minput\u001b[0m\u001b[0;34m(\u001b[0m\u001b[0;34m)\u001b[0m\u001b[0;34m.\u001b[0m\u001b[0msplit\u001b[0m\u001b[0;34m(\u001b[0m\u001b[0;34m)\u001b[0m\u001b[0;34m\u001b[0m\u001b[0;34m\u001b[0m\u001b[0m\n\u001b[0m\u001b[1;32m      4\u001b[0m \u001b[0md\u001b[0m \u001b[0;34m=\u001b[0m \u001b[0mdict\u001b[0m\u001b[0;34m(\u001b[0m\u001b[0mzip\u001b[0m\u001b[0;34m(\u001b[0m\u001b[0mnomi\u001b[0m\u001b[0;34m,\u001b[0m \u001b[0mnum\u001b[0m\u001b[0;34m)\u001b[0m\u001b[0;34m)\u001b[0m \u001b[0;31m#tuple\u001b[0m\u001b[0;34m\u001b[0m\u001b[0;34m\u001b[0m\u001b[0m\n\u001b[1;32m      5\u001b[0m '''zip = function accepts iterable items and merges them into a single tuple. The resultant value is a zip object that stores pairs of iterables. You can pass lists, \n",
            "\u001b[0;32m/usr/local/lib/python3.7/dist-packages/ipykernel/kernelbase.py\u001b[0m in \u001b[0;36mraw_input\u001b[0;34m(self, prompt)\u001b[0m\n\u001b[1;32m    702\u001b[0m             \u001b[0mself\u001b[0m\u001b[0;34m.\u001b[0m\u001b[0m_parent_ident\u001b[0m\u001b[0;34m,\u001b[0m\u001b[0;34m\u001b[0m\u001b[0;34m\u001b[0m\u001b[0m\n\u001b[1;32m    703\u001b[0m             \u001b[0mself\u001b[0m\u001b[0;34m.\u001b[0m\u001b[0m_parent_header\u001b[0m\u001b[0;34m,\u001b[0m\u001b[0;34m\u001b[0m\u001b[0;34m\u001b[0m\u001b[0m\n\u001b[0;32m--> 704\u001b[0;31m             \u001b[0mpassword\u001b[0m\u001b[0;34m=\u001b[0m\u001b[0;32mFalse\u001b[0m\u001b[0;34m,\u001b[0m\u001b[0;34m\u001b[0m\u001b[0;34m\u001b[0m\u001b[0m\n\u001b[0m\u001b[1;32m    705\u001b[0m         )\n\u001b[1;32m    706\u001b[0m \u001b[0;34m\u001b[0m\u001b[0m\n",
            "\u001b[0;32m/usr/local/lib/python3.7/dist-packages/ipykernel/kernelbase.py\u001b[0m in \u001b[0;36m_input_request\u001b[0;34m(self, prompt, ident, parent, password)\u001b[0m\n\u001b[1;32m    732\u001b[0m             \u001b[0;32mexcept\u001b[0m \u001b[0mKeyboardInterrupt\u001b[0m\u001b[0;34m:\u001b[0m\u001b[0;34m\u001b[0m\u001b[0;34m\u001b[0m\u001b[0m\n\u001b[1;32m    733\u001b[0m                 \u001b[0;31m# re-raise KeyboardInterrupt, to truncate traceback\u001b[0m\u001b[0;34m\u001b[0m\u001b[0;34m\u001b[0m\u001b[0;34m\u001b[0m\u001b[0m\n\u001b[0;32m--> 734\u001b[0;31m                 \u001b[0;32mraise\u001b[0m \u001b[0mKeyboardInterrupt\u001b[0m\u001b[0;34m\u001b[0m\u001b[0;34m\u001b[0m\u001b[0m\n\u001b[0m\u001b[1;32m    735\u001b[0m             \u001b[0;32melse\u001b[0m\u001b[0;34m:\u001b[0m\u001b[0;34m\u001b[0m\u001b[0;34m\u001b[0m\u001b[0m\n\u001b[1;32m    736\u001b[0m                 \u001b[0;32mbreak\u001b[0m\u001b[0;34m\u001b[0m\u001b[0;34m\u001b[0m\u001b[0m\n",
            "\u001b[0;31mKeyboardInterrupt\u001b[0m: "
          ]
        }
      ]
    },
    {
      "cell_type": "code",
      "metadata": {
        "id": "fhQ2mylcLiZY"
      },
      "source": [
        "#Correzione  come JAVA\n",
        "n = int(input())\n",
        "d = {}\n",
        "for i in range(n):\n",
        "  data = input(\"iNSERIRE NOME E NUMERO: \")\n",
        "  temp = data.split()\n",
        "  d[temp[0]] = temp[1]\n",
        "d"
      ],
      "execution_count": null,
      "outputs": []
    },
    {
      "cell_type": "markdown",
      "metadata": {
        "id": "360qMtzxbMFk"
      },
      "source": [
        "**4. scrivere un programma che dato il dizionario dell'esercizio precedente, permetta all'utente di inserire un nome e avere il numero di telefono corrispondente**"
      ]
    },
    {
      "cell_type": "code",
      "metadata": {
        "id": "szwVJuj6bOfE",
        "colab": {
          "base_uri": "https://localhost:8080/"
        },
        "outputId": "c0fe3889-67f1-41a6-f16f-dae4ab431565"
      },
      "source": [
        "nome = str(input(\"Inserire il nome: \"))\n",
        "print(\"IL NUMERO DI\", nome ,\"è\", d[nome])"
      ],
      "execution_count": null,
      "outputs": [
        {
          "output_type": "stream",
          "name": "stdout",
          "text": [
            "Inserire il nome: oshada\n",
            "IL NUMERO DI oshada è 12345\n"
          ]
        }
      ]
    },
    {
      "cell_type": "code",
      "metadata": {
        "id": "51tjnSWaOIam"
      },
      "source": [
        "#Correzione Come PYTHON\n",
        "nome = input()\n",
        "print(d[nome])"
      ],
      "execution_count": null,
      "outputs": []
    },
    {
      "cell_type": "markdown",
      "metadata": {
        "id": "IpeaKZ4A1eSO"
      },
      "source": [
        "**5. scrivere una funzione che dato il raggio calcoli la superficie del cerchio avente quel raggio. Chiamare al funzione superficie,. Il valore di ritorno deve avere tre cifre decimali.**"
      ]
    },
    {
      "cell_type": "code",
      "metadata": {
        "id": "7SPetzIQ14td",
        "colab": {
          "base_uri": "https://localhost:8080/"
        },
        "outputId": "f83e0107-c947-4ecf-8228-2d43e4050874"
      },
      "source": [
        "import math\n",
        "def superficie(x):\n",
        "  return round(x*x*math.pi, 3)\n",
        "n = int(input(\"Inserire il raggio: \"))\n",
        "print(superficie(n))"
      ],
      "execution_count": null,
      "outputs": [
        {
          "output_type": "stream",
          "name": "stdout",
          "text": [
            "Inserire un numero: 6\n",
            "113.097\n"
          ]
        }
      ]
    },
    {
      "cell_type": "markdown",
      "metadata": {
        "id": "NLf7ElY72F2F"
      },
      "source": [
        "**6. scrivere una funzione che, utilizzando la funzione superficie dell'esercizio precedente, permetta di calcolare il volume di un cilindro dato il raggio e l'altezza. Chiamare la funzione volume.**"
      ]
    },
    {
      "cell_type": "code",
      "metadata": {
        "colab": {
          "base_uri": "https://localhost:8080/"
        },
        "id": "wZL2MoiEGppx",
        "outputId": "7dfb76bb-5792-435d-aaf9-3638ab80d882"
      },
      "source": [
        "import math\n",
        "def volume(r, a):\n",
        "  #return round(math.pi * r * r * a, 2)\n",
        "  return superficie()\n",
        "raggio = int(input(\"Inserire il raggio: \"))\n",
        "altezza = int(input(\"Inserire l'altezza: \"))\n",
        "print(volume(raggio, altezza))\n"
      ],
      "execution_count": null,
      "outputs": [
        {
          "output_type": "stream",
          "name": "stdout",
          "text": [
            "Inserire il raggio: 5\n",
            "Inserire l'altezza: 10\n",
            "785.4\n"
          ]
        }
      ]
    },
    {
      "cell_type": "markdown",
      "metadata": {
        "id": "-EUbeZCq2Ftn"
      },
      "source": [
        "**7. scrivere un programma che permetta di decrementare tutti gli elementi di una lista utilizzando una lambda function e la funzione map(). Far inserire all'utente gli elementi della lista.**"
      ]
    },
    {
      "cell_type": "code",
      "metadata": {
        "colab": {
          "base_uri": "https://localhost:8080/"
        },
        "id": "cW2NvuWN3dyw",
        "outputId": "10af5fee-fadf-4f76-e78c-cb6662d7a66b"
      },
      "source": [
        "lst = [int(n) for n in input(\"Inserire i valori nella lista: \").split()]\n",
        "lst1 = list(map(lambda x: x-1, lst)) # in questo caso la funzione decrementa di 1\n",
        "print(lst)\n",
        "print(lst1)"
      ],
      "execution_count": null,
      "outputs": [
        {
          "output_type": "stream",
          "name": "stdout",
          "text": [
            "Inserire i valori nella lista: 1 2 3 4 5 6\n",
            "[1, 2, 3, 4, 5, 6]\n",
            "[0, 1, 2, 3, 4, 5]\n"
          ]
        }
      ]
    },
    {
      "cell_type": "markdown",
      "metadata": {
        "id": "UnlqePVI2Q5N"
      },
      "source": [
        "**8. scrivere un programma che permetta di estrarre da una lista tutti i valori pari utilizzando una lambda function e la funzione filter(). Far inserire all'utente gli elementi della lista.**\n"
      ]
    },
    {
      "cell_type": "code",
      "metadata": {
        "colab": {
          "base_uri": "https://localhost:8080/"
        },
        "id": "bjtJ2Fsf3Ftw",
        "outputId": "f39d3122-a436-4b22-a83f-7e5b3b4cfcaa"
      },
      "source": [
        "lst = [int(n) for n in input(\"Inserire i valori nella lista: \").split()]\n",
        "lst1 = list(filter(lambda n: (n % 2 == 0), lst))\n",
        "print(lst)\n",
        "print(lst1)"
      ],
      "execution_count": null,
      "outputs": [
        {
          "output_type": "stream",
          "name": "stdout",
          "text": [
            "Inserire i valori nella lista: 1 2 3 4 5 6 7 8 9 10\n",
            "[1, 2, 3, 4, 5, 6, 7, 8, 9, 10]\n",
            "[2, 4, 6, 8, 10]\n"
          ]
        }
      ]
    },
    {
      "cell_type": "markdown",
      "metadata": {
        "id": "zfYDF7si2hj0"
      },
      "source": [
        "**9. scrivere una funzione ricorsiva per calcolare l'elevamento a potenza di un numero intero. La funzione ha due paramentri: numero ed esponente**"
      ]
    },
    {
      "cell_type": "code",
      "metadata": {
        "id": "9HCMHrfq2j9y",
        "colab": {
          "base_uri": "https://localhost:8080/"
        },
        "outputId": "a1a7d029-7c43-4b82-f858-16b1d166297f"
      },
      "source": [
        "def potenza(n, e):\n",
        "    if e == 0:\n",
        "        return 1\n",
        "    else:\n",
        "        return n * potenza(n, e - 1)\n",
        "numero = int(input(\"Inserire il numero: \"))\n",
        "esponente = int(input(\"Inserire l'esponente: \"))\n",
        "print(\"IL RISULTATO E: \"potenza(numero, esponente))"
      ],
      "execution_count": null,
      "outputs": [
        {
          "output_type": "stream",
          "name": "stdout",
          "text": [
            "Inserire il numero: 2\n",
            "Inserire l'esponente: 0\n",
            "1\n"
          ]
        }
      ]
    }
  ]
}