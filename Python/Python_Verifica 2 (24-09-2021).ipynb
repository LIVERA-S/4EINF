{
  "nbformat": 4,
  "nbformat_minor": 0,
  "metadata": {
    "colab": {
      "name": "Verifica 2 (24/09/2021).ipynb",
      "provenance": [],
      "collapsed_sections": [],
      "authorship_tag": "ABX9TyOCWM7qhbBbfpDXrIxB89nj",
      "include_colab_link": true
    },
    "kernelspec": {
      "name": "python3",
      "display_name": "Python 3"
    },
    "language_info": {
      "name": "python"
    }
  },
  "cells": [
    {
      "cell_type": "markdown",
      "metadata": {
        "id": "view-in-github",
        "colab_type": "text"
      },
      "source": [
        "<a href=\"https://colab.research.google.com/github/LIVERA-S/21-22_INFORMATICA_LIVERA-4EINF/blob/main/Python_Verifica%202%20(24-09-2021).ipynb\" target=\"_parent\"><img src=\"https://colab.research.google.com/assets/colab-badge.svg\" alt=\"Open In Colab\"/></a>"
      ]
    },
    {
      "cell_type": "markdown",
      "metadata": {
        "id": "V37Mod1KGXVp"
      },
      "source": [
        "**01: Scrivere un programma che carichi in una lista 10 città italiane e le visualizzi ordinandole in base alla lunghezza del nome (ordine crescente e decrescente)**"
      ]
    },
    {
      "cell_type": "code",
      "metadata": {
        "id": "UlJq7w77GcN2",
        "colab": {
          "base_uri": "https://localhost:8080/"
        },
        "outputId": "34a1c4c2-9b7f-42a6-ccbd-1d59b4acb272"
      },
      "source": [
        "citta =[\"Roma\",\"Como\",\"Bra\",\"Bari\",\"Milano\",\"Pisa\",\"Varese\",\"Lecco\"]\n",
        "cittaCrescente = sorted(citta,key = len)#len è per lavorare sulla lunghezza delle parole\n",
        "print(cittaCrescente)\n",
        "\n",
        "cittaDecrescente = sorted(citta,key = len,reverse = True)#len è per lavorare sulla lunghezza delle parole\n",
        "print(cittaDecrescente)\n",
        "\n",
        "cittaDecrescente2 = cittaCrescente[:]#serve per fare una copia (slicing)\n",
        "cittaDecrescente2.reverse()\n",
        "print(cittaDecrescente2)\n",
        "\n",
        "print(cittaCrescente)"
      ],
      "execution_count": null,
      "outputs": [
        {
          "output_type": "stream",
          "name": "stdout",
          "text": [
            "['Bra', 'Roma', 'Como', 'Bari', 'Pisa', 'Lecco', 'Milano', 'Varese']\n",
            "['Milano', 'Varese', 'Lecco', 'Roma', 'Como', 'Bari', 'Pisa', 'Bra']\n",
            "['Varese', 'Milano', 'Lecco', 'Pisa', 'Bari', 'Como', 'Roma', 'Bra']\n",
            "['Bra', 'Roma', 'Como', 'Bari', 'Pisa', 'Lecco', 'Milano', 'Varese']\n"
          ]
        }
      ]
    },
    {
      "cell_type": "markdown",
      "metadata": {
        "id": "Uk565xb9GdF2"
      },
      "source": [
        "**02: Scrivere un programma che carichi in una lista 10 città italiane ed elimini i doppioni (se presenti). Utilizzare il minor numero di istruzioni possibile.**"
      ]
    },
    {
      "cell_type": "code",
      "metadata": {
        "id": "rr-qQAnPHua7",
        "colab": {
          "base_uri": "https://localhost:8080/"
        },
        "outputId": "727aa92d-86b6-4611-ab9e-471603033705"
      },
      "source": [
        "citta.extend([\"Lecco\",\"Milano\",\"Milano\"])\n",
        "print(citta)\n",
        "\n",
        "cittaFinale = list(dict.fromkeys(citta))\n",
        "print(cittaFinale)\n",
        "\n",
        "cittaFinale2 = list(set(citta))#cosi si crea un set ovvero un insieme(se non si trasformasse in lista)\n",
        "print(cittaFinale2)"
      ],
      "execution_count": null,
      "outputs": [
        {
          "output_type": "stream",
          "name": "stdout",
          "text": [
            "['Roma', 'Como', 'Bra', 'Bari', 'Milano', 'Pisa', 'Varese', 'Lecco', 'Lecco', 'Milano', 'Milano', 'Lecco', 'Milano', 'Milano', 'Lecco', 'Milano', 'Milano']\n",
            "['Roma', 'Como', 'Bra', 'Bari', 'Milano', 'Pisa', 'Varese', 'Lecco']\n",
            "['Milano', 'Roma', 'Como', 'Bra', 'Pisa', 'Bari', 'Varese', 'Lecco']\n"
          ]
        }
      ]
    },
    {
      "cell_type": "markdown",
      "metadata": {
        "id": "9mkHRoXiGoEH"
      },
      "source": [
        "**03: Scrivere un programma che date due liste contenente 10 città, visualizzi le città presenti in entrambe le liste. Utilizzare il minor numero di istruzioni possibile.**"
      ]
    },
    {
      "cell_type": "code",
      "metadata": {
        "id": "8iR0DLsMHvFC",
        "colab": {
          "base_uri": "https://localhost:8080/"
        },
        "outputId": "a569b014-b7ab-480b-9600-ac7080845d2a"
      },
      "source": [
        "citta1 = ['Roma', 'Varese', 'Pisa', 'Lecco', 'Bari', 'Milano', 'Bra', 'Como']\n",
        "citta2 = ['Roma', 'Napoli', 'Pisa', 'Lecco', 'Bari', 'Palermo', 'Bra', 'Como']\n",
        "cittaComuni = list(set(citta1).intersection(set(citta2)))\n",
        "print(cittaComuni)"
      ],
      "execution_count": null,
      "outputs": [
        {
          "output_type": "stream",
          "name": "stdout",
          "text": [
            "['Roma', 'Como', 'Pisa', 'Bra', 'Bari', 'Lecco']\n"
          ]
        }
      ]
    },
    {
      "cell_type": "markdown",
      "metadata": {
        "id": "Us5hWLkcG47v"
      },
      "source": [
        "**04: Scrivere un programma che carichi in un dizionario 10 città (campo chiave) e le 10 regioni in cui si trovano le città (campo valore). Visualizzare poi tutti i dati con il messaggio “<città> si trova in regione ”**"
      ]
    },
    {
      "cell_type": "code",
      "metadata": {
        "id": "TtC4BgjNHwCC",
        "colab": {
          "base_uri": "https://localhost:8080/"
        },
        "outputId": "cd7a1877-dd6f-48b2-c94f-21d5e7f51e54"
      },
      "source": [
        "d1 = {'Napoli': 'Campania', 'Como': 'Lombardia', 'Varese': 'Lombardia', 'Ancona': 'Marche', 'Trieste': 'Friuli Venezia Giulia', 'Pisa': 'Toscana', 'Milano': 'Lombardia', 'Bari': 'Puglia', 'Lecco': 'Lombardia'}\n",
        "for keys, values in d1.items():\n",
        "  print (keys, \"si trova in\", values)"
      ],
      "execution_count": null,
      "outputs": [
        {
          "output_type": "stream",
          "name": "stdout",
          "text": [
            "Napoli si trova in Campania\n",
            "Como si trova in Lombardia\n",
            "Varese si trova in Lombardia\n",
            "Ancona si trova in Marche\n",
            "Trieste si trova in Friuli Venezia Giulia\n",
            "Pisa si trova in Toscana\n",
            "Milano si trova in Lombardia\n",
            "Bari si trova in Puglia\n",
            "Lecco si trova in Lombardia\n"
          ]
        }
      ]
    },
    {
      "cell_type": "markdown",
      "metadata": {
        "id": "15emcArbG_UP"
      },
      "source": [
        "**05: Scrivere un programma che acquisisca il nome di una città e dica in quale regione si trova (utilizzare il dizionario creato precedentemente)**"
      ]
    },
    {
      "cell_type": "code",
      "metadata": {
        "id": "KUOysX0SHwra",
        "colab": {
          "base_uri": "https://localhost:8080/"
        },
        "outputId": "a7a590f3-f15a-4ddb-a380-02327d791ade"
      },
      "source": [
        "nCitta = str(input(\"Inserire il nome di una città: \"))\n",
        "print(nCitta, \"si trova in\", d1[nCitta])"
      ],
      "execution_count": null,
      "outputs": [
        {
          "output_type": "stream",
          "name": "stdout",
          "text": [
            "Inserire il nome di una città: Milano\n",
            "Milano si trova in Lombardia\n"
          ]
        }
      ]
    },
    {
      "cell_type": "markdown",
      "metadata": {
        "id": "HeJRvDDqHS_G"
      },
      "source": [
        "**06: Scrivere un programma che carichi in una lista tutti i numeri pari minori di 100.**"
      ]
    },
    {
      "cell_type": "code",
      "metadata": {
        "id": "SU1nY52dWFCb",
        "colab": {
          "base_uri": "https://localhost:8080/"
        },
        "outputId": "8a7f6e19-c800-4dce-b6ad-45f9b98311af"
      },
      "source": [
        "lista = []\n",
        "for i in range(0, 100, 2):\n",
        "  lista.append(i)\n",
        "print(lista)"
      ],
      "execution_count": null,
      "outputs": [
        {
          "output_type": "stream",
          "name": "stdout",
          "text": [
            "[0, 2, 4, 6, 8, 10, 12, 14, 16, 18, 20, 22, 24, 26, 28, 30, 32, 34, 36, 38, 40, 42, 44, 46, 48, 50, 52, 54, 56, 58, 60, 62, 64, 66, 68, 70, 72, 74, 76, 78, 80, 82, 84, 86, 88, 90, 92, 94, 96, 98]\n"
          ]
        }
      ]
    },
    {
      "cell_type": "markdown",
      "metadata": {
        "id": "-faThmVkHZFK"
      },
      "source": [
        "**07: Scrivere un programma che carichi in una lista tutti i numeri interi compresi tra due estremi inseriti dall’utente. Il programma deve poi caricare in un’altra lista tutti i multipli di tre presenti nella lista di partenza. Visualizzare al termine entrambe le liste.**"
      ]
    },
    {
      "cell_type": "code",
      "metadata": {
        "id": "_scZzRStH7UU",
        "colab": {
          "base_uri": "https://localhost:8080/"
        },
        "outputId": "07acd0d8-6e6e-4783-c009-fdec78558cf3"
      },
      "source": [
        "primo = int(input(\"Inserire il primo valore: \"))\n",
        "ultimo = int(input(\"Inserire l'ultimo valore: \"))\n",
        "lista = list(range(primo, ultimo+1))\n",
        "print(\"Lista completa: \", lista)\n",
        "listaMultipli = []\n",
        "for i in lista:\n",
        "  if i % 3 == 0:\n",
        "    listaMultipli.append(i)\n",
        "print(\"Lista multipli di 3: \", listaMultipli)"
      ],
      "execution_count": null,
      "outputs": [
        {
          "output_type": "stream",
          "name": "stdout",
          "text": [
            "Inserire il primo valore: 2\n",
            "Inserire l'ultimo valore: 50\n",
            "Lista completa:  [2, 3, 4, 5, 6, 7, 8, 9, 10, 11, 12, 13, 14, 15, 16, 17, 18, 19, 20, 21, 22, 23, 24, 25, 26, 27, 28, 29, 30, 31, 32, 33, 34, 35, 36, 37, 38, 39, 40, 41, 42, 43, 44, 45, 46, 47, 48, 49, 50]\n",
            "Lista multipli di 3:  [3, 6, 9, 12, 15, 18, 21, 24, 27, 30, 33, 36, 39, 42, 45, 48]\n"
          ]
        }
      ]
    },
    {
      "cell_type": "markdown",
      "metadata": {
        "id": "EqmYzcueHfyb"
      },
      "source": [
        "**08: Scrivere un programma che permetta all’utente di caricare in una lista una sequenza di numeri che termina con lo 0. Al termine del caricamento, visualizzare la lista.**"
      ]
    },
    {
      "cell_type": "code",
      "metadata": {
        "id": "Q_kCDxfWH8Cf",
        "colab": {
          "base_uri": "https://localhost:8080/"
        },
        "outputId": "afea013c-e4b9-44ba-8ea3-5eeaeff248fc"
      },
      "source": [
        "lista2 = []\n",
        "while True:\n",
        "  num = int(input(\"Inserire un valore: \"))\n",
        "  if num == 0:\n",
        "    break\n",
        "  lista2.append(num)\n",
        "print(lista2)"
      ],
      "execution_count": null,
      "outputs": [
        {
          "output_type": "stream",
          "name": "stdout",
          "text": [
            "Inserire un valore: 5\n",
            "Inserire un valore: 0\n",
            "[5]\n"
          ]
        }
      ]
    },
    {
      "cell_type": "markdown",
      "metadata": {
        "id": "rE-zljDVHncc"
      },
      "source": [
        "**09: Scrivere una funzione lambda chiamata incrementa(x) che incrementa la x di 10 unità. Scrivere poi un programma che carichi una lista di 20 numeri casuali (compresi tra 1 e 100) e applichi la funzione agli elementi della lista appena creata. Visualizzare al termine entrambe le liste.**"
      ]
    },
    {
      "cell_type": "code",
      "metadata": {
        "id": "3FoHWwwXHtJN",
        "colab": {
          "base_uri": "https://localhost:8080/"
        },
        "outputId": "94362eaa-c58d-4333-8bce-9769e3c732bb"
      },
      "source": [
        "import random\n",
        "num = [random.randrange(1, 100, 1) for i in range(20)]\n",
        "incremento = [(lambda x: x+10) (x) for x in num] #incrementa le unità di 10 con un ciclo che comprende tutta la lista\n",
        "print(num)\n",
        "print(incremento)"
      ],
      "execution_count": null,
      "outputs": [
        {
          "output_type": "stream",
          "name": "stdout",
          "text": [
            "[14, 58, 74, 59, 62, 2, 23, 82, 79, 69, 10, 31, 24, 41, 66, 45, 69, 31, 47, 97]\n",
            "[24, 68, 84, 69, 72, 12, 33, 92, 89, 79, 20, 41, 34, 51, 76, 55, 79, 41, 57, 107]\n"
          ]
        }
      ]
    }
  ]
}