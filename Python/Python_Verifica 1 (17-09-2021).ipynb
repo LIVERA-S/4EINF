{
  "nbformat": 4,
  "nbformat_minor": 0,
  "metadata": {
    "colab": {
      "name": "Verifica 1 (17/09/2021)",
      "provenance": [],
      "collapsed_sections": [],
      "include_colab_link": true
    },
    "kernelspec": {
      "name": "python3",
      "display_name": "Python 3"
    },
    "language_info": {
      "name": "python"
    }
  },
  "cells": [
    {
      "cell_type": "markdown",
      "metadata": {
        "id": "view-in-github",
        "colab_type": "text"
      },
      "source": [
        "<a href=\"https://colab.research.google.com/github/LIVERA-S/21-22_INFORMATICA_LIVERA-4EINF/blob/main/Python_Verifica%201%20(17-09-2021).ipynb\" target=\"_parent\"><img src=\"https://colab.research.google.com/assets/colab-badge.svg\" alt=\"Open In Colab\"/></a>"
      ]
    },
    {
      "cell_type": "markdown",
      "metadata": {
        "id": "_XZAVIUK64tC"
      },
      "source": [
        "**ESERCIZIO 1:  Acquisisca dall'utente tre valori, Calcoli la media e la visualizzi**"
      ]
    },
    {
      "cell_type": "code",
      "metadata": {
        "colab": {
          "base_uri": "https://localhost:8080/"
        },
        "id": "AgisLwx060hR",
        "outputId": "65661320-306d-4a4e-a234-b6bf086d71cc"
      },
      "source": [
        "n1 = int(input(\"Inserisci il primo valore: \"))\n",
        "n2 = int(input(\"Inserisci il secondo valore: \"))\n",
        "n3 = int(input(\"Inserisci il terzo valore: \"))\n",
        "media = (n1 + n2 + n3) //3\n",
        "\n",
        "print(\"La media è:\",media)"
      ],
      "execution_count": null,
      "outputs": [
        {
          "output_type": "stream",
          "name": "stdout",
          "text": [
            "Inserisci il primo valore: 2\n",
            "Inserisci il secondo valore: 2\n",
            "Inserisci il terzo valore: 2\n",
            "La media è: 2\n"
          ]
        }
      ]
    },
    {
      "cell_type": "markdown",
      "metadata": {
        "id": "_ftlBND8Akkf"
      },
      "source": [
        "**ESERCIZIO 2:  Acquisisca dall'utente il raggio di un cerchio, calcoli il valore dell'area del cherchio e la visualizzi con due cifre decimali**"
      ]
    },
    {
      "cell_type": "code",
      "metadata": {
        "colab": {
          "base_uri": "https://localhost:8080/"
        },
        "id": "AjbnIuQcA2dG",
        "outputId": "7af90f8f-9386-4abd-b784-8fdebd1ab582"
      },
      "source": [
        "import math\n",
        "#Un altro modo di fare<< PI = 3.14 >>\n",
        "r = int(input(\"inserisci il raggio: \"))\n",
        "#Un altro modo di fare<< area = PI * r * r >>    \n",
        "area = r**2*math.pi\n",
        "print(\"L'area  = %.2f\" %area) #Un altro modo di fare\n",
        "print(round(area,2))"
      ],
      "execution_count": null,
      "outputs": [
        {
          "output_type": "stream",
          "name": "stdout",
          "text": [
            "inserisci il raggio: 2\n",
            "L'area  = 12.57\n",
            "12.57\n"
          ]
        }
      ]
    },
    {
      "cell_type": "markdown",
      "metadata": {
        "id": "OhXzyl46DlnO"
      },
      "source": [
        "** ESERCIZIO 3:  Acquisisca dall'utente il suo nome e cognome e visualizzi il messaggio \"ciao<nome><cognome> con solo le iniziali del nome e del cognome in maiscolo anche se l'utente ha scritto i dati in maiscolo, in minuscolo, in modo alternato e cosi via**"
      ]
    },
    {
      "cell_type": "code",
      "metadata": {
        "colab": {
          "base_uri": "https://localhost:8080/"
        },
        "id": "HPD5g9gSEIRX",
        "outputId": "438dfca8-4cca-4fe2-cc63-e68f87d9fcf6"
      },
      "source": [
        "nomeCognome = input(\"Inserisci il tuo Nome e Cognome\")\n",
        "print(nomeCognome.title())\n",
        "print(nomeCognome.capitalize())\n",
        "print(nomeCognome.split())"
      ],
      "execution_count": null,
      "outputs": [
        {
          "output_type": "stream",
          "name": "stdout",
          "text": [
            "Inserisci il tuo Nome e Cognomeoshada livera\n",
            "Oshada Livera\n",
            "Oshada livera\n",
            "['oshada', 'livera']\n"
          ]
        }
      ]
    },
    {
      "cell_type": "markdown",
      "metadata": {
        "id": "XjbmgUbzFOet"
      },
      "source": [
        "**ESERCIZIO 4:  Acquisisca dall'utente una frase e conti il numero di parole presenti**"
      ]
    },
    {
      "cell_type": "code",
      "metadata": {
        "colab": {
          "base_uri": "https://localhost:8080/"
        },
        "id": "JUjIO0w_FI3-",
        "outputId": "795bbea0-07b1-4114-d75f-71ee04970cde"
      },
      "source": [
        "txt = input(\"Inserisci una frase: \")\n",
        "listaParole = txt.split()\n",
        "print(len(listaParole)) \n",
        "print(len(txt.split())) #Un altro modo di fare"
      ],
      "execution_count": null,
      "outputs": [
        {
          "output_type": "stream",
          "name": "stdout",
          "text": [
            "Inserisci una frase: ciao ciao ciao ciao\n",
            "4\n",
            "4\n"
          ]
        }
      ]
    },
    {
      "cell_type": "code",
      "metadata": {
        "colab": {
          "base_uri": "https://localhost:8080/"
        },
        "id": "9OsiMRLzGXod",
        "outputId": "dbef1ad3-59a4-4858-f72e-adb4539caaab"
      },
      "source": [
        "print(len(input(\"Inserisci una frase: \").split()))"
      ],
      "execution_count": null,
      "outputs": [
        {
          "output_type": "stream",
          "name": "stdout",
          "text": [
            "Inserisci una frase: ciao ciao ciao ciao\n",
            "4\n"
          ]
        }
      ]
    },
    {
      "cell_type": "markdown",
      "metadata": {
        "id": "pJtxwVIVGqut"
      },
      "source": [
        "**ESERCIZIO 5:  Acquisisca dall'utente una fase e visualizzi le parole presenti in ordine alfabetico**"
      ]
    },
    {
      "cell_type": "code",
      "metadata": {
        "colab": {
          "base_uri": "https://localhost:8080/"
        },
        "id": "VEOeT2C7G4b1",
        "outputId": "decbe7a7-b691-4b48-983f-ee09479883b0"
      },
      "source": [
        "txt = input(\"Inserisci una frase: \")\n",
        "listaParole = txt.split()\n",
        "listaParole.sort ()\n",
        "print(listaParole)"
      ],
      "execution_count": null,
      "outputs": [
        {
          "output_type": "stream",
          "name": "stdout",
          "text": [
            "Inserisci una frase: ciao ciao caoj jf \n",
            "['caoj', 'ciao', 'ciao', 'jf']\n"
          ]
        }
      ]
    },
    {
      "cell_type": "markdown",
      "metadata": {
        "id": "b0O--fmZIIsf"
      },
      "source": [
        "**ESERCIZIO 6:  Acquisisca dall'utente una fase e visualizzi le ultime tre parole**"
      ]
    },
    {
      "cell_type": "code",
      "metadata": {
        "colab": {
          "base_uri": "https://localhost:8080/"
        },
        "id": "CL5QC1voIUc3",
        "outputId": "9f18f996-3874-419c-ebdd-b4519eb7c176"
      },
      "source": [
        "txt = \"Acquisisca dall'utente una fase e visualizzi le ultime tre parole\"\n",
        "listaParole = txt.split()\n",
        "print(listaParole)\n",
        "print(listaParole[-3:]) # [0:6:2 ogni due]"
      ],
      "execution_count": null,
      "outputs": [
        {
          "output_type": "stream",
          "name": "stdout",
          "text": [
            "['Acquisisca', \"dall'utente\", 'una', 'fase', 'e', 'visualizzi', 'le', 'ultime', 'tre', 'parole']\n",
            "['ultime', 'tre', 'parole']\n"
          ]
        }
      ]
    },
    {
      "cell_type": "markdown",
      "metadata": {
        "id": "14TcYyl3Kggm"
      },
      "source": [
        "**ESERCIZIO 7:  Acquisisca dall'utente una fase e visualizzi il messaggio \"troppo corta\" se ha meno di 5 parole\" troppo lungo\" ae ha piu di 10 parole e \"ok\" se ha un numero di parole compreso tra 6 e 9.**"
      ]
    },
    {
      "cell_type": "code",
      "metadata": {
        "colab": {
          "base_uri": "https://localhost:8080/"
        },
        "id": "zwmQoEyyKfpO",
        "outputId": "6418e34c-1075-45e6-e192-20c4b087ecd7"
      },
      "source": [
        "txt = input(\"Inserisci una frase: \")\n",
        "listaParole = txt.split()\n",
        "\n",
        "if len(listaParole) <= 5:\n",
        "  print(\"Troppo corta\")\n",
        "elif len(listaParole) >= 10:\n",
        "    print(\"Troppo lunga\")\n",
        "else:\n",
        "  print(\"OK\")"
      ],
      "execution_count": null,
      "outputs": [
        {
          "output_type": "stream",
          "name": "stdout",
          "text": [
            "Inserisci una frase: hg hg hg kd jf hf kd ikf \n",
            "OK\n"
          ]
        }
      ]
    },
    {
      "cell_type": "markdown",
      "metadata": {
        "id": "5pHkKz8l4lce"
      },
      "source": [
        "**ESERCIZIO 8: Acquisisca 10 numeri interi che ne visualizzi la media. Non usare 10 variabili per memorizzare i 10 valori.**"
      ]
    },
    {
      "cell_type": "code",
      "metadata": {
        "id": "7LZ14WD85IEG",
        "colab": {
          "base_uri": "https://localhost:8080/"
        },
        "outputId": "e7404a9c-09c7-47ef-d5d1-cb19e3b8b764"
      },
      "source": [
        "sum = 0 \n",
        "media = 0\n",
        "\n",
        "for numero in range(10):\n",
        "  n = int(input(\"Inserisci un numero Intero: \"))\n",
        "  sum+=n\n",
        "\n",
        "media = sum/10\n",
        "print(\"La media dei numeri è:\",media)"
      ],
      "execution_count": null,
      "outputs": [
        {
          "output_type": "stream",
          "name": "stdout",
          "text": [
            "Inserisci un numero Intero: 2\n",
            "Inserisci un numero Intero: 2\n",
            "Inserisci un numero Intero: 2\n",
            "Inserisci un numero Intero: 2\n",
            "Inserisci un numero Intero: 2\n",
            "Inserisci un numero Intero: 2\n",
            "Inserisci un numero Intero: 2\n",
            "Inserisci un numero Intero: 2\n",
            "Inserisci un numero Intero: 2\n",
            "Inserisci un numero Intero: 2\n",
            "La media dei numeri è: 2.0\n"
          ]
        }
      ]
    },
    {
      "cell_type": "markdown",
      "metadata": {
        "id": "QoyLwgK6-QBM"
      },
      "source": [
        "**ESERCIZIO 9: Scrivere una funziona che restituisca TRUE se un numero è pari, FALSE altrimenti. Utilizzare la funzione per scrivere un programma che permetta di acquisire un numero e, usando la funzione, visualizzi il messaggio \"Pari\" se il numero inserito è pari, \"DISPARI\" altrimenti.**"
      ]
    },
    {
      "cell_type": "code",
      "metadata": {
        "id": "Oq-CQtd3BfaX",
        "colab": {
          "base_uri": "https://localhost:8080/"
        },
        "outputId": "9386a6af-9e73-4107-85ef-d0ac16e9bfef"
      },
      "source": [
        "def evenOdd(n):\n",
        "    if (n % 2 == 0):\n",
        "        return True\n",
        "    else:\n",
        "        return False\n",
        " \n",
        "num = int(input(\"Inserisci un numero: \"))\n",
        "\n",
        "if (evenOdd(num)):\n",
        "    print(\"Il numero\",num,\"è PARI\")\n",
        "else:\n",
        "    print(\"Il numero\",num,\"è DISPARI\")"
      ],
      "execution_count": null,
      "outputs": [
        {
          "output_type": "stream",
          "name": "stdout",
          "text": [
            "Inserisci un numero: 5\n",
            "Il numero 5 è DISPARI\n"
          ]
        }
      ]
    }
  ]
}