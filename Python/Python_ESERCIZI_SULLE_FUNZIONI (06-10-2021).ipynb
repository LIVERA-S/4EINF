{
  "nbformat": 4,
  "nbformat_minor": 0,
  "metadata": {
    "colab": {
      "name": "ESERCIZIO SULLE FUNZIONI (06/10/2021).ipynb",
      "provenance": [],
      "collapsed_sections": [],
      "authorship_tag": "ABX9TyOYtXPC2JiLg8ATmEktE81A",
      "include_colab_link": true
    },
    "kernelspec": {
      "name": "python3",
      "display_name": "Python 3"
    },
    "language_info": {
      "name": "python"
    }
  },
  "cells": [
    {
      "cell_type": "markdown",
      "metadata": {
        "id": "view-in-github",
        "colab_type": "text"
      },
      "source": [
        "<a href=\"https://colab.research.google.com/github/LIVERA-S/21-22_INFORMATICA_LIVERA-4EINF/blob/main/Python_ESERCIZI_SULLE_FUNZIONI%20(06-10-2021).ipynb\" target=\"_parent\"><img src=\"https://colab.research.google.com/assets/colab-badge.svg\" alt=\"Open In Colab\"/></a>"
      ]
    },
    {
      "cell_type": "markdown",
      "metadata": {
        "id": "GkMhKui9L9HO"
      },
      "source": [
        "**1. scrivere una funzione chiamata media che dati due numeri restituisca la media. Utilizzare poi la funzione in un programma che acquisisca dall'utente due numeri e calcoli la media**"
      ]
    },
    {
      "cell_type": "code",
      "metadata": {
        "colab": {
          "base_uri": "https://localhost:8080/"
        },
        "id": "v6IIxAmQLxgF",
        "outputId": "48949781-24ee-4aec-9b88-39a21e848c5a"
      },
      "source": [
        "'''Per dichiarare una funzione in python si usa la parola chiave def, e poi di seguito il nome della funzione e i parametri racchiusi tra parentesi tonde. \n",
        "Dopo si inseriscono i due punti e, a capo, con la dovuta indentazione, il blocco di istruzioni che devono essere eseguite.'''\n",
        "\n",
        "'''e funzioni sono uno strumento che ci permette di raggruppare un insieme di istruzioni che eseguono un compito specifico. Le funzioni accettano in input 0 o più argomenti\n",
        " (o parametri), li elaborano, e restituiscono in output un risultato.'''\n",
        "\n",
        "def media(n):\n",
        "  sum(n)/len(n)\n",
        "n1 = int(input(\"Inserire il primo numero: \"))\n",
        "n2 = int(input(\"Inserire il secondo numero: \"))\n",
        "print((n1+n2)//2)"
      ],
      "execution_count": null,
      "outputs": [
        {
          "output_type": "stream",
          "name": "stdout",
          "text": [
            "Inserire il primo numero: 5\n",
            "Inserire il secondo numero: 1\n",
            "3\n"
          ]
        }
      ]
    },
    {
      "cell_type": "code",
      "metadata": {
        "colab": {
          "base_uri": "https://localhost:8080/"
        },
        "id": "Bb759OOGYTS9",
        "outputId": "e3f9006d-53cc-456c-f6e3-ed5523a6ece5"
      },
      "source": [
        "#COREZZIONE CON I FUNZIONI\n",
        "# Definizione funzioni\n",
        "def media(x,y):\n",
        "  return (x+y)/2\n",
        "#Programma\n",
        "n1 = int(input(\"Inserire il primo numero: \"))\n",
        "n2 = int(input(\"Inserire il secondo numero: \"))\n",
        "print(media(n1,n2))\n"
      ],
      "execution_count": null,
      "outputs": [
        {
          "output_type": "stream",
          "name": "stdout",
          "text": [
            "Inserire il primo numero: 1\n",
            "Inserire il secondo numero: 5\n",
            "3.0\n"
          ]
        }
      ]
    },
    {
      "cell_type": "code",
      "metadata": {
        "colab": {
          "base_uri": "https://localhost:8080/"
        },
        "id": "GNujV02kZ5ft",
        "outputId": "d5eeba7b-cf91-46c6-c06c-610824eb3e5b"
      },
      "source": [
        "#COREZZIONE CON IL LAMBDA FUNTION\n",
        "#LAMBDA : UN MODO PER SCRIVERE BREVE STRUZONI\n",
        "#x,y = parametri formali\n",
        "media = lambda x,y: (x+y)/2\n",
        "n1 = int(input(\"Inserire il primo numero: \"))\n",
        "n2 = int(input(\"Inserire il secondo numero: \"))\n",
        "print(media(n1,n2)) #parametri attuali"
      ],
      "execution_count": null,
      "outputs": [
        {
          "output_type": "stream",
          "name": "stdout",
          "text": [
            "Inserire il primo numero: 1\n",
            "Inserire il secondo numero: 5\n",
            "3.0\n"
          ]
        }
      ]
    },
    {
      "cell_type": "markdown",
      "metadata": {
        "id": "riW7QbZSMHGV"
      },
      "source": [
        "**2. scrivere una funzione chiamata piuCorta che date due liste restituisca la lista con meno elementi. Utilizzare poi la funzione in un programma che acquisisca dall'utente due liste e visualizzi gli elementi della lista più corta.**"
      ]
    },
    {
      "cell_type": "code",
      "metadata": {
        "colab": {
          "base_uri": "https://localhost:8080/"
        },
        "id": "6JApRg5YMJqB",
        "outputId": "15d928df-f257-414d-ac99-351d6eae2f6e"
      },
      "source": [
        "def piuCorta(liste):\n",
        "  if len(lst1) > len(lst2):\n",
        "    return lst1\n",
        "  else:\n",
        "    return lst2\n",
        "lst1 = [int(n) for n in input(\"Inserire i numeri nella prima lista: \").split()] #ciclo che inserisce i numeri inseriti dall'utente nella lista\n",
        "lst2 = [int(n) for n in input(\"Inserire i numeri nella seconda lista: \").split()]\n",
        "if len(lst1) < len(lst2):\n",
        "    print(lst1)\n",
        "else:\n",
        "    print(lst2)"
      ],
      "execution_count": null,
      "outputs": [
        {
          "output_type": "stream",
          "name": "stdout",
          "text": [
            "Inserire i numeri nella prima lista: 12 1 4 5\n",
            "Inserire i numeri nella seconda lista: 1 2 3 45 6 7 8 \n",
            "[12, 1, 4, 5]\n"
          ]
        }
      ]
    },
    {
      "cell_type": "markdown",
      "metadata": {
        "id": "CUpjIJb7MJ_4"
      },
      "source": [
        "**3. scrivere una funzione chiamata costruisciLista che dati due numeri interi restituisca la lista formata da tutti i numeri interi compresi tra i due numeri dati. Utilizzare poi la funzione in un programma che acquisisca dall'utente due numeri e visualizzi la lista formata da tutti i numeri interi compresi tra i due numeri dati ma a partire dal più grande fino al più piccolo.**"
      ]
    },
    {
      "cell_type": "code",
      "metadata": {
        "colab": {
          "base_uri": "https://localhost:8080/"
        },
        "id": "b-4iQZkcMPTB",
        "outputId": "23ccab2a-ccc4-4518-b6ad-b10fe94b4472"
      },
      "source": [
        "def costruisciLista(n):\n",
        "  lst = [(n) for n in range(n1, n2+1)]\n",
        "n1 = int(input(\"Inserire il primo numero: \"))\n",
        "n2 = int(input(\"Inserire il secondo numero: \"))\n",
        "lst1 = [(n) for n in range(n1, n2+1)]\n",
        "lst1\n",
        "print(lst1)"
      ],
      "execution_count": null,
      "outputs": [
        {
          "output_type": "stream",
          "name": "stdout",
          "text": [
            "Inserire il primo numero: 1 \n",
            "Inserire il secondo numero: 5\n",
            "[1, 2, 3, 4, 5]\n"
          ]
        }
      ]
    },
    {
      "cell_type": "markdown",
      "metadata": {
        "id": "mu7I7GdKMP6I"
      },
      "source": [
        "**4. scrivere una funzione chiamata valoreAssoluto che dato un numero restituisca il suo valore assoluto. Utilizzare poi questa funzione per determinare il valore assoluto degli elementi di una lista inserita dall'utente.**\n"
      ]
    },
    {
      "cell_type": "code",
      "metadata": {
        "colab": {
          "base_uri": "https://localhost:8080/"
        },
        "id": "Twsu_SUbMT5f",
        "outputId": "34544db7-e5a4-4bf7-88fe-52602b74eb4f"
      },
      "source": [
        "def valoreAssoluto(n):\n",
        " lst =  [abs(n) for n in lst]\n",
        "lst1 = [int(n) for n in input(\"Inserire i numeri nella prima lista: \").split()]\n",
        "lst1 =  [abs(n) for n in lst1] #un ciclo che considera il valore assoluto dei valori nella lista\n",
        "print(lst1)"
      ],
      "execution_count": null,
      "outputs": [
        {
          "output_type": "stream",
          "name": "stdout",
          "text": [
            "Inserire i numeri nella prima lista: 1 2 3 1 2 3 4 5 6\n",
            "[1, 2, 3, 1, 2, 3, 4, 5, 6]\n"
          ]
        }
      ]
    },
    {
      "cell_type": "markdown",
      "metadata": {
        "id": "Z0GigCw8M1cC"
      },
      "source": [
        "**5. scrivere una funzione chiamata scambia che data una lista scambi il primo elemento con l'ultimo, il secondo con il penultimo e così via. Utilizzare poi la funzione in un programma che acquisisca dall'utente una lista di 10 elementi e li visualizzi scambiati.**"
      ]
    },
    {
      "cell_type": "code",
      "metadata": {
        "id": "2d-sO3dJM5gI"
      },
      "source": [
        ""
      ],
      "execution_count": null,
      "outputs": []
    },
    {
      "cell_type": "markdown",
      "metadata": {
        "id": "qGx_Z0JYM52x"
      },
      "source": [
        "**6. scrivere una funzione lambda che dati due numeri calcoli la loro somma. Utilizzare la funzione in un programma che chieda all'utente due numeri interi e visualizzi la loro somma.**"
      ]
    },
    {
      "cell_type": "code",
      "metadata": {
        "colab": {
          "base_uri": "https://localhost:8080/"
        },
        "id": "ckyYPLBPNAdI",
        "outputId": "ac67d0ef-844d-46bb-8c64-cea5bc4945ec"
      },
      "source": [
        "somma = lambda x,y: x+y\n",
        "n1 = int(input(\"Inserire il primo numero: \"))\n",
        "n2 = int(input(\"Inserire il secondo numero: \"))\n",
        "print(\"Somma:\", somma(n1, n2))"
      ],
      "execution_count": null,
      "outputs": [
        {
          "output_type": "stream",
          "name": "stdout",
          "text": [
            "Inserire il primo numero: 1\n",
            "Inserire il secondo numero: 5\n",
            "Somma: 6\n"
          ]
        }
      ]
    },
    {
      "cell_type": "markdown",
      "metadata": {
        "id": "Z0pLBFuENA3Q"
      },
      "source": [
        "**7. scrivere un programma che utilizzi una lambda function per aumentare di 10 unità tutti gli elementi di una lista di interi inserita dall'utente.**"
      ]
    },
    {
      "cell_type": "code",
      "metadata": {
        "colab": {
          "base_uri": "https://localhost:8080/"
        },
        "id": "9nngWAAkNE94",
        "outputId": "42560c98-d0d9-4b7e-83aa-ea1f91cf0f87"
      },
      "source": [
        "lst1 = [int(n) for n in input(\"Inserire i numeri nella prima lista: \").split()]\n",
        "incremento = [(lambda x: x+10) (x) for x in lst1]\n",
        "print(incremento)"
      ],
      "execution_count": null,
      "outputs": [
        {
          "output_type": "stream",
          "name": "stdout",
          "text": [
            "Inserire i numeri nella prima lista: 1 2 3 4 5 6 7 8 9\n",
            "[11, 12, 13, 14, 15, 16, 17, 18, 19]\n"
          ]
        }
      ]
    },
    {
      "cell_type": "markdown",
      "metadata": {
        "id": "2NgM-6-GNF7M"
      },
      "source": [
        "**8. scrivere una funzione lambda che sostituisca il valore 0 se il parametro è negativo, il valore del parametro se è positivo. Utilizzare poi la funzione in un programma che chieda all'utente i 10 elementi di una lista e visualizzi la lista con il valore 0 al posto dei numeri negativi.**"
      ]
    },
    {
      "cell_type": "code",
      "metadata": {
        "id": "t8jpWIcVNJKo"
      },
      "source": [
        ""
      ],
      "execution_count": null,
      "outputs": []
    },
    {
      "cell_type": "markdown",
      "metadata": {
        "id": "cgF3iqNoNJfE"
      },
      "source": [
        "**9. scrivere un programma che calcoli il fattoriale di un numero utilizzando una lambda function. Provare a realizzare una lambda function ricorsiva (per la ricorsione, google it...)**"
      ]
    },
    {
      "cell_type": "code",
      "metadata": {
        "colab": {
          "base_uri": "https://localhost:8080/"
        },
        "id": "b8likz80NLLC",
        "outputId": "43d40e6a-0448-491b-acad-8c2e3e2065b0"
      },
      "source": [
        "def fattoriale(n):\n",
        "    if n==0:\n",
        "        return 1\n",
        "    else:\n",
        "        return n*fattoriale(n-1)\n",
        "\n",
        "n = int(input('Inserire il numero: '))\n",
        "\n",
        "print ('Il fattoriale è', fattoriale(n))"
      ],
      "execution_count": null,
      "outputs": [
        {
          "output_type": "stream",
          "name": "stdout",
          "text": [
            "Inserire il numero: 5\n",
            "Il fattoriale è 120\n"
          ]
        }
      ]
    }
  ]
}