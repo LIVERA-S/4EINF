{
  "nbformat": 4,
  "nbformat_minor": 0,
  "metadata": {
    "colab": {
      "name": "FUNZIONI PER IL(10.10.2021).ipynb",
      "provenance": [],
      "collapsed_sections": [],
      "authorship_tag": "ABX9TyMcKaNR12T5pZeoPnpI4tm/",
      "include_colab_link": true
    },
    "kernelspec": {
      "name": "python3",
      "display_name": "Python 3"
    },
    "language_info": {
      "name": "python"
    }
  },
  "cells": [
    {
      "cell_type": "markdown",
      "metadata": {
        "id": "view-in-github",
        "colab_type": "text"
      },
      "source": [
        "<a href=\"https://colab.research.google.com/github/LIVERA-S/21-22_INFORMATICA_LIVERA-4EINF/blob/main/Python_FUNZIONI_PerlaVerfica%20(10-10-2021).ipynb\" target=\"_parent\"><img src=\"https://colab.research.google.com/assets/colab-badge.svg\" alt=\"Open In Colab\"/></a>"
      ]
    },
    {
      "cell_type": "markdown",
      "metadata": {
        "id": "kPKXlWC3Alxq"
      },
      "source": [
        "**1. scrivere una funzione chiamata max che dati due numeri restituisca il più grande. Scrivere poi un programma che, utilizzando la funzione creata, trovi il massimo tra tre numeri inseriti dall'utente.**"
      ]
    },
    {
      "cell_type": "code",
      "metadata": {
        "colab": {
          "base_uri": "https://localhost:8080/"
        },
        "id": "MuObYPWIApo4",
        "outputId": "37e62e44-cc5c-47a0-a559-5faccad21cdb"
      },
      "source": [
        "def max(x, y):\n",
        "  if x > y:\n",
        "    return x\n",
        "  else:\n",
        "    return y\n",
        "n1 = int(input(\"Inserire il primo numero: \"))\n",
        "n2 = int(input(\"Inserire il secondo numero: \"))\n",
        "n3 = int(input(\"Inserire il terzo numero: \"))\n",
        "print(max(n1, max(n2,n3)))  \n"
      ],
      "execution_count": null,
      "outputs": [
        {
          "output_type": "stream",
          "name": "stdout",
          "text": [
            "Inserire il primo numero: 1\n",
            "Inserire il secondo numero: 2\n",
            "Inserire il terzo numero: 3\n",
            "3\n"
          ]
        }
      ]
    },
    {
      "cell_type": "code",
      "metadata": {
        "colab": {
          "base_uri": "https://localhost:8080/"
        },
        "id": "kg-Fxc2b2FEc",
        "outputId": "0c0f2441-c03c-4e97-cfd1-454454d7d9a4"
      },
      "source": [
        "#CORREZIONE\n",
        "def max(x, y):\n",
        "  if x > y:\n",
        "    return x\n",
        "  else:\n",
        "    return y\n",
        "    \n",
        "print(max(int(input(\"Inserire il primo numero: \")), max(int(input(\"Inserire il secondo numero: \")), int(input(\"Inserire il terzo numero: \")))))  "
      ],
      "execution_count": null,
      "outputs": [
        {
          "output_type": "stream",
          "name": "stdout",
          "text": [
            "Inserire il primo numero: 1\n",
            "Inserire il secondo numero: 2\n",
            "Inserire il terzo numero: 5\n",
            "5\n"
          ]
        }
      ]
    },
    {
      "cell_type": "markdown",
      "metadata": {
        "id": "fd8iTivjC8GL"
      },
      "source": [
        "**2. scrivere una funzione chiamata sommaLista che data una lista di interi restituisca la somma di tutti gli elementi della lista. Scrivere poi un programma che, utilizzando la funzione create, trovi la somma degli elementi di una lista inserita dall'utente.**"
      ]
    },
    {
      "cell_type": "code",
      "metadata": {
        "id": "J82Tx9_YDDkz"
      },
      "source": [
        "def sommaLista(lst1):\n",
        "  sum = 0\n",
        "  for i in range(0, len(lst1)):\n",
        "    sum = sum + lst1[i]\n",
        "  return sum\n",
        "lst1 = [int(n) for n in input(\"Inserire i valori nella list: \").split()]\n",
        "print(sommaLista(lst1))\n"
      ],
      "execution_count": null,
      "outputs": []
    },
    {
      "cell_type": "code",
      "metadata": {
        "id": "vR4S5c1r2ukb"
      },
      "source": [
        "#CORREZIONE\n",
        "def sommaLista(lst1):\n",
        "  sum = 0\n",
        "  for elemento in lst1:\n",
        "    sum = sum + elemento\n",
        "  return sum\n",
        "lst1 = [int(n) for n in input(\"Inserire i valori nella list: \").split()]\n",
        "print(sommaLista(lst1))\n"
      ],
      "execution_count": null,
      "outputs": []
    },
    {
      "cell_type": "markdown",
      "metadata": {
        "id": "yg5J6PZzPiC1"
      },
      "source": [
        "**3. utilizzando le funzioni create precedentemente, scrivere un programma che permetta all'utente di inserire tre liste e di avere il valore massimo della somma degli elementi delle tre liste.**\n",
        "\n"
      ]
    },
    {
      "cell_type": "code",
      "metadata": {
        "id": "3osjwmWwPzX1",
        "colab": {
          "base_uri": "https://localhost:8080/"
        },
        "outputId": "c7eed4da-31f4-46f7-ab62-2d714a68b962"
      },
      "source": [
        "num1 = sommaLista(list(map(int, input(\"Inserire i valori nella prima lista: \").split())))\n",
        "num2 = sommaLista(list(map(int, input(\"Inserire i valori nella seconda lista: \").split())))\n",
        "num3 = sommaLista(list(map(int, input(\"Inserire i valori nella terza lista: \").split())))\n",
        "an = max(num1, max(num2, num3))\n",
        "print(an)\n"
      ],
      "execution_count": null,
      "outputs": [
        {
          "output_type": "stream",
          "name": "stdout",
          "text": [
            "Inserire i valori nella prima lista: 1 2 3 4 5 6\n",
            "Inserire i valori nella seconda lista: 2 5\n",
            "Inserire i valori nella terza lista: 1 6 \n",
            "21\n"
          ]
        }
      ]
    },
    {
      "cell_type": "markdown",
      "metadata": {
        "id": "dhSuikLWahLQ"
      },
      "source": [
        "**4. scrivere una funzione chiamata controlla che dato un numero e due estremi restituisca True se il numero è compreso tra i due estremi, false altrimenti. Utilizzare poi la funzione per trovare il numero di elementi di una lista di numeri interi (inserita dall'utente) compresi tra due estremi (inseriti anch'essi dall'utente)**"
      ]
    },
    {
      "cell_type": "code",
      "metadata": {
        "colab": {
          "base_uri": "https://localhost:8080/"
        },
        "id": "4ATZnNZialpo",
        "outputId": "5143cea0-495b-4a61-9333-52ba2e86503e"
      },
      "source": [
        "def controlla(n, e1, e2):\n",
        "  if  e1 < n < e2:\n",
        "    return True\n",
        "  else:\n",
        "    return False\n",
        "    \n",
        "n = int(input(\"Inserire un valore: \"))\n",
        "min = int(input(\"Inserire l'estremo minore: \"))\n",
        "mag = int(input(\"Inserire l'estremo maggiore: \"))\n",
        "print(controlla(n, min, mag))"
      ],
      "execution_count": null,
      "outputs": [
        {
          "output_type": "stream",
          "name": "stdout",
          "text": [
            "Inserire un valore: 1 \n",
            "Inserire l'estremo minore: 5\n",
            "Inserire l'estremo maggiore: 10\n",
            "False\n"
          ]
        }
      ]
    },
    {
      "cell_type": "code",
      "metadata": {
        "colab": {
          "base_uri": "https://localhost:8080/"
        },
        "id": "skWZXOzt3iq0",
        "outputId": "7fdbc28a-6b51-43b5-d9e7-8fc70d1fa573"
      },
      "source": [
        "#MAP\n",
        "radoppia = lambda x: x*2\n",
        "#pari = lambda x: True if x%2==0 else False\n",
        "pari = lambda x: x%2==0\n",
        "lst = [int(i) for i in range(0, 11)]\n",
        "print(lst)\n",
        "lst2 = list(map(radoppia, lst))\n",
        "print(lst2)\n",
        "lst3 = list(map(str, lst))\n",
        "print(lst3)\n",
        "lst4 = list(filter(pari, lst))\n",
        "print(lst4) #filter applica funziona \n",
        "# Applica tutti elementi dalla funzione \n",
        "# Filter filtra gli elementi della lista poi fa passare quelli che suddisfattono "
      ],
      "execution_count": null,
      "outputs": [
        {
          "output_type": "stream",
          "name": "stdout",
          "text": [
            "[0, 1, 2, 3, 4, 5, 6, 7, 8, 9, 10]\n",
            "[0, 2, 4, 6, 8, 10, 12, 14, 16, 18, 20]\n",
            "['0', '1', '2', '3', '4', '5', '6', '7', '8', '9', '10']\n",
            "[0, 2, 4, 6, 8, 10]\n"
          ]
        }
      ]
    },
    {
      "cell_type": "markdown",
      "metadata": {
        "id": "f0j7BA5sziD7"
      },
      "source": [
        "**5. utilizzare la funzione controlla creata precedentemente per scrivere un programma che, data una lista di numeri interi inserita  dall'utente, carichi in un'altra lista i numeri compresi tra due estremi inseriti anch'essi dall'utente.**"
      ]
    },
    {
      "cell_type": "code",
      "metadata": {
        "id": "l01hMeeDzlZj",
        "colab": {
          "base_uri": "https://localhost:8080/"
        },
        "outputId": "64bc67f2-e70b-40a4-b0cd-ae4c4e3430e2"
      },
      "source": [
        "lst1 = [int(n) for n in input(\"Inserire i valori nella lista: \").split()]\n",
        "lst2 = []\n",
        "e1 = int(input(\"Inserire l'estremo minore: \"))\n",
        "e2 = int(input(\"Inserire l'estremo maggiore: \"))\n",
        "for el in lst1:\n",
        "  if controlla(el, e1, e2):\n",
        "    lst2.append(el)\n",
        "print(lst2)"
      ],
      "execution_count": null,
      "outputs": [
        {
          "output_type": "stream",
          "name": "stdout",
          "text": [
            "Inserire i valori nella lista: 1 7 10 28 45\n",
            "Inserire l'estremo minore: 9\n",
            "Inserire l'estremo maggiore: 30\n",
            "[10, 28]\n"
          ]
        }
      ]
    },
    {
      "cell_type": "markdown",
      "metadata": {
        "id": "q59At5sojcX5"
      },
      "source": [
        "**6. scrivere una funzione chiamata confrontaListe che date due liste restituisca True se le due liste sono uguali, False altrimenti. Utilizzare poi la funzione in un programma che dica se una lista di interi è palindroma, cioè se può essere letta indifferentemente da sinistra a destra e da destra a sinistra. Ad esempio la lista [1, 2, 3, 4, 3, 2, 1] è palindroma, la lista [1, 2, 3, 4, 3,1, 2] non lo è.**\n"
      ]
    },
    {
      "cell_type": "code",
      "metadata": {
        "id": "x94MU3xxjdNU",
        "colab": {
          "base_uri": "https://localhost:8080/"
        },
        "outputId": "bf61b1c6-cd95-4e2d-b7ad-cd56c77cd8af"
      },
      "source": [
        "def confrontaListe(lst, lst1):\n",
        "  for i in range(0, len(lst)):\n",
        "    if lst(i) == lst1(i):\n",
        "      return True\n",
        "    else:\n",
        "      return False\n",
        "lst = [int(n) for n in input(\"Inserire i valori nella lista: \").split()]\n",
        "if lst == lst[:: -1]:\n",
        "  print(lst, \"Palindroma\")\n",
        "else:\n",
        "  print(lst, \"Non palindroma\")"
      ],
      "execution_count": null,
      "outputs": [
        {
          "output_type": "stream",
          "name": "stdout",
          "text": [
            "Inserire i valori nella lista: 1 2 3 2 1\n",
            "[1, 2, 3, 2, 1] Palindroma\n"
          ]
        }
      ]
    },
    {
      "cell_type": "code",
      "metadata": {
        "colab": {
          "base_uri": "https://localhost:8080/"
        },
        "id": "Rl8IKo5d-GZt",
        "outputId": "dcf95085-5950-4abf-b5bb-17a3b566651f"
      },
      "source": [
        "#CORREZIONE\n",
        "def confrontaListe(lst, lst1):\n",
        "  return lst1 == lst\n",
        "lst = [int(n) for n in input(\"Inserire i valori nella lista: \").split()]\n",
        "\n",
        "if confrontaListe(lst, lst[:: -1]):\n",
        "  print(lst, \"Palindroma\")\n",
        "else:\n",
        "  print(lst, \"Non palindroma\")"
      ],
      "execution_count": null,
      "outputs": [
        {
          "output_type": "stream",
          "name": "stdout",
          "text": [
            "Inserire i valori nella lista: 1 2 3 5 4 1\n",
            "[1, 2, 3, 5, 4, 1] Non palindroma\n"
          ]
        }
      ]
    },
    {
      "cell_type": "markdown",
      "metadata": {
        "id": "qziqmZ7pjdiM"
      },
      "source": [
        "**7. scrivere una funzione chiamata celsiusToFahrenheit che data una temperatura in gradi Celsius restituisca il valore convertito in gradi Fahrenheit (per ulteriori info, google it). Scrivere poi un programma che data una lista di temperature in gradi Celsius,inserita dall'utente, converta tutte le temperature in gradi Fahrenheit.**\n"
      ]
    },
    {
      "cell_type": "code",
      "metadata": {
        "id": "r8pp8X72jenU",
        "colab": {
          "base_uri": "https://localhost:8080/"
        },
        "outputId": "8a28721c-39c9-42f3-d288-cb7ad93e2daf"
      },
      "source": [
        "def celsiusToFarenheit(x):\n",
        "    return 9.0/5.0 * x + 32\n",
        "lst = [int(n) for n in input(\"Inserire i valori nella lista: \").split()]\n",
        "for i in range(1, len(lst)+1):\n",
        "  print(\"Celsius: \", lst[i-1], \", Fahrenheit: \", celsiusToFarenheit(lst[i-1]))"
      ],
      "execution_count": null,
      "outputs": [
        {
          "output_type": "stream",
          "name": "stdout",
          "text": [
            "Inserire i valori nella lista: 10 20 30\n",
            "Celsius:  10 , Fahrenheit:  50.0\n",
            "Celsius:  20 , Fahrenheit:  68.0\n",
            "Celsius:  30 , Fahrenheit:  86.0\n"
          ]
        }
      ]
    },
    {
      "cell_type": "code",
      "metadata": {
        "colab": {
          "base_uri": "https://localhost:8080/",
          "height": 231
        },
        "id": "YDFNlfYDAbmu",
        "outputId": "3e820e3e-b3b5-4bc2-d774-8f703c0b38cc"
      },
      "source": [
        "def celsiusToFarenheit(x):\n",
        "    return (9/5) * x + 32\n",
        "lst = [int(n) for n in input(\"Inserire i valori nella lista: \").split()]\n"
      ],
      "execution_count": null,
      "outputs": [
        {
          "name": "stdout",
          "output_type": "stream",
          "text": [
            "Inserire i valori nella lista: 10\n"
          ]
        },
        {
          "output_type": "error",
          "ename": "NameError",
          "evalue": "ignored",
          "traceback": [
            "\u001b[0;31m---------------------------------------------------------------------------\u001b[0m",
            "\u001b[0;31mNameError\u001b[0m                                 Traceback (most recent call last)",
            "\u001b[0;32m<ipython-input-5-bcfba994b857>\u001b[0m in \u001b[0;36m<module>\u001b[0;34m()\u001b[0m\n\u001b[1;32m      2\u001b[0m     \u001b[0;32mreturn\u001b[0m \u001b[0;34m(\u001b[0m\u001b[0;36m9\u001b[0m\u001b[0;34m/\u001b[0m\u001b[0;36m5\u001b[0m\u001b[0;34m)\u001b[0m \u001b[0;34m*\u001b[0m \u001b[0mx\u001b[0m \u001b[0;34m+\u001b[0m \u001b[0;36m32\u001b[0m\u001b[0;34m\u001b[0m\u001b[0;34m\u001b[0m\u001b[0m\n\u001b[1;32m      3\u001b[0m \u001b[0mlst\u001b[0m \u001b[0;34m=\u001b[0m \u001b[0;34m[\u001b[0m\u001b[0mint\u001b[0m\u001b[0;34m(\u001b[0m\u001b[0mn\u001b[0m\u001b[0;34m)\u001b[0m \u001b[0;32mfor\u001b[0m \u001b[0mn\u001b[0m \u001b[0;32min\u001b[0m \u001b[0minput\u001b[0m\u001b[0;34m(\u001b[0m\u001b[0;34m\"Inserire i valori nella lista: \"\u001b[0m\u001b[0;34m)\u001b[0m\u001b[0;34m.\u001b[0m\u001b[0msplit\u001b[0m\u001b[0;34m(\u001b[0m\u001b[0;34m)\u001b[0m\u001b[0;34m]\u001b[0m\u001b[0;34m\u001b[0m\u001b[0;34m\u001b[0m\u001b[0m\n\u001b[0;32m----> 4\u001b[0;31m \u001b[0mlst2\u001b[0m \u001b[0;34m=\u001b[0m \u001b[0mlist\u001b[0m\u001b[0;34m(\u001b[0m\u001b[0mmap\u001b[0m\u001b[0;34m(\u001b[0m\u001b[0mx\u001b[0m\u001b[0;34m,\u001b[0m \u001b[0mlst\u001b[0m\u001b[0;34m)\u001b[0m\u001b[0;34m)\u001b[0m\u001b[0;34m\u001b[0m\u001b[0;34m\u001b[0m\u001b[0m\n\u001b[0m\u001b[1;32m      5\u001b[0m \u001b[0mprint\u001b[0m\u001b[0;34m(\u001b[0m\u001b[0mlst2\u001b[0m\u001b[0;34m)\u001b[0m\u001b[0;34m\u001b[0m\u001b[0;34m\u001b[0m\u001b[0m\n",
            "\u001b[0;31mNameError\u001b[0m: name 'x' is not defined"
          ]
        }
      ]
    },
    {
      "cell_type": "markdown",
      "metadata": {
        "id": "1djCPN-6ytMX"
      },
      "source": [
        "**8. scrivere una funzione chiamata IMC che calcoli l'Indice di Massa Corporea a partire dal peso (in kg) e dall'altezza (in m). Utilizzare poi la funzione per scrivere un programma che date tre liste, contenente la prima una serie di nomi, la seconda una serie di pesi e la terza una serie di altezze, produca una quarta lista contenente i valori di IMC corrispondenti. Visualizzare poi i risultati nel seguente modo: \"<nome> pesa <peso kg, misura <altezza> m ed ha un IMC di <IMC>\" ( i valori nelle parentesi angolari vanno presi ovviamente dalle liste)**\n"
      ]
    },
    {
      "cell_type": "code",
      "metadata": {
        "id": "5pmQ3kVhyxIj",
        "colab": {
          "base_uri": "https://localhost:8080/"
        },
        "outputId": "036bd579-9592-4410-8360-b4896d2956d6"
      },
      "source": [
        "def IMC(x, y):\n",
        "  return x/(y*y)\n",
        "nomi = ['Paolo', 'Kavin', 'Livera', 'Ciao']\n",
        "pesi = [68, 49, 87, 50]\n",
        "altezze = [1.79, 1.60, 1.96, 1.63]\n",
        "for i in range(0, len(nomi)):\n",
        "  print(nomi[i], 'pesa', pesi[i], 'kg, misura', altezze[i], 'ed ha un IMC di', IMC(pesi[i], altezze[i]))"
      ],
      "execution_count": null,
      "outputs": [
        {
          "output_type": "stream",
          "name": "stdout",
          "text": [
            "Paolo pesa 68 kg, misura 1.79 ed ha un IMC di 21.22280827689523\n",
            "Kavin pesa 49 kg, misura 1.6 ed ha un IMC di 19.140624999999996\n",
            "Livera pesa 87 kg, misura 1.96 ed ha un IMC di 22.646813827571847\n",
            "Ciao pesa 50 kg, misura 1.63 ed ha un IMC di 18.818924310286427\n"
          ]
        }
      ]
    },
    {
      "cell_type": "markdown",
      "metadata": {
        "id": "wYie_jEAyxh6"
      },
      "source": [
        "**9: scrivere una lambda function per estrarre da una lista di numeri interi tutti i valori pari.**"
      ]
    },
    {
      "cell_type": "code",
      "metadata": {
        "id": "4ih4tEiZy1T2",
        "colab": {
          "base_uri": "https://localhost:8080/"
        },
        "outputId": "8d27f663-2cbc-4997-c31e-2ac592a76520"
      },
      "source": [
        "lst = [int(n) for n in input(\"Inserire i valori nella lista: \").split()]\n",
        "pari = list(filter(lambda n: (n % 2 == 0), lst))\n",
        "print(pari)"
      ],
      "execution_count": null,
      "outputs": [
        {
          "output_type": "stream",
          "name": "stdout",
          "text": [
            "Inserire i valori nella lista: 1 2 3 4 5 6\n",
            "[2, 4, 6]\n"
          ]
        }
      ]
    }
  ]
}